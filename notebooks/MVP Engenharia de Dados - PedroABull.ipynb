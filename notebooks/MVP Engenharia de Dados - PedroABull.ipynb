{
 "cells": [
  {
   "cell_type": "markdown",
   "metadata": {
    "application/vnd.databricks.v1+cell": {
     "cellMetadata": {
      "byteLimit": 2048000,
      "rowLimit": 10000
     },
     "inputWidgets": {},
     "nuid": "3c95ba9d-0a5b-488d-8a41-acfedff0a9a9",
     "showTitle": false,
     "tableResultSettingsMap": {},
     "title": ""
    }
   },
   "source": [
    "# Engenharia de Dados Aplicada: Vendas e Perfil de Clientes no Mercado de Ciclismo"
   ]
  },
  {
   "cell_type": "markdown",
   "metadata": {
    "application/vnd.databricks.v1+cell": {
     "cellMetadata": {
      "byteLimit": 2048000,
      "rowLimit": 10000
     },
     "inputWidgets": {},
     "nuid": "5f8e2da9-cef4-4d03-aa2b-e0142ac6e18a",
     "showTitle": false,
     "tableResultSettingsMap": {},
     "title": ""
    }
   },
   "source": [
    "- **Objetivo inicial definido**: Avaliar o comportamento e a evolução do mercado de bicicletas ao longo dos anos.\n",
    "\n",
    "  - Perguntas a serem respondidas:\n",
    "    - Quais tipos de produtos e/ou categoria movimentam mais o mercado?\n",
    "    - Como o comportamento de compra varia entre diferentes perfis de clientes?\n",
    "    - Em quais tipos de produtos a empresa deve investir?\n",
    "    - Quais países representam os maiores mercados para a empresa?"
   ]
  },
  {
   "cell_type": "markdown",
   "metadata": {
    "application/vnd.databricks.v1+cell": {
     "cellMetadata": {
      "byteLimit": 2048000,
      "rowLimit": 10000
     },
     "inputWidgets": {},
     "nuid": "9aa42a9c-0933-42c0-b4b2-c1c73b2757ee",
     "showTitle": false,
     "tableResultSettingsMap": {},
     "title": ""
    }
   },
   "source": [
    "# 1. Busca pelos Dados: \n",
    "- Este MPV tem como objetivo simular a situação de uma empresa do setor de comércio de bicicletas e acessórios esportivos que atua em diversas regiões do mundo, utilizando análise de dados para definição de estratégias para a expansão da empresa. Por fim, espera-se demonstrar o poder da engenharia e análise de dados aplicados ao suporte de decisões de negócio, em um contexto que simula os desafios reais enfrentados por empresas *data driven*.\n",
    "\n",
    "- **Link da fonte de dados original**: https://www.kaggle.com/datasets/sadiqshah/bike-sales-in-europe\n"
   ]
  },
  {
   "cell_type": "markdown",
   "metadata": {
    "application/vnd.databricks.v1+cell": {
     "cellMetadata": {
      "byteLimit": 2048000,
      "rowLimit": 10000
     },
     "inputWidgets": {},
     "nuid": "5d3e730a-a103-4e42-acdc-cd472455fe48",
     "showTitle": false,
     "tableResultSettingsMap": {},
     "title": ""
    }
   },
   "source": [
    "# 2. Coleta\n",
    "\n",
    "- A etapa de coleta deste MVP se deu única e exclusivamente pelo armazenamento dos dados brutos no ambiente DBFS (Databricks File System) do databricks."
   ]
  },
  {
   "cell_type": "markdown",
   "metadata": {
    "application/vnd.databricks.v1+cell": {
     "cellMetadata": {
      "byteLimit": 2048000,
      "rowLimit": 10000
     },
     "inputWidgets": {},
     "nuid": "63097b7e-ff6a-42fc-acbd-f621c8420057",
     "showTitle": false,
     "tableResultSettingsMap": {},
     "title": ""
    }
   },
   "source": [
    "# 3. Modelagem\n",
    "- A descrição detalhada com diagramas de modelagem, catálogo de dados e demais informações está no arquivo **readme** do repositório do projeto no Github.\n",
    "\n",
    "- O modelo de dados definido para o problema foi o **SnowFlake**. Essa escolha se deu principalmente para evitar a repetição desnecessária de dados e manter a integridade, facilidade de manutenção e a escalabilidade, pensando que esses dados tendem a crescer com o tempo, tanto em dados históricos mas também em número de produtos e regiões. Além disso, apesar de envolver mais joins que um modelo em estrela, o **SnowFlake** é eficiente em ambientes de Data Warehouse modernos, como o Databricks, que são otimizados para trabalhar com tabelas normalizadas e grandes volumes de dados.\n",
    "\n",
    "- O primeiro passo foi desenvolver a modelagem conceitual dos dados definindo a dinâmica de relacionamento das diferentes informações contidas na base de dados original. Uma particularidade desse modelo é que as informações de clientes que realizaram compra encontram-se agrupadas, ou seja, a granularidade máxima desses atributos é dada como grupos de clientes por idade e por sexo. Sendo assim, uma cidade pode conter 1 ou n grupos de clientes, assim como um grupo de clientes pode estar em uma ou n cidades. \n",
    "\n",
    "- Em seguida, foi feita a modelagem lógica das entidades e relacionamentos, onde foram definidas quais as colunas devem estar contidas em cada tabela e quais são as chaves primárias e extrangeiras para cruzar as informações. \n",
    "\n",
    "- Por fim, foram definidas as seguintas tabelas para a camada gold do Data Warehouse:\n",
    "  - **FactSales**: Tabela fato de vendas \n",
    "  - **DimProducts**: Tabela dimensão de produtos\n",
    "  - **DimCustomers**: Tabela dimensão de clientes\n",
    "  - **DimRegion**: Tabela dimensão de regiões de venda\n"
   ]
  },
  {
   "cell_type": "markdown",
   "metadata": {
    "application/vnd.databricks.v1+cell": {
     "cellMetadata": {
      "byteLimit": 2048000,
      "rowLimit": 10000
     },
     "inputWidgets": {},
     "nuid": "aeb3e092-4e67-4d55-b3c7-ad9d9b6a2b90",
     "showTitle": false,
     "tableResultSettingsMap": {},
     "title": ""
    }
   },
   "source": [
    "# 4. Carga"
   ]
  },
  {
   "cell_type": "markdown",
   "metadata": {
    "application/vnd.databricks.v1+cell": {
     "cellMetadata": {
      "byteLimit": 2048000,
      "rowLimit": 10000
     },
     "inputWidgets": {},
     "nuid": "0df0121d-59e6-420f-acb8-79e07c03fdef",
     "showTitle": false,
     "tableResultSettingsMap": {},
     "title": ""
    }
   },
   "source": [
    "- A etapa de Carga compõe a carga dos dados para o Data Warehouse e o processo de ETL (Extract, Transform, Load), sendo responsável por importar, tratar e organizar os dados da base bruta, estruturando-os de maneira adequada para análises. O processo foi dividido em três camadas principais, seguindo a arquitetura em camadas (bronze, silver e gold)\n",
    "\n",
    "- **Camada bronze**: o arquivo original da fonte de dados foi carregado diretamente para o ambiente do Databricks usando PySpark. O conteúdo foi lido como um DataFrame e salvo no formato **Delta Lake** para garantir confiabilidade nas transações e uma melhor performance das consultas.\n",
    "\n",
    "- **Camada silver**: tratamento, limpeza, padronização e validação da qualidade dos dados presentes na camada bronze. Abaixo estão as validações de *Data Quality* que foram aplicadas nessa camada.\n",
    "  - Compatibilidade dos tipos de dados por coluna\n",
    "  - Verificação de Duplicatas\n",
    "  - Verificação de Nulos\n",
    "\n",
    "- **Camada gold**: nessa camada foram salvos os dados consolidados, agregados e modelados para consumo analítico, como já detalhado no item 3."
   ]
  },
  {
   "cell_type": "code",
   "execution_count": 0,
   "metadata": {
    "application/vnd.databricks.v1+cell": {
     "cellMetadata": {
      "byteLimit": 2048000,
      "rowLimit": 10000
     },
     "inputWidgets": {},
     "nuid": "9c38e008-9477-4c48-beb1-b6bd0f331364",
     "showTitle": true,
     "tableResultSettingsMap": {},
     "title": "Importando os dados de vendas"
    }
   },
   "outputs": [],
   "source": [
    "# Importando a base de dados\n",
    "url = 'dbfs:/FileStore/tables/Sales.csv'\n",
    "dataframe_raw = spark.read.csv(url, header = True, inferSchema = True)"
   ]
  },
  {
   "cell_type": "code",
   "execution_count": 0,
   "metadata": {
    "application/vnd.databricks.v1+cell": {
     "cellMetadata": {
      "byteLimit": 2048000,
      "implicitDf": true,
      "rowLimit": 10000
     },
     "inputWidgets": {},
     "nuid": "779c7643-1355-4cca-9c2c-c36ff3275934",
     "showTitle": true,
     "tableResultSettingsMap": {},
     "title": "Criando a camada bronze do Data Lake"
    }
   },
   "outputs": [
    {
     "output_type": "display_data",
     "data": {
      "text/html": [
       "<style scoped>\n",
       "  .table-result-container {\n",
       "    max-height: 300px;\n",
       "    overflow: auto;\n",
       "  }\n",
       "  table, th, td {\n",
       "    border: 1px solid black;\n",
       "    border-collapse: collapse;\n",
       "  }\n",
       "  th, td {\n",
       "    padding: 5px;\n",
       "  }\n",
       "  th {\n",
       "    text-align: left;\n",
       "  }\n",
       "</style><div class='table-result-container'><table class='table-result'><thead style='background-color: white'><tr></tr></thead><tbody></tbody></table></div>"
      ]
     },
     "metadata": {
      "application/vnd.databricks.v1+output": {
       "addedWidgets": {},
       "aggData": [],
       "aggError": "",
       "aggOverflow": false,
       "aggSchema": [],
       "aggSeriesLimitReached": false,
       "aggType": "",
       "arguments": {},
       "columnCustomDisplayInfos": {},
       "data": [],
       "datasetInfos": [],
       "dbfsResultPath": null,
       "isJsonSchema": true,
       "metadata": {},
       "overflow": false,
       "plotOptions": {
        "customPlotOptions": {},
        "displayType": "table",
        "pivotAggregation": null,
        "pivotColumns": null,
        "xColumns": null,
        "yColumns": null
       },
       "removedWidgets": [],
       "schema": [],
       "type": "table"
      }
     },
     "output_type": "display_data"
    }
   ],
   "source": [
    "%sql \n",
    "-- Criando a camada bronze\n",
    "DROP DATABASE IF EXISTS bronze CASCADE;\n",
    "CREATE DATABASE bronze;"
   ]
  },
  {
   "cell_type": "code",
   "execution_count": 0,
   "metadata": {
    "application/vnd.databricks.v1+cell": {
     "cellMetadata": {
      "byteLimit": 2048000,
      "rowLimit": 10000
     },
     "inputWidgets": {},
     "nuid": "1a4415d0-c61b-4dfa-993e-d5f52e0a6214",
     "showTitle": true,
     "tableResultSettingsMap": {},
     "title": "Salvando os dados brutos na camada bronze do Data Lake"
    }
   },
   "outputs": [],
   "source": [
    "# Salvando os dados brutos na camada bronze\n",
    "dataframe_raw.write.format(\"delta\").mode(\"overwrite\").saveAsTable(\"bronze.sales_data\")"
   ]
  },
  {
   "cell_type": "code",
   "execution_count": 0,
   "metadata": {
    "application/vnd.databricks.v1+cell": {
     "cellMetadata": {
      "byteLimit": 2048000,
      "implicitDf": true,
      "rowLimit": 10000
     },
     "inputWidgets": {},
     "nuid": "caf592fa-c7eb-4700-9e1e-113f1a0c2a90",
     "showTitle": true,
     "tableResultSettingsMap": {},
     "title": "Checando as 5 primeiras linhas da base armazenada na camada bronze"
    }
   },
   "outputs": [
    {
     "output_type": "display_data",
     "data": {
      "text/html": [
       "<style scoped>\n",
       "  .table-result-container {\n",
       "    max-height: 300px;\n",
       "    overflow: auto;\n",
       "  }\n",
       "  table, th, td {\n",
       "    border: 1px solid black;\n",
       "    border-collapse: collapse;\n",
       "  }\n",
       "  th, td {\n",
       "    padding: 5px;\n",
       "  }\n",
       "  th {\n",
       "    text-align: left;\n",
       "  }\n",
       "</style><div class='table-result-container'><table class='table-result'><thead style='background-color: white'><tr><th>Date</th><th>Day</th><th>Month</th><th>Year</th><th>Customer_Age</th><th>Age_Group</th><th>Customer_Gender</th><th>Country</th><th>State</th><th>Product_Category</th><th>Sub_Category</th><th>Product</th><th>Order_Quantity</th><th>Unit_Cost</th><th>Unit_Price</th><th>Profit</th><th>Cost</th><th>Revenue</th></tr></thead><tbody><tr><td>2013-11-26</td><td>26</td><td>November</td><td>2013</td><td>19</td><td>Youth (<25)</td><td>M</td><td>Canada</td><td>British Columbia</td><td>Accessories</td><td>Bike Racks</td><td>Hitch Rack - 4-Bike</td><td>8</td><td>45</td><td>120</td><td>590</td><td>360</td><td>950</td></tr><tr><td>2015-11-26</td><td>26</td><td>November</td><td>2015</td><td>19</td><td>Youth (<25)</td><td>M</td><td>Canada</td><td>British Columbia</td><td>Accessories</td><td>Bike Racks</td><td>Hitch Rack - 4-Bike</td><td>8</td><td>45</td><td>120</td><td>590</td><td>360</td><td>950</td></tr><tr><td>2014-03-23</td><td>23</td><td>March</td><td>2014</td><td>49</td><td>Adults (35-64)</td><td>M</td><td>Australia</td><td>New South Wales</td><td>Accessories</td><td>Bike Racks</td><td>Hitch Rack - 4-Bike</td><td>23</td><td>45</td><td>120</td><td>1366</td><td>1035</td><td>2401</td></tr><tr><td>2016-03-23</td><td>23</td><td>March</td><td>2016</td><td>49</td><td>Adults (35-64)</td><td>M</td><td>Australia</td><td>New South Wales</td><td>Accessories</td><td>Bike Racks</td><td>Hitch Rack - 4-Bike</td><td>20</td><td>45</td><td>120</td><td>1188</td><td>900</td><td>2088</td></tr><tr><td>2014-05-15</td><td>15</td><td>May</td><td>2014</td><td>47</td><td>Adults (35-64)</td><td>F</td><td>Australia</td><td>New South Wales</td><td>Accessories</td><td>Bike Racks</td><td>Hitch Rack - 4-Bike</td><td>4</td><td>45</td><td>120</td><td>238</td><td>180</td><td>418</td></tr></tbody></table></div>"
      ]
     },
     "metadata": {
      "application/vnd.databricks.v1+output": {
       "addedWidgets": {},
       "aggData": [],
       "aggError": "",
       "aggOverflow": false,
       "aggSchema": [],
       "aggSeriesLimitReached": false,
       "aggType": "",
       "arguments": {},
       "columnCustomDisplayInfos": {},
       "data": [
        [
         "2013-11-26",
         26,
         "November",
         2013,
         19,
         "Youth (<25)",
         "M",
         "Canada",
         "British Columbia",
         "Accessories",
         "Bike Racks",
         "Hitch Rack - 4-Bike",
         8,
         45,
         120,
         590,
         360,
         950
        ],
        [
         "2015-11-26",
         26,
         "November",
         2015,
         19,
         "Youth (<25)",
         "M",
         "Canada",
         "British Columbia",
         "Accessories",
         "Bike Racks",
         "Hitch Rack - 4-Bike",
         8,
         45,
         120,
         590,
         360,
         950
        ],
        [
         "2014-03-23",
         23,
         "March",
         2014,
         49,
         "Adults (35-64)",
         "M",
         "Australia",
         "New South Wales",
         "Accessories",
         "Bike Racks",
         "Hitch Rack - 4-Bike",
         23,
         45,
         120,
         1366,
         1035,
         2401
        ],
        [
         "2016-03-23",
         23,
         "March",
         2016,
         49,
         "Adults (35-64)",
         "M",
         "Australia",
         "New South Wales",
         "Accessories",
         "Bike Racks",
         "Hitch Rack - 4-Bike",
         20,
         45,
         120,
         1188,
         900,
         2088
        ],
        [
         "2014-05-15",
         15,
         "May",
         2014,
         47,
         "Adults (35-64)",
         "F",
         "Australia",
         "New South Wales",
         "Accessories",
         "Bike Racks",
         "Hitch Rack - 4-Bike",
         4,
         45,
         120,
         238,
         180,
         418
        ]
       ],
       "datasetInfos": [],
       "dbfsResultPath": null,
       "isJsonSchema": true,
       "metadata": {},
       "overflow": false,
       "plotOptions": {
        "customPlotOptions": {},
        "displayType": "table",
        "pivotAggregation": null,
        "pivotColumns": null,
        "xColumns": null,
        "yColumns": null
       },
       "removedWidgets": [],
       "schema": [
        {
         "metadata": "{\"__detected_date_formats\":\"yyyy-M-d\"}",
         "name": "Date",
         "type": "\"date\""
        },
        {
         "metadata": "{}",
         "name": "Day",
         "type": "\"integer\""
        },
        {
         "metadata": "{}",
         "name": "Month",
         "type": "\"string\""
        },
        {
         "metadata": "{}",
         "name": "Year",
         "type": "\"integer\""
        },
        {
         "metadata": "{}",
         "name": "Customer_Age",
         "type": "\"integer\""
        },
        {
         "metadata": "{}",
         "name": "Age_Group",
         "type": "\"string\""
        },
        {
         "metadata": "{}",
         "name": "Customer_Gender",
         "type": "\"string\""
        },
        {
         "metadata": "{}",
         "name": "Country",
         "type": "\"string\""
        },
        {
         "metadata": "{}",
         "name": "State",
         "type": "\"string\""
        },
        {
         "metadata": "{}",
         "name": "Product_Category",
         "type": "\"string\""
        },
        {
         "metadata": "{}",
         "name": "Sub_Category",
         "type": "\"string\""
        },
        {
         "metadata": "{}",
         "name": "Product",
         "type": "\"string\""
        },
        {
         "metadata": "{}",
         "name": "Order_Quantity",
         "type": "\"integer\""
        },
        {
         "metadata": "{}",
         "name": "Unit_Cost",
         "type": "\"integer\""
        },
        {
         "metadata": "{}",
         "name": "Unit_Price",
         "type": "\"integer\""
        },
        {
         "metadata": "{}",
         "name": "Profit",
         "type": "\"integer\""
        },
        {
         "metadata": "{}",
         "name": "Cost",
         "type": "\"integer\""
        },
        {
         "metadata": "{}",
         "name": "Revenue",
         "type": "\"integer\""
        }
       ],
       "type": "table"
      }
     },
     "output_type": "display_data"
    }
   ],
   "source": [
    "%sql \n",
    "-- Checando as 5 primeiras linhas da base bruta\n",
    "SELECT * FROM bronze.sales_data LIMIT 5"
   ]
  },
  {
   "cell_type": "code",
   "execution_count": 0,
   "metadata": {
    "application/vnd.databricks.v1+cell": {
     "cellMetadata": {
      "byteLimit": 2048000,
      "implicitDf": true,
      "rowLimit": 10000
     },
     "inputWidgets": {},
     "nuid": "9f13ca94-c349-4805-a5d9-bff015336385",
     "showTitle": true,
     "tableResultSettingsMap": {},
     "title": "Criando a camada silver do Data Lake"
    }
   },
   "outputs": [
    {
     "output_type": "display_data",
     "data": {
      "text/html": [
       "<style scoped>\n",
       "  .table-result-container {\n",
       "    max-height: 300px;\n",
       "    overflow: auto;\n",
       "  }\n",
       "  table, th, td {\n",
       "    border: 1px solid black;\n",
       "    border-collapse: collapse;\n",
       "  }\n",
       "  th, td {\n",
       "    padding: 5px;\n",
       "  }\n",
       "  th {\n",
       "    text-align: left;\n",
       "  }\n",
       "</style><div class='table-result-container'><table class='table-result'><thead style='background-color: white'><tr></tr></thead><tbody></tbody></table></div>"
      ]
     },
     "metadata": {
      "application/vnd.databricks.v1+output": {
       "addedWidgets": {},
       "aggData": [],
       "aggError": "",
       "aggOverflow": false,
       "aggSchema": [],
       "aggSeriesLimitReached": false,
       "aggType": "",
       "arguments": {},
       "columnCustomDisplayInfos": {},
       "data": [],
       "datasetInfos": [],
       "dbfsResultPath": null,
       "isJsonSchema": true,
       "metadata": {},
       "overflow": false,
       "plotOptions": {
        "customPlotOptions": {},
        "displayType": "table",
        "pivotAggregation": null,
        "pivotColumns": null,
        "xColumns": null,
        "yColumns": null
       },
       "removedWidgets": [],
       "schema": [],
       "type": "table"
      }
     },
     "output_type": "display_data"
    }
   ],
   "source": [
    "%sql \n",
    "-- Criando a camada silver\n",
    "DROP DATABASE IF EXISTS silver CASCADE;\n",
    "CREATE DATABASE silver;"
   ]
  },
  {
   "cell_type": "code",
   "execution_count": 0,
   "metadata": {
    "application/vnd.databricks.v1+cell": {
     "cellMetadata": {
      "byteLimit": 2048000,
      "rowLimit": 10000
     },
     "inputWidgets": {},
     "nuid": "894e5c72-0093-492e-bd37-c1e869f11983",
     "showTitle": true,
     "tableResultSettingsMap": {},
     "title": "Avaliando os tipos de dados para cada coluna"
    }
   },
   "outputs": [
    {
     "output_type": "stream",
     "name": "stdout",
     "output_type": "stream",
     "text": [
      "root\n |-- Date: date (nullable = true)\n |-- Day: integer (nullable = true)\n |-- Month: string (nullable = true)\n |-- Year: integer (nullable = true)\n |-- Customer_Age: integer (nullable = true)\n |-- Age_Group: string (nullable = true)\n |-- Customer_Gender: string (nullable = true)\n |-- Country: string (nullable = true)\n |-- State: string (nullable = true)\n |-- Product_Category: string (nullable = true)\n |-- Sub_Category: string (nullable = true)\n |-- Product: string (nullable = true)\n |-- Order_Quantity: integer (nullable = true)\n |-- Unit_Cost: integer (nullable = true)\n |-- Unit_Price: integer (nullable = true)\n |-- Profit: integer (nullable = true)\n |-- Cost: integer (nullable = true)\n |-- Revenue: integer (nullable = true)\n\n"
     ]
    }
   ],
   "source": [
    "# Importando módulos do Pyspark\n",
    "from pyspark.sql.functions import col, sum\n",
    "\n",
    "# Armazenando a tabela da camada bronze em um dataframe spark\n",
    "df = spark.read.table(\"bronze.sales_data\")\n",
    "\n",
    "# Avaliando os tipos de dados, nomes de colunas e se valores nulos são aceitos\n",
    "df.printSchema()"
   ]
  },
  {
   "cell_type": "code",
   "execution_count": 0,
   "metadata": {
    "application/vnd.databricks.v1+cell": {
     "cellMetadata": {
      "byteLimit": 2048000,
      "rowLimit": 10000
     },
     "inputWidgets": {},
     "nuid": "c641477f-be40-4d82-ac6b-dc4a25cb4eec",
     "showTitle": true,
     "tableResultSettingsMap": {},
     "title": "Verificando se há valores nulos na base de dados"
    }
   },
   "outputs": [
    {
     "output_type": "stream",
     "name": "stdout",
     "output_type": "stream",
     "text": [
      "+----+---+-----+----+------------+---------+---------------+-------+-----+----------------+------------+-------+--------------+---------+----------+------+----+-------+\n|Date|Day|Month|Year|Customer_Age|Age_Group|Customer_Gender|Country|State|Product_Category|Sub_Category|Product|Order_Quantity|Unit_Cost|Unit_Price|Profit|Cost|Revenue|\n+----+---+-----+----+------------+---------+---------------+-------+-----+----------------+------------+-------+--------------+---------+----------+------+----+-------+\n|   0|  0|    0|   0|           0|        0|              0|      0|    0|               0|           0|      0|             0|        0|         0|     0|   0|      0|\n+----+---+-----+----+------------+---------+---------------+-------+-----+----------------+------------+-------+--------------+---------+----------+------+----+-------+\n\n"
     ]
    }
   ],
   "source": [
    "# Verificando se existem valores nulos na base de dados\n",
    "null_counts = df.select([sum(col(c).isNull().cast(\"int\")).alias(c) for c in df.columns])\n",
    "null_counts.show()"
   ]
  },
  {
   "cell_type": "code",
   "execution_count": 0,
   "metadata": {
    "application/vnd.databricks.v1+cell": {
     "cellMetadata": {
      "byteLimit": 2048000,
      "implicitDf": true,
      "rowLimit": 10000
     },
     "inputWidgets": {},
     "nuid": "319a5f40-09c1-453f-a2c0-03407f3a5988",
     "showTitle": true,
     "tableResultSettingsMap": {},
     "title": "Avaliando duplicatas"
    }
   },
   "outputs": [
    {
     "output_type": "display_data",
     "data": {
      "text/html": [
       "<style scoped>\n",
       "  .table-result-container {\n",
       "    max-height: 300px;\n",
       "    overflow: auto;\n",
       "  }\n",
       "  table, th, td {\n",
       "    border: 1px solid black;\n",
       "    border-collapse: collapse;\n",
       "  }\n",
       "  th, td {\n",
       "    padding: 5px;\n",
       "  }\n",
       "  th {\n",
       "    text-align: left;\n",
       "  }\n",
       "</style><div class='table-result-container'><table class='table-result'><thead style='background-color: white'><tr><th>linhas_duplicadas</th></tr></thead><tbody><tr><td>1000</td></tr></tbody></table></div>"
      ]
     },
     "metadata": {
      "application/vnd.databricks.v1+output": {
       "addedWidgets": {},
       "aggData": [],
       "aggError": "",
       "aggOverflow": false,
       "aggSchema": [],
       "aggSeriesLimitReached": false,
       "aggType": "",
       "arguments": {},
       "columnCustomDisplayInfos": {},
       "data": [
        [
         1000
        ]
       ],
       "datasetInfos": [],
       "dbfsResultPath": null,
       "isJsonSchema": true,
       "metadata": {},
       "overflow": false,
       "plotOptions": {
        "customPlotOptions": {},
        "displayType": "table",
        "pivotAggregation": null,
        "pivotColumns": null,
        "xColumns": null,
        "yColumns": null
       },
       "removedWidgets": [],
       "schema": [
        {
         "metadata": "{}",
         "name": "linhas_duplicadas",
         "type": "\"long\""
        }
       ],
       "type": "table"
      }
     },
     "output_type": "display_data"
    }
   ],
   "source": [
    "%sql\n",
    "-- Consultando quantas duplicatas existem na base de dados\n",
    "SELECT \n",
    "  COUNT(*) - COUNT(DISTINCT *) AS linhas_duplicadas\n",
    "FROM bronze.sales_data;"
   ]
  },
  {
   "cell_type": "code",
   "execution_count": 0,
   "metadata": {
    "application/vnd.databricks.v1+cell": {
     "cellMetadata": {
      "byteLimit": 2048000,
      "implicitDf": true,
      "rowLimit": 10000
     },
     "inputWidgets": {},
     "nuid": "ebdce19b-1238-4342-b009-bf300c2adf75",
     "showTitle": true,
     "tableResultSettingsMap": {},
     "title": "Excluindo duplicatas"
    }
   },
   "outputs": [],
   "source": [
    "# Retirando as duplicatas e salvando a base na camada silver\n",
    "df_silver = df.dropDuplicates()\n",
    "df_silver.write.format(\"delta\").mode(\"overwrite\").saveAsTable(\"silver.sales_data_silver\")"
   ]
  },
  {
   "cell_type": "code",
   "execution_count": 0,
   "metadata": {
    "application/vnd.databricks.v1+cell": {
     "cellMetadata": {
      "byteLimit": 2048000,
      "implicitDf": true,
      "rowLimit": 10000
     },
     "inputWidgets": {},
     "nuid": "165e5576-b474-45c8-9425-2da04530bad0",
     "showTitle": true,
     "tableResultSettingsMap": {},
     "title": "Criando a camada gold"
    }
   },
   "outputs": [
    {
     "output_type": "display_data",
     "data": {
      "text/html": [
       "<style scoped>\n",
       "  .table-result-container {\n",
       "    max-height: 300px;\n",
       "    overflow: auto;\n",
       "  }\n",
       "  table, th, td {\n",
       "    border: 1px solid black;\n",
       "    border-collapse: collapse;\n",
       "  }\n",
       "  th, td {\n",
       "    padding: 5px;\n",
       "  }\n",
       "  th {\n",
       "    text-align: left;\n",
       "  }\n",
       "</style><div class='table-result-container'><table class='table-result'><thead style='background-color: white'><tr></tr></thead><tbody></tbody></table></div>"
      ]
     },
     "metadata": {
      "application/vnd.databricks.v1+output": {
       "addedWidgets": {},
       "aggData": [],
       "aggError": "",
       "aggOverflow": false,
       "aggSchema": [],
       "aggSeriesLimitReached": false,
       "aggType": "",
       "arguments": {},
       "columnCustomDisplayInfos": {},
       "data": [],
       "datasetInfos": [],
       "dbfsResultPath": null,
       "isJsonSchema": true,
       "metadata": {},
       "overflow": false,
       "plotOptions": {
        "customPlotOptions": {},
        "displayType": "table",
        "pivotAggregation": null,
        "pivotColumns": null,
        "xColumns": null,
        "yColumns": null
       },
       "removedWidgets": [],
       "schema": [],
       "type": "table"
      }
     },
     "output_type": "display_data"
    }
   ],
   "source": [
    "%sql \n",
    "-- Criando a camada gold\n",
    "DROP DATABASE IF EXISTS gold CASCADE;\n",
    "CREATE DATABASE gold;"
   ]
  },
  {
   "cell_type": "code",
   "execution_count": 0,
   "metadata": {
    "application/vnd.databricks.v1+cell": {
     "cellMetadata": {
      "byteLimit": 2048000,
      "implicitDf": true,
      "rowLimit": 10000
     },
     "inputWidgets": {},
     "nuid": "ba18d2a6-7191-4ead-8876-e073e78ad575",
     "showTitle": true,
     "tableResultSettingsMap": {},
     "title": "Criando a tabela e salvando dados - DimProducts"
    }
   },
   "outputs": [
    {
     "output_type": "display_data",
     "data": {
      "text/html": [
       "<style scoped>\n",
       "  .table-result-container {\n",
       "    max-height: 300px;\n",
       "    overflow: auto;\n",
       "  }\n",
       "  table, th, td {\n",
       "    border: 1px solid black;\n",
       "    border-collapse: collapse;\n",
       "  }\n",
       "  th, td {\n",
       "    padding: 5px;\n",
       "  }\n",
       "  th {\n",
       "    text-align: left;\n",
       "  }\n",
       "</style><div class='table-result-container'><table class='table-result'><thead style='background-color: white'><tr><th>num_affected_rows</th><th>num_inserted_rows</th></tr></thead><tbody><tr><td>138</td><td>138</td></tr></tbody></table></div>"
      ]
     },
     "metadata": {
      "application/vnd.databricks.v1+output": {
       "addedWidgets": {},
       "aggData": [],
       "aggError": "",
       "aggOverflow": false,
       "aggSchema": [],
       "aggSeriesLimitReached": false,
       "aggType": "",
       "arguments": {},
       "columnCustomDisplayInfos": {},
       "data": [
        [
         138,
         138
        ]
       ],
       "datasetInfos": [],
       "dbfsResultPath": null,
       "isJsonSchema": true,
       "metadata": {},
       "overflow": false,
       "plotOptions": {
        "customPlotOptions": {},
        "displayType": "table",
        "pivotAggregation": null,
        "pivotColumns": null,
        "xColumns": null,
        "yColumns": null
       },
       "removedWidgets": [],
       "schema": [
        {
         "metadata": "{}",
         "name": "num_affected_rows",
         "type": "\"long\""
        },
        {
         "metadata": "{}",
         "name": "num_inserted_rows",
         "type": "\"long\""
        }
       ],
       "type": "table"
      }
     },
     "output_type": "display_data"
    }
   ],
   "source": [
    "%sql\n",
    "-- Criando a tabela\n",
    "DROP TABLE IF EXISTS gold.DimProducts;\n",
    "CREATE TABLE gold.DimProducts (\n",
    "    ID_Product BIGINT GENERATED ALWAYS AS IDENTITY,\n",
    "    Product STRING NOT NULL,\n",
    "    Category_Product STRING NOT NULL,\n",
    "    SubCategory_Product STRING NOT NULL\n",
    ") USING DELTA;\n",
    "\n",
    "-- Salvando os dados na tabela DimProducts\n",
    "INSERT INTO gold.DimProducts (Product, Category_Product, SubCategory_Product)\n",
    "SELECT DISTINCT Product, Product_Category, Sub_Category \n",
    "FROM silver.sales_data_silver"
   ]
  },
  {
   "cell_type": "code",
   "execution_count": 0,
   "metadata": {
    "application/vnd.databricks.v1+cell": {
     "cellMetadata": {
      "byteLimit": 2048000,
      "implicitDf": true,
      "rowLimit": 10000
     },
     "inputWidgets": {},
     "nuid": "dde916eb-a884-4cc3-b261-609685e44d7b",
     "showTitle": true,
     "tableResultSettingsMap": {},
     "title": "Criando a tabela e salvando dados - DimCustomers"
    }
   },
   "outputs": [
    {
     "output_type": "display_data",
     "data": {
      "text/html": [
       "<style scoped>\n",
       "  .table-result-container {\n",
       "    max-height: 300px;\n",
       "    overflow: auto;\n",
       "  }\n",
       "  table, th, td {\n",
       "    border: 1px solid black;\n",
       "    border-collapse: collapse;\n",
       "  }\n",
       "  th, td {\n",
       "    padding: 5px;\n",
       "  }\n",
       "  th {\n",
       "    text-align: left;\n",
       "  }\n",
       "</style><div class='table-result-container'><table class='table-result'><thead style='background-color: white'><tr><th>num_affected_rows</th><th>num_inserted_rows</th></tr></thead><tbody><tr><td>8</td><td>8</td></tr></tbody></table></div>"
      ]
     },
     "metadata": {
      "application/vnd.databricks.v1+output": {
       "addedWidgets": {},
       "aggData": [],
       "aggError": "",
       "aggOverflow": false,
       "aggSchema": [],
       "aggSeriesLimitReached": false,
       "aggType": "",
       "arguments": {},
       "columnCustomDisplayInfos": {},
       "data": [
        [
         8,
         8
        ]
       ],
       "datasetInfos": [],
       "dbfsResultPath": null,
       "isJsonSchema": true,
       "metadata": {},
       "overflow": false,
       "plotOptions": {
        "customPlotOptions": {},
        "displayType": "table",
        "pivotAggregation": null,
        "pivotColumns": null,
        "xColumns": null,
        "yColumns": null
       },
       "removedWidgets": [],
       "schema": [
        {
         "metadata": "{}",
         "name": "num_affected_rows",
         "type": "\"long\""
        },
        {
         "metadata": "{}",
         "name": "num_inserted_rows",
         "type": "\"long\""
        }
       ],
       "type": "table"
      }
     },
     "output_type": "display_data"
    }
   ],
   "source": [
    "%sql\n",
    "-- Criando a tabela\n",
    "DROP TABLE IF EXISTS gold.DimCustomers;\n",
    "CREATE TABLE gold.DimCustomers (\n",
    "    ID_Customer BIGINT GENERATED ALWAYS AS IDENTITY,\n",
    "    Gender STRING NOT NULL,\n",
    "    Age_Group STRING NOT NULL\n",
    ") USING DELTA;\n",
    "\n",
    "-- Salvando os dados na tabela DimCustomers\n",
    "INSERT INTO gold.DimCustomers (Gender, Age_Group)\n",
    "SELECT DISTINCT Customer_Gender, Age_Group \n",
    "FROM silver.sales_data_silver"
   ]
  },
  {
   "cell_type": "code",
   "execution_count": 0,
   "metadata": {
    "application/vnd.databricks.v1+cell": {
     "cellMetadata": {
      "byteLimit": 2048000,
      "implicitDf": true,
      "rowLimit": 10000
     },
     "inputWidgets": {},
     "nuid": "b651c332-8686-4ee7-874e-155df91dbfce",
     "showTitle": true,
     "tableResultSettingsMap": {},
     "title": "Criando a tabela e salvando dados - DimRegion"
    }
   },
   "outputs": [
    {
     "output_type": "display_data",
     "data": {
      "text/html": [
       "<style scoped>\n",
       "  .table-result-container {\n",
       "    max-height: 300px;\n",
       "    overflow: auto;\n",
       "  }\n",
       "  table, th, td {\n",
       "    border: 1px solid black;\n",
       "    border-collapse: collapse;\n",
       "  }\n",
       "  th, td {\n",
       "    padding: 5px;\n",
       "  }\n",
       "  th {\n",
       "    text-align: left;\n",
       "  }\n",
       "</style><div class='table-result-container'><table class='table-result'><thead style='background-color: white'><tr><th>num_affected_rows</th><th>num_inserted_rows</th></tr></thead><tbody><tr><td>53</td><td>53</td></tr></tbody></table></div>"
      ]
     },
     "metadata": {
      "application/vnd.databricks.v1+output": {
       "addedWidgets": {},
       "aggData": [],
       "aggError": "",
       "aggOverflow": false,
       "aggSchema": [],
       "aggSeriesLimitReached": false,
       "aggType": "",
       "arguments": {},
       "columnCustomDisplayInfos": {},
       "data": [
        [
         53,
         53
        ]
       ],
       "datasetInfos": [],
       "dbfsResultPath": null,
       "isJsonSchema": true,
       "metadata": {},
       "overflow": false,
       "plotOptions": {
        "customPlotOptions": {},
        "displayType": "table",
        "pivotAggregation": null,
        "pivotColumns": null,
        "xColumns": null,
        "yColumns": null
       },
       "removedWidgets": [],
       "schema": [
        {
         "metadata": "{}",
         "name": "num_affected_rows",
         "type": "\"long\""
        },
        {
         "metadata": "{}",
         "name": "num_inserted_rows",
         "type": "\"long\""
        }
       ],
       "type": "table"
      }
     },
     "output_type": "display_data"
    }
   ],
   "source": [
    "%sql\n",
    "-- Criando a tabela\n",
    "DROP TABLE IF EXISTS gold.DimRegion;\n",
    "CREATE TABLE gold.DimRegion (\n",
    "    ID_Region BIGINT GENERATED ALWAYS AS IDENTITY,\n",
    "    Country STRING NOT NULL,\n",
    "    State STRING NOT NULL\n",
    ") USING DELTA;\n",
    "\n",
    "-- Salvando os dados na tabela DimCustomers\n",
    "INSERT INTO gold.DimRegion (Country, State)\n",
    "SELECT DISTINCT Country, State \n",
    "FROM silver.sales_data_silver"
   ]
  },
  {
   "cell_type": "code",
   "execution_count": 0,
   "metadata": {
    "application/vnd.databricks.v1+cell": {
     "cellMetadata": {
      "byteLimit": 2048000,
      "implicitDf": true,
      "rowLimit": 10000
     },
     "inputWidgets": {},
     "nuid": "4ba11e3d-ce39-41ee-8fb0-d135da20cb20",
     "showTitle": true,
     "tableResultSettingsMap": {},
     "title": "Criando a tabela e salvando dados - FactSales"
    }
   },
   "outputs": [
    {
     "output_type": "display_data",
     "data": {
      "text/html": [
       "<style scoped>\n",
       "  .table-result-container {\n",
       "    max-height: 300px;\n",
       "    overflow: auto;\n",
       "  }\n",
       "  table, th, td {\n",
       "    border: 1px solid black;\n",
       "    border-collapse: collapse;\n",
       "  }\n",
       "  th, td {\n",
       "    padding: 5px;\n",
       "  }\n",
       "  th {\n",
       "    text-align: left;\n",
       "  }\n",
       "</style><div class='table-result-container'><table class='table-result'><thead style='background-color: white'><tr><th>Sale_Date</th><th>ID_Customer</th><th>ID_Product</th><th>ID_Region</th><th>Order_Quantity</th><th>Unit_Cost</th><th>Unit_Price</th><th>Profit</th><th>Cost</th><th>Revenue</th></tr></thead><tbody><tr><td>2016-02-22</td><td>2</td><td>44</td><td>22</td><td>16</td><td>13</td><td>35</td><td>341</td><td>208</td><td>549</td></tr><tr><td>2013-12-13</td><td>7</td><td>112</td><td>31</td><td>3</td><td>13</td><td>35</td><td>44</td><td>39</td><td>83</td></tr><tr><td>2015-08-14</td><td>1</td><td>112</td><td>45</td><td>27</td><td>13</td><td>35</td><td>528</td><td>351</td><td>879</td></tr><tr><td>2016-03-19</td><td>2</td><td>44</td><td>24</td><td>24</td><td>13</td><td>35</td><td>494</td><td>312</td><td>806</td></tr><tr><td>2015-10-22</td><td>3</td><td>112</td><td>9</td><td>15</td><td>13</td><td>35</td><td>215</td><td>195</td><td>410</td></tr></tbody></table></div>"
      ]
     },
     "metadata": {
      "application/vnd.databricks.v1+output": {
       "addedWidgets": {},
       "aggData": [],
       "aggError": "",
       "aggOverflow": false,
       "aggSchema": [],
       "aggSeriesLimitReached": false,
       "aggType": "",
       "arguments": {},
       "columnCustomDisplayInfos": {},
       "data": [
        [
         "2016-02-22",
         2,
         44,
         22,
         16,
         13,
         35,
         341,
         208,
         549
        ],
        [
         "2013-12-13",
         7,
         112,
         31,
         3,
         13,
         35,
         44,
         39,
         83
        ],
        [
         "2015-08-14",
         1,
         112,
         45,
         27,
         13,
         35,
         528,
         351,
         879
        ],
        [
         "2016-03-19",
         2,
         44,
         24,
         24,
         13,
         35,
         494,
         312,
         806
        ],
        [
         "2015-10-22",
         3,
         112,
         9,
         15,
         13,
         35,
         215,
         195,
         410
        ]
       ],
       "datasetInfos": [],
       "dbfsResultPath": null,
       "isJsonSchema": true,
       "metadata": {},
       "overflow": false,
       "plotOptions": {
        "customPlotOptions": {},
        "displayType": "table",
        "pivotAggregation": null,
        "pivotColumns": null,
        "xColumns": null,
        "yColumns": null
       },
       "removedWidgets": [],
       "schema": [
        {
         "metadata": "{}",
         "name": "Sale_Date",
         "type": "\"date\""
        },
        {
         "metadata": "{}",
         "name": "ID_Customer",
         "type": "\"long\""
        },
        {
         "metadata": "{}",
         "name": "ID_Product",
         "type": "\"long\""
        },
        {
         "metadata": "{}",
         "name": "ID_Region",
         "type": "\"long\""
        },
        {
         "metadata": "{}",
         "name": "Order_Quantity",
         "type": "\"integer\""
        },
        {
         "metadata": "{}",
         "name": "Unit_Cost",
         "type": "\"integer\""
        },
        {
         "metadata": "{}",
         "name": "Unit_Price",
         "type": "\"integer\""
        },
        {
         "metadata": "{}",
         "name": "Profit",
         "type": "\"integer\""
        },
        {
         "metadata": "{}",
         "name": "Cost",
         "type": "\"integer\""
        },
        {
         "metadata": "{}",
         "name": "Revenue",
         "type": "\"integer\""
        }
       ],
       "type": "table"
      }
     },
     "output_type": "display_data"
    }
   ],
   "source": [
    "%sql\n",
    "-- Criando a tabela fato com os atributos modelados para a camada gold\n",
    "DROP TABLE IF EXISTS gold.FactSales;\n",
    "\n",
    "CREATE TABLE gold.FactSales (\n",
    "    Sale_Date DATE NOT NULL,\n",
    "    ID_Customer BIGINT,\n",
    "    ID_Product BIGINT,\n",
    "    ID_Region BIGINT,\n",
    "    Order_Quantity INT NOT NULL,\n",
    "    Unit_Cost INT NOT NULL,\n",
    "    Unit_Price INT NOT NULL,\n",
    "    Profit INT NOT NULL,\n",
    "    Cost INT NOT NULL,\n",
    "    Revenue INT NOT NULL\n",
    ") USING DELTA;\n",
    "\n",
    "-- Populando a tabela fato de vendas com os dados da tabela original armazenada na camada silver\n",
    "INSERT INTO gold.FactSales (\n",
    "    Sale_Date, ID_Customer, ID_Product, ID_Region,\n",
    "    Order_Quantity, Unit_Cost, Unit_Price,\n",
    "    Profit, Cost, Revenue\n",
    ")\n",
    "SELECT \n",
    "    s.Date,\n",
    "    c.ID_Customer,\n",
    "    p.ID_Product,\n",
    "    r.ID_Region,\n",
    "    s.Order_Quantity,\n",
    "    s.Unit_Cost,\n",
    "    s.Unit_Price,\n",
    "    s.Profit,\n",
    "    s.Cost,\n",
    "    s.Revenue\n",
    "FROM silver.sales_data_silver s\n",
    "JOIN gold.DimProducts p \n",
    "  ON s.Product = p.Product \n",
    "  AND s.Product_Category = p.Category_Product \n",
    "  AND s.Sub_Category = p.SubCategory_Product\n",
    "JOIN gold.DimCustomers c \n",
    "  ON s.Customer_Gender = c.Gender \n",
    "  AND s.Age_Group = c.Age_Group\n",
    "JOIN gold.DimRegion r \n",
    "  ON s.Country = r.Country \n",
    "  AND s.State = r.State;\n",
    "\n",
    "-- Visualizando as 3 primeiras linhas da base de dados\n",
    "SELECT * FROM gold.FactSales LIMIT 5;\n"
   ]
  },
  {
   "cell_type": "markdown",
   "metadata": {
    "application/vnd.databricks.v1+cell": {
     "cellMetadata": {
      "byteLimit": 2048000,
      "rowLimit": 10000
     },
     "inputWidgets": {},
     "nuid": "19349cfa-8c87-4a32-b004-f46bc80fe9fa",
     "showTitle": false,
     "tableResultSettingsMap": {},
     "title": ""
    }
   },
   "source": [
    "# 5. Análise"
   ]
  },
  {
   "cell_type": "markdown",
   "metadata": {
    "application/vnd.databricks.v1+cell": {
     "cellMetadata": {
      "byteLimit": 2048000,
      "rowLimit": 10000
     },
     "inputWidgets": {},
     "nuid": "5d62dfb0-96f1-4a23-ade3-0ae9be81402a",
     "showTitle": false,
     "tableResultSettingsMap": {},
     "title": ""
    }
   },
   "source": [
    "## 5.a Data Quality\n",
    "- Considerando que os atributos de todas as tabelas desse modelo derivam da tabela original do projeto, a discussão de data quality será feita com base nas colunas da tabela original.\n",
    "\n",
    "#### 1. Valores Nulos: \n",
    "A fonte de dados utilizada para esse projeto já estava relativamente limpa e estruturada, de modo que não existiam valores nulos em nenhuma das colunas **(etapa detalhada na camada silver)**."
   ]
  },
  {
   "cell_type": "markdown",
   "metadata": {
    "application/vnd.databricks.v1+cell": {
     "cellMetadata": {
      "byteLimit": 2048000,
      "rowLimit": 10000
     },
     "inputWidgets": {},
     "nuid": "d02a46ee-9e58-499e-92dc-134625903649",
     "showTitle": false,
     "tableResultSettingsMap": {},
     "title": ""
    }
   },
   "source": [
    "#### 2. Valores Duplicados\n",
    "Em relação a valores duplicados, foram encontrados 1000 registros duplicados na base de dados e a trativa escolhida foi simplesmente excluir a duplicidade de dados **(etapa detalhada na camada silver)** para não haver influência nas análises."
   ]
  },
  {
   "cell_type": "markdown",
   "metadata": {
    "application/vnd.databricks.v1+cell": {
     "cellMetadata": {
      "byteLimit": 2048000,
      "rowLimit": 10000
     },
     "inputWidgets": {},
     "nuid": "f93ef4b3-2cf9-4a3c-9e81-803375ef3873",
     "showTitle": false,
     "tableResultSettingsMap": {},
     "title": ""
    }
   },
   "source": [
    "#### 3. Consistência\n",
    "- A coluna **Sale_Date** está formatada como data (yyyy-MM-dd) e suas derivadas Day, Month_Name e Year apresentam-se no formato esperado\n",
    "\n",
    "- Variáveis categóricas: **Customer_Gender**, **Age_Group**, **Product**, **Country**, **State**, **Product_Category**, **Sub_Category** não contém erros de digitação ou inconsistências (ex: \"F\" vs \"Female\")\n",
    "\n",
    "- Variáveis numéricas: **Order_Quantity**, **Unit_Cost**, **Unit_Price**, **Profit**, **Cost** e **Revenue** não apresentam valores negativos ou incoerentes"
   ]
  },
  {
   "cell_type": "markdown",
   "metadata": {
    "application/vnd.databricks.v1+cell": {
     "cellMetadata": {
      "byteLimit": 2048000,
      "rowLimit": 10000
     },
     "inputWidgets": {},
     "nuid": "81389242-aa5e-4a0d-a752-ad0e59ae72c3",
     "showTitle": false,
     "tableResultSettingsMap": {},
     "title": ""
    }
   },
   "source": [
    "## 5.b Solução do problema proposto\n",
    "Seguem nessa seção as análises e respostas paras as perguntas definidas previamente nos objetivos do trabalho"
   ]
  },
  {
   "cell_type": "markdown",
   "metadata": {
    "application/vnd.databricks.v1+cell": {
     "cellMetadata": {
      "byteLimit": 2048000,
      "rowLimit": 10000
     },
     "inputWidgets": {},
     "nuid": "732ba000-b608-418d-837b-89150a480e45",
     "showTitle": false,
     "tableResultSettingsMap": {},
     "title": ""
    }
   },
   "source": [
    "- **Quais tipos de produtos e/ou categoria movimentam mais o mercado?**\n",
    "\n",
    "  - **Resposta**: A análise dos TOP 10 produtos em vendas, considerando tanto unidades quanto faturamento, revela dois comportamentos distintos no mercado. Em termos de volume, as categorias de Acessórios e Roupas lideram com folga, refletindo a alta rotatividade e o caráter mais consumível desses itens.\n",
    "\n",
    "    Por outro lado, quando o critério é faturamento, a categoria de Bicicletas se destaca — o que era esperado, já que esses produtos têm um ticket médio significativamente mais alto, apesar do menor volume de vendas.\n",
    "\n",
    "    Esse contraste entre volume e valor evidencia a importância de estratégias diferenciadas por categoria: enquanto acessórios e roupas impulsionam a frequência de compra e fidelização, as bicicletas são responsáveis por uma parcela expressiva da receita."
   ]
  },
  {
   "cell_type": "code",
   "execution_count": 0,
   "metadata": {
    "application/vnd.databricks.v1+cell": {
     "cellMetadata": {
      "byteLimit": 2048000,
      "implicitDf": true,
      "rowLimit": 10000
     },
     "inputWidgets": {},
     "nuid": "f02194ff-2cb2-4d28-bde8-5b9b06cbdf99",
     "showTitle": true,
     "tableResultSettingsMap": {},
     "title": "Top 10 produtos mais vendidos em unidades"
    }
   },
   "outputs": [
    {
     "output_type": "display_data",
     "data": {
      "text/html": [
       "<style scoped>\n",
       "  .table-result-container {\n",
       "    max-height: 300px;\n",
       "    overflow: auto;\n",
       "  }\n",
       "  table, th, td {\n",
       "    border: 1px solid black;\n",
       "    border-collapse: collapse;\n",
       "  }\n",
       "  th, td {\n",
       "    padding: 5px;\n",
       "  }\n",
       "  th {\n",
       "    text-align: left;\n",
       "  }\n",
       "</style><div class='table-result-container'><table class='table-result'><thead style='background-color: white'><tr><th>Category_Product</th><th>SubCategory_Product</th><th>total_quantity</th></tr></thead><tbody><tr><td>Accessories</td><td>Tires and Tubes</td><td>505889</td></tr><tr><td>Accessories</td><td>Bottles and Cages</td><td>238610</td></tr><tr><td>Accessories</td><td>Helmets</td><td>181522</td></tr><tr><td>Clothing</td><td>Jerseys</td><td>88095</td></tr><tr><td>Clothing</td><td>Caps</td><td>67268</td></tr><tr><td>Accessories</td><td>Fenders</td><td>62138</td></tr><tr><td>Clothing</td><td>Gloves</td><td>39978</td></tr><tr><td>Accessories</td><td>Cleaners</td><td>27574</td></tr><tr><td>Clothing</td><td>Shorts</td><td>27168</td></tr><tr><td>Accessories</td><td>Hydration Packs</td><td>19914</td></tr></tbody></table></div>"
      ]
     },
     "metadata": {
      "application/vnd.databricks.v1+output": {
       "addedWidgets": {},
       "aggData": [],
       "aggError": "",
       "aggOverflow": false,
       "aggSchema": [],
       "aggSeriesLimitReached": false,
       "aggType": "",
       "arguments": {},
       "columnCustomDisplayInfos": {},
       "data": [
        [
         "Accessories",
         "Tires and Tubes",
         505889
        ],
        [
         "Accessories",
         "Bottles and Cages",
         238610
        ],
        [
         "Accessories",
         "Helmets",
         181522
        ],
        [
         "Clothing",
         "Jerseys",
         88095
        ],
        [
         "Clothing",
         "Caps",
         67268
        ],
        [
         "Accessories",
         "Fenders",
         62138
        ],
        [
         "Clothing",
         "Gloves",
         39978
        ],
        [
         "Accessories",
         "Cleaners",
         27574
        ],
        [
         "Clothing",
         "Shorts",
         27168
        ],
        [
         "Accessories",
         "Hydration Packs",
         19914
        ]
       ],
       "datasetInfos": [],
       "dbfsResultPath": null,
       "isJsonSchema": true,
       "metadata": {},
       "overflow": false,
       "plotOptions": {
        "customPlotOptions": {},
        "displayType": "table",
        "pivotAggregation": null,
        "pivotColumns": null,
        "xColumns": null,
        "yColumns": null
       },
       "removedWidgets": [],
       "schema": [
        {
         "metadata": "{}",
         "name": "Category_Product",
         "type": "\"string\""
        },
        {
         "metadata": "{}",
         "name": "SubCategory_Product",
         "type": "\"string\""
        },
        {
         "metadata": "{}",
         "name": "total_quantity",
         "type": "\"long\""
        }
       ],
       "type": "table"
      }
     },
     "output_type": "display_data"
    }
   ],
   "source": [
    "%sql\n",
    "-- Top 10 produtos/categorias mais vendidos em volume\n",
    "SELECT\n",
    "    dp.Category_Product,\n",
    "    dp.SubCategory_Product,\n",
    "    SUM(fs.Order_Quantity) AS total_quantity\n",
    "FROM gold.FactSales fs\n",
    "JOIN gold.DimProducts dp \n",
    "  ON fs.ID_Product = dp.ID_Product\n",
    "GROUP BY \n",
    "    dp.Category_Product,\n",
    "    dp.SubCategory_Product\n",
    "ORDER BY \n",
    "    total_quantity DESC\n",
    "LIMIT 10;"
   ]
  },
  {
   "cell_type": "code",
   "execution_count": 0,
   "metadata": {
    "application/vnd.databricks.v1+cell": {
     "cellMetadata": {
      "byteLimit": 2048000,
      "implicitDf": true,
      "rowLimit": 10000
     },
     "inputWidgets": {},
     "nuid": "4bfee2ae-d9e2-4395-9802-8ececbcd0a09",
     "showTitle": true,
     "tableResultSettingsMap": {},
     "title": "Top 10 produtos em faturamento"
    }
   },
   "outputs": [
    {
     "output_type": "display_data",
     "data": {
      "text/html": [
       "<style scoped>\n",
       "  .table-result-container {\n",
       "    max-height: 300px;\n",
       "    overflow: auto;\n",
       "  }\n",
       "  table, th, td {\n",
       "    border: 1px solid black;\n",
       "    border-collapse: collapse;\n",
       "  }\n",
       "  th, td {\n",
       "    padding: 5px;\n",
       "  }\n",
       "  th {\n",
       "    text-align: left;\n",
       "  }\n",
       "</style><div class='table-result-container'><table class='table-result'><thead style='background-color: white'><tr><th>Category_Product</th><th>SubCategory_Product</th><th>total_revenue</th></tr></thead><tbody><tr><td>Bikes</td><td>Road Bikes</td><td>33150708</td></tr><tr><td>Bikes</td><td>Mountain Bikes</td><td>21020794</td></tr><tr><td>Bikes</td><td>Touring Bikes</td><td>7262982</td></tr><tr><td>Accessories</td><td>Helmets</td><td>5738482</td></tr><tr><td>Accessories</td><td>Tires and Tubes</td><td>4598124</td></tr><tr><td>Clothing</td><td>Jerseys</td><td>4112382</td></tr><tr><td>Clothing</td><td>Shorts</td><td>1740710</td></tr><tr><td>Accessories</td><td>Bottles and Cages</td><td>1390570</td></tr><tr><td>Accessories</td><td>Fenders</td><td>1245733</td></tr><tr><td>Accessories</td><td>Hydration Packs</td><td>990406</td></tr></tbody></table></div>"
      ]
     },
     "metadata": {
      "application/vnd.databricks.v1+output": {
       "addedWidgets": {},
       "aggData": [],
       "aggError": "",
       "aggOverflow": false,
       "aggSchema": [],
       "aggSeriesLimitReached": false,
       "aggType": "",
       "arguments": {},
       "columnCustomDisplayInfos": {},
       "data": [
        [
         "Bikes",
         "Road Bikes",
         33150708
        ],
        [
         "Bikes",
         "Mountain Bikes",
         21020794
        ],
        [
         "Bikes",
         "Touring Bikes",
         7262982
        ],
        [
         "Accessories",
         "Helmets",
         5738482
        ],
        [
         "Accessories",
         "Tires and Tubes",
         4598124
        ],
        [
         "Clothing",
         "Jerseys",
         4112382
        ],
        [
         "Clothing",
         "Shorts",
         1740710
        ],
        [
         "Accessories",
         "Bottles and Cages",
         1390570
        ],
        [
         "Accessories",
         "Fenders",
         1245733
        ],
        [
         "Accessories",
         "Hydration Packs",
         990406
        ]
       ],
       "datasetInfos": [],
       "dbfsResultPath": null,
       "isJsonSchema": true,
       "metadata": {},
       "overflow": false,
       "plotOptions": {
        "customPlotOptions": {},
        "displayType": "table",
        "pivotAggregation": null,
        "pivotColumns": null,
        "xColumns": null,
        "yColumns": null
       },
       "removedWidgets": [],
       "schema": [
        {
         "metadata": "{}",
         "name": "Category_Product",
         "type": "\"string\""
        },
        {
         "metadata": "{}",
         "name": "SubCategory_Product",
         "type": "\"string\""
        },
        {
         "metadata": "{}",
         "name": "total_revenue",
         "type": "\"long\""
        }
       ],
       "type": "table"
      }
     },
     "output_type": "display_data"
    }
   ],
   "source": [
    "%sql\n",
    "-- Top 10 produtos/categorias mais relevantes em faturamento\n",
    "SELECT\n",
    "    dp.Category_Product,\n",
    "    dp.SubCategory_Product,\n",
    "    SUM(fs.Revenue) AS total_revenue\n",
    "FROM gold.FactSales fs\n",
    "JOIN gold.DimProducts dp \n",
    "  ON fs.ID_Product = dp.ID_Product\n",
    "GROUP BY \n",
    "    dp.Category_Product,\n",
    "    dp.SubCategory_Product\n",
    "ORDER BY \n",
    "    total_revenue DESC\n",
    "LIMIT 10;"
   ]
  },
  {
   "cell_type": "markdown",
   "metadata": {
    "application/vnd.databricks.v1+cell": {
     "cellMetadata": {
      "byteLimit": 2048000,
      "rowLimit": 10000
     },
     "inputWidgets": {},
     "nuid": "87b9a834-793c-4f0b-8d65-92b04c133f3f",
     "showTitle": false,
     "tableResultSettingsMap": {},
     "title": ""
    }
   },
   "source": [
    "- **Como o comportamento de compra varia entre diferentes perfis de clientes?**\n",
    "  - **Resposta**: Tradicionalmente, o ciclismo é um esporte dominado pelo público masculino — tanto em número de praticantes quanto na variedade de produtos disponíveis. Isso muitas vezes leva as mulheres a utilizarem equipamentos desenvolvidos para homens.\n",
    "\n",
    "    Entretanto, as três *queries* abaixo revelam uma mudança nesse cenário: há uma tendência clara de equiparação no comportamento de compra entre os gêneros.\n",
    "\n",
    "    Primeiro, ao analisar as vendas anuais de bicicletas por gênero, observa-se um volume de unidades vendidas bastante semelhante entre homens e mulheres. Em seguida, os dados de faturamento por grupo de clientes e o perfil de consumo também indicam uma equivalência consistente.\n",
    "\n",
    "    Esse panorama destaca uma oportunidade estratégica: investir no desenvolvimento de um portfólio direcionado ao público feminino pode fortalecer a presença da marca nesse segmento e impulsionar o crescimento, atendendo a uma demanda cada vez mais expressiva."
   ]
  },
  {
   "cell_type": "code",
   "execution_count": 0,
   "metadata": {
    "application/vnd.databricks.v1+cell": {
     "cellMetadata": {
      "byteLimit": 2048000,
      "implicitDf": true,
      "rowLimit": 10000
     },
     "inputWidgets": {},
     "nuid": "783ba77c-be50-46a2-b416-0596188074fe",
     "showTitle": true,
     "tableResultSettingsMap": {},
     "title": "Unidades vendidas por gênero, ano a ano"
    }
   },
   "outputs": [
    {
     "output_type": "display_data",
     "data": {
      "text/html": [
       "<style scoped>\n",
       "  .table-result-container {\n",
       "    max-height: 300px;\n",
       "    overflow: auto;\n",
       "  }\n",
       "  table, th, td {\n",
       "    border: 1px solid black;\n",
       "    border-collapse: collapse;\n",
       "  }\n",
       "  th, td {\n",
       "    padding: 5px;\n",
       "  }\n",
       "  th {\n",
       "    text-align: left;\n",
       "  }\n",
       "</style><div class='table-result-container'><table class='table-result'><thead style='background-color: white'><tr><th>Ano</th><th>Genero</th><th>Units_Sold</th></tr></thead><tbody><tr><td>2011</td><td>F</td><td>2689</td></tr><tr><td>2011</td><td>M</td><td>2565</td></tr><tr><td>2012</td><td>F</td><td>2736</td></tr><tr><td>2012</td><td>M</td><td>2592</td></tr><tr><td>2013</td><td>F</td><td>2852</td></tr><tr><td>2013</td><td>M</td><td>2798</td></tr><tr><td>2014</td><td>F</td><td>2140</td></tr><tr><td>2014</td><td>M</td><td>2412</td></tr><tr><td>2015</td><td>F</td><td>4290</td></tr><tr><td>2015</td><td>M</td><td>4230</td></tr><tr><td>2016</td><td>F</td><td>3232</td></tr><tr><td>2016</td><td>M</td><td>3665</td></tr></tbody></table></div>"
      ]
     },
     "metadata": {
      "application/vnd.databricks.v1+output": {
       "addedWidgets": {},
       "aggData": [],
       "aggError": "",
       "aggOverflow": false,
       "aggSchema": [],
       "aggSeriesLimitReached": false,
       "aggType": "",
       "arguments": {},
       "columnCustomDisplayInfos": {},
       "data": [
        [
         2011,
         "F",
         2689
        ],
        [
         2011,
         "M",
         2565
        ],
        [
         2012,
         "F",
         2736
        ],
        [
         2012,
         "M",
         2592
        ],
        [
         2013,
         "F",
         2852
        ],
        [
         2013,
         "M",
         2798
        ],
        [
         2014,
         "F",
         2140
        ],
        [
         2014,
         "M",
         2412
        ],
        [
         2015,
         "F",
         4290
        ],
        [
         2015,
         "M",
         4230
        ],
        [
         2016,
         "F",
         3232
        ],
        [
         2016,
         "M",
         3665
        ]
       ],
       "datasetInfos": [],
       "dbfsResultPath": null,
       "isJsonSchema": true,
       "metadata": {},
       "overflow": false,
       "plotOptions": {
        "customPlotOptions": {},
        "displayType": "table",
        "pivotAggregation": null,
        "pivotColumns": null,
        "xColumns": null,
        "yColumns": null
       },
       "removedWidgets": [],
       "schema": [
        {
         "metadata": "{}",
         "name": "Ano",
         "type": "\"integer\""
        },
        {
         "metadata": "{}",
         "name": "Genero",
         "type": "\"string\""
        },
        {
         "metadata": "{}",
         "name": "Units_Sold",
         "type": "\"long\""
        }
       ],
       "type": "table"
      }
     },
     "output_type": "display_data"
    }
   ],
   "source": [
    "%sql\n",
    "-- Calulando o histórico de vendas por gênero\n",
    "SELECT \n",
    "    YEAR(f.Sale_Date) AS Ano,\n",
    "    c.Gender AS Genero,\n",
    "    ROUND(SUM(f.Order_Quantity), 2) AS Units_Sold\n",
    "FROM gold.FactSales f\n",
    "JOIN gold.DimCustomers c ON f.ID_Customer = c.ID_Customer\n",
    "JOIN gold.DimProducts p ON f.ID_Product = p.ID_Product\n",
    "WHERE p.Category_Product = 'Bikes'\n",
    "GROUP BY \n",
    "    YEAR(f.Sale_Date),\n",
    "    c.Gender\n",
    "ORDER BY Ano, Genero;"
   ]
  },
  {
   "cell_type": "code",
   "execution_count": 0,
   "metadata": {
    "application/vnd.databricks.v1+cell": {
     "cellMetadata": {
      "byteLimit": 2048000,
      "implicitDf": true,
      "rowLimit": 10000
     },
     "inputWidgets": {},
     "nuid": "3a04d17f-b832-4b34-be73-8525fce72e81",
     "showTitle": true,
     "tableResultSettingsMap": {},
     "title": "Qual grupo de clientes gera mais faturamento?"
    }
   },
   "outputs": [
    {
     "output_type": "display_data",
     "data": {
      "text/html": [
       "<style scoped>\n",
       "  .table-result-container {\n",
       "    max-height: 300px;\n",
       "    overflow: auto;\n",
       "  }\n",
       "  table, th, td {\n",
       "    border: 1px solid black;\n",
       "    border-collapse: collapse;\n",
       "  }\n",
       "  th, td {\n",
       "    padding: 5px;\n",
       "  }\n",
       "  th {\n",
       "    text-align: left;\n",
       "  }\n",
       "</style><div class='table-result-container'><table class='table-result'><thead style='background-color: white'><tr><th>Gender</th><th>Age_Group</th><th>total_revenue</th></tr></thead><tbody><tr><td>M</td><td>Adults (35-64)</td><td>21207395</td></tr><tr><td>F</td><td>Adults (35-64)</td><td>21159786</td></tr><tr><td>M</td><td>Young Adults (25-34)</td><td>15391679</td></tr><tr><td>F</td><td>Young Adults (25-34)</td><td>15075353</td></tr><tr><td>M</td><td>Youth (<25)</td><td>6355830</td></tr><tr><td>F</td><td>Youth (<25)</td><td>5329659</td></tr><tr><td>M</td><td>Seniors (64+)</td><td>177179</td></tr><tr><td>F</td><td>Seniors (64+)</td><td>129891</td></tr></tbody></table></div>"
      ]
     },
     "metadata": {
      "application/vnd.databricks.v1+output": {
       "addedWidgets": {},
       "aggData": [],
       "aggError": "",
       "aggOverflow": false,
       "aggSchema": [],
       "aggSeriesLimitReached": false,
       "aggType": "",
       "arguments": {},
       "columnCustomDisplayInfos": {},
       "data": [
        [
         "M",
         "Adults (35-64)",
         21207395
        ],
        [
         "F",
         "Adults (35-64)",
         21159786
        ],
        [
         "M",
         "Young Adults (25-34)",
         15391679
        ],
        [
         "F",
         "Young Adults (25-34)",
         15075353
        ],
        [
         "M",
         "Youth (<25)",
         6355830
        ],
        [
         "F",
         "Youth (<25)",
         5329659
        ],
        [
         "M",
         "Seniors (64+)",
         177179
        ],
        [
         "F",
         "Seniors (64+)",
         129891
        ]
       ],
       "datasetInfos": [],
       "dbfsResultPath": null,
       "isJsonSchema": true,
       "metadata": {},
       "overflow": false,
       "plotOptions": {
        "customPlotOptions": {},
        "displayType": "table",
        "pivotAggregation": null,
        "pivotColumns": null,
        "xColumns": null,
        "yColumns": null
       },
       "removedWidgets": [],
       "schema": [
        {
         "metadata": "{}",
         "name": "Gender",
         "type": "\"string\""
        },
        {
         "metadata": "{}",
         "name": "Age_Group",
         "type": "\"string\""
        },
        {
         "metadata": "{}",
         "name": "total_revenue",
         "type": "\"long\""
        }
       ],
       "type": "table"
      }
     },
     "output_type": "display_data"
    }
   ],
   "source": [
    "%sql\n",
    "-- Faturamento por grupo de clientes\n",
    "SELECT \n",
    "    dc.Gender,\n",
    "    dc.Age_Group,\n",
    "    SUM(fs.Revenue) AS total_revenue\n",
    "FROM gold.FactSales fs\n",
    "JOIN gold.DimCustomers dc \n",
    "  ON fs.ID_Customer = dc.ID_Customer\n",
    "GROUP BY \n",
    "    dc.Gender,\n",
    "    dc.Age_Group\n",
    "ORDER BY \n",
    "    total_revenue DESC;"
   ]
  },
  {
   "cell_type": "code",
   "execution_count": 0,
   "metadata": {
    "application/vnd.databricks.v1+cell": {
     "cellMetadata": {
      "byteLimit": 2048000,
      "implicitDf": true,
      "rowLimit": 10000
     },
     "inputWidgets": {},
     "nuid": "488e181a-8b8d-4440-9d5e-6ea6845cded9",
     "showTitle": true,
     "tableResultSettingsMap": {},
     "title": "Perfil de compra por grupo de clientes"
    }
   },
   "outputs": [
    {
     "output_type": "display_data",
     "data": {
      "text/html": [
       "<style scoped>\n",
       "  .table-result-container {\n",
       "    max-height: 300px;\n",
       "    overflow: auto;\n",
       "  }\n",
       "  table, th, td {\n",
       "    border: 1px solid black;\n",
       "    border-collapse: collapse;\n",
       "  }\n",
       "  th, td {\n",
       "    padding: 5px;\n",
       "  }\n",
       "  th {\n",
       "    text-align: left;\n",
       "  }\n",
       "</style><div class='table-result-container'><table class='table-result'><thead style='background-color: white'><tr><th>Gender</th><th>Age_Group</th><th>SubCategory_Product</th><th>total_orders</th><th>total_revenue</th><th>avg_price</th></tr></thead><tbody><tr><td>F</td><td>Adults (35-64)</td><td>Road Bikes</td><td>4718</td><td>8101329</td><td>2534.83</td></tr><tr><td>M</td><td>Adults (35-64)</td><td>Road Bikes</td><td>4503</td><td>7520714</td><td>2441.0</td></tr><tr><td>M</td><td>Young Adults (25-34)</td><td>Road Bikes</td><td>3811</td><td>6366190</td><td>2419.68</td></tr><tr><td>F</td><td>Young Adults (25-34)</td><td>Road Bikes</td><td>3564</td><td>5980321</td><td>2461.04</td></tr><tr><td>F</td><td>Adults (35-64)</td><td>Mountain Bikes</td><td>2976</td><td>5251065</td><td>2335.88</td></tr><tr><td>M</td><td>Adults (35-64)</td><td>Mountain Bikes</td><td>2818</td><td>5229238</td><td>2453.89</td></tr><tr><td>F</td><td>Young Adults (25-34)</td><td>Mountain Bikes</td><td>2346</td><td>4172327</td><td>2451.43</td></tr><tr><td>M</td><td>Young Adults (25-34)</td><td>Mountain Bikes</td><td>2191</td><td>3643556</td><td>2288.67</td></tr><tr><td>M</td><td>Youth (<25)</td><td>Road Bikes</td><td>1697</td><td>2774659</td><td>2495.2</td></tr><tr><td>F</td><td>Youth (<25)</td><td>Road Bikes</td><td>1309</td><td>2348012</td><td>2798.58</td></tr></tbody></table></div>"
      ]
     },
     "metadata": {
      "application/vnd.databricks.v1+output": {
       "addedWidgets": {},
       "aggData": [],
       "aggError": "",
       "aggOverflow": false,
       "aggSchema": [],
       "aggSeriesLimitReached": false,
       "aggType": "",
       "arguments": {},
       "columnCustomDisplayInfos": {},
       "data": [
        [
         "F",
         "Adults (35-64)",
         "Road Bikes",
         4718,
         8101329,
         2534.83
        ],
        [
         "M",
         "Adults (35-64)",
         "Road Bikes",
         4503,
         7520714,
         2441.0
        ],
        [
         "M",
         "Young Adults (25-34)",
         "Road Bikes",
         3811,
         6366190,
         2419.68
        ],
        [
         "F",
         "Young Adults (25-34)",
         "Road Bikes",
         3564,
         5980321,
         2461.04
        ],
        [
         "F",
         "Adults (35-64)",
         "Mountain Bikes",
         2976,
         5251065,
         2335.88
        ],
        [
         "M",
         "Adults (35-64)",
         "Mountain Bikes",
         2818,
         5229238,
         2453.89
        ],
        [
         "F",
         "Young Adults (25-34)",
         "Mountain Bikes",
         2346,
         4172327,
         2451.43
        ],
        [
         "M",
         "Young Adults (25-34)",
         "Mountain Bikes",
         2191,
         3643556,
         2288.67
        ],
        [
         "M",
         "Youth (<25)",
         "Road Bikes",
         1697,
         2774659,
         2495.2
        ],
        [
         "F",
         "Youth (<25)",
         "Road Bikes",
         1309,
         2348012,
         2798.58
        ]
       ],
       "datasetInfos": [],
       "dbfsResultPath": null,
       "isJsonSchema": true,
       "metadata": {},
       "overflow": false,
       "plotOptions": {
        "customPlotOptions": {},
        "displayType": "table",
        "pivotAggregation": null,
        "pivotColumns": null,
        "xColumns": null,
        "yColumns": null
       },
       "removedWidgets": [],
       "schema": [
        {
         "metadata": "{}",
         "name": "Gender",
         "type": "\"string\""
        },
        {
         "metadata": "{}",
         "name": "Age_Group",
         "type": "\"string\""
        },
        {
         "metadata": "{}",
         "name": "SubCategory_Product",
         "type": "\"string\""
        },
        {
         "metadata": "{}",
         "name": "total_orders",
         "type": "\"long\""
        },
        {
         "metadata": "{}",
         "name": "total_revenue",
         "type": "\"long\""
        },
        {
         "metadata": "{}",
         "name": "avg_price",
         "type": "\"double\""
        }
       ],
       "type": "table"
      }
     },
     "output_type": "display_data"
    }
   ],
   "source": [
    "%sql\n",
    "-- Perfil de compra para cada grupo\n",
    "SELECT \n",
    "    c.Gender,\n",
    "    c.Age_Group,\n",
    "    p.SubCategory_Product,\n",
    "    SUM(f.Order_Quantity) AS total_orders,\n",
    "    SUM(f.Revenue) AS total_revenue,\n",
    "    ROUND(AVG(f.Revenue), 2) AS avg_price\n",
    "FROM gold.FactSales f\n",
    "JOIN gold.DimCustomers c ON f.ID_Customer = c.ID_Customer\n",
    "JOIN gold.DimProducts p ON f.ID_Product = p.ID_Product\n",
    "GROUP BY c.Gender, c.Age_Group, p.SubCategory_Product\n",
    "ORDER BY total_revenue DESC\n",
    "LIMIT 10;"
   ]
  },
  {
   "cell_type": "markdown",
   "metadata": {
    "application/vnd.databricks.v1+cell": {
     "cellMetadata": {
      "byteLimit": 2048000,
      "rowLimit": 10000
     },
     "inputWidgets": {},
     "nuid": "610c7425-ad0a-46a2-9397-c560bc2b5679",
     "showTitle": false,
     "tableResultSettingsMap": {},
     "title": ""
    }
   },
   "source": [
    "- **Em quais tipos de produtos a empresa deve investir?**\n",
    "  - **Resposta**: As *queries* abaixo demonstram que, embora a venda de bicicletas gere o maior lucro líquido total — devido ao alto ticket médio —, a margem de lucro percentual dessa categoria é uma das mais baixas. Isso indica que o retorno sobre o investimento não é tão vantajoso quanto parece à primeira vista.\n",
    "\n",
    "    Por outro lado, categorias como vestuário e acessórios (ex: meias, para-lamas, bermudas) apresentam margens de lucro mais altas. Além disso, esses produtos são comprados com mais frequência e têm ciclo de reposição mais curto, o que favorece maior rotatividade e fidelização dos clientes.\n",
    "\n",
    "    Dessa forma, a empresa deve considerar direcionar seus investimentos para essas categorias, priorizando itens de maior margem e maior frequência de compra."
   ]
  },
  {
   "cell_type": "code",
   "execution_count": 0,
   "metadata": {
    "application/vnd.databricks.v1+cell": {
     "cellMetadata": {
      "byteLimit": 2048000,
      "implicitDf": true,
      "rowLimit": 10000
     },
     "inputWidgets": {},
     "nuid": "6d26fe36-8c62-4ffb-8564-e7b87ef138c6",
     "showTitle": true,
     "tableResultSettingsMap": {},
     "title": "Lucro líquido por classe de produto"
    }
   },
   "outputs": [
    {
     "output_type": "display_data",
     "data": {
      "text/html": [
       "<style scoped>\n",
       "  .table-result-container {\n",
       "    max-height: 300px;\n",
       "    overflow: auto;\n",
       "  }\n",
       "  table, th, td {\n",
       "    border: 1px solid black;\n",
       "    border-collapse: collapse;\n",
       "  }\n",
       "  th, td {\n",
       "    padding: 5px;\n",
       "  }\n",
       "  th {\n",
       "    text-align: left;\n",
       "  }\n",
       "</style><div class='table-result-container'><table class='table-result'><thead style='background-color: white'><tr><th>Category_Product</th><th>SubCategory_Product</th><th>total_profit</th></tr></thead><tbody><tr><td>Bikes</td><td>Road Bikes</td><td>10012631</td></tr><tr><td>Bikes</td><td>Mountain Bikes</td><td>8117801</td></tr><tr><td>Accessories</td><td>Helmets</td><td>3378696</td></tr><tr><td>Accessories</td><td>Tires and Tubes</td><td>2685467</td></tr><tr><td>Bikes</td><td>Touring Bikes</td><td>2269294</td></tr><tr><td>Clothing</td><td>Shorts</td><td>1034342</td></tr><tr><td>Accessories</td><td>Bottles and Cages</td><td>799882</td></tr><tr><td>Accessories</td><td>Fenders</td><td>748914</td></tr><tr><td>Clothing</td><td>Jerseys</td><td>603440</td></tr><tr><td>Accessories</td><td>Hydration Packs</td><td>572668</td></tr></tbody></table></div>"
      ]
     },
     "metadata": {
      "application/vnd.databricks.v1+output": {
       "addedWidgets": {},
       "aggData": [],
       "aggError": "",
       "aggOverflow": false,
       "aggSchema": [],
       "aggSeriesLimitReached": false,
       "aggType": "",
       "arguments": {},
       "columnCustomDisplayInfos": {},
       "data": [
        [
         "Bikes",
         "Road Bikes",
         10012631
        ],
        [
         "Bikes",
         "Mountain Bikes",
         8117801
        ],
        [
         "Accessories",
         "Helmets",
         3378696
        ],
        [
         "Accessories",
         "Tires and Tubes",
         2685467
        ],
        [
         "Bikes",
         "Touring Bikes",
         2269294
        ],
        [
         "Clothing",
         "Shorts",
         1034342
        ],
        [
         "Accessories",
         "Bottles and Cages",
         799882
        ],
        [
         "Accessories",
         "Fenders",
         748914
        ],
        [
         "Clothing",
         "Jerseys",
         603440
        ],
        [
         "Accessories",
         "Hydration Packs",
         572668
        ]
       ],
       "datasetInfos": [],
       "dbfsResultPath": null,
       "isJsonSchema": true,
       "metadata": {},
       "overflow": false,
       "plotOptions": {
        "customPlotOptions": {},
        "displayType": "table",
        "pivotAggregation": null,
        "pivotColumns": null,
        "xColumns": null,
        "yColumns": null
       },
       "removedWidgets": [],
       "schema": [
        {
         "metadata": "{}",
         "name": "Category_Product",
         "type": "\"string\""
        },
        {
         "metadata": "{}",
         "name": "SubCategory_Product",
         "type": "\"string\""
        },
        {
         "metadata": "{}",
         "name": "total_profit",
         "type": "\"long\""
        }
       ],
       "type": "table"
      }
     },
     "output_type": "display_data"
    }
   ],
   "source": [
    "%sql\n",
    "-- Lucro líquido por categoria\n",
    "SELECT\n",
    "    dp.Category_Product,\n",
    "    dp.SubCategory_Product,\n",
    "    SUM(fs.Profit) AS total_profit\n",
    "FROM gold.FactSales fs\n",
    "JOIN gold.DimProducts dp \n",
    "  ON fs.ID_Product = dp.ID_Product\n",
    "GROUP BY \n",
    "    dp.Category_Product,\n",
    "    dp.SubCategory_Product\n",
    "ORDER BY \n",
    "    total_profit DESC\n",
    "LIMIT 10;"
   ]
  },
  {
   "cell_type": "code",
   "execution_count": 0,
   "metadata": {
    "application/vnd.databricks.v1+cell": {
     "cellMetadata": {
      "byteLimit": 2048000,
      "implicitDf": true,
      "rowLimit": 10000
     },
     "inputWidgets": {},
     "nuid": "243b627a-4ac1-4ceb-a52f-2d700a32282e",
     "showTitle": true,
     "tableResultSettingsMap": {},
     "title": "Margem percentual média por categoria"
    }
   },
   "outputs": [
    {
     "output_type": "display_data",
     "data": {
      "text/html": [
       "<style scoped>\n",
       "  .table-result-container {\n",
       "    max-height: 300px;\n",
       "    overflow: auto;\n",
       "  }\n",
       "  table, th, td {\n",
       "    border: 1px solid black;\n",
       "    border-collapse: collapse;\n",
       "  }\n",
       "  th, td {\n",
       "    padding: 5px;\n",
       "  }\n",
       "  th {\n",
       "    text-align: left;\n",
       "  }\n",
       "</style><div class='table-result-container'><table class='table-result'><thead style='background-color: white'><tr><th>Category_Product</th><th>SubCategory_Product</th><th>Margem_Percentual_Media</th></tr></thead><tbody><tr><td>Clothing</td><td>Socks</td><td>63.31</td></tr><tr><td>Accessories</td><td>Fenders</td><td>60.12</td></tr><tr><td>Clothing</td><td>Shorts</td><td>59.42</td></tr><tr><td>Accessories</td><td>Helmets</td><td>58.88</td></tr><tr><td>Accessories</td><td>Bike Racks</td><td>58.80</td></tr><tr><td>Clothing</td><td>Gloves</td><td>58.72</td></tr><tr><td>Accessories</td><td>Bike Stands</td><td>58.69</td></tr><tr><td>Accessories</td><td>Tires and Tubes</td><td>58.40</td></tr><tr><td>Accessories</td><td>Cleaners</td><td>58.29</td></tr><tr><td>Accessories</td><td>Hydration Packs</td><td>57.82</td></tr><tr><td>Accessories</td><td>Bottles and Cages</td><td>57.52</td></tr><tr><td>Clothing</td><td>Vests</td><td>54.66</td></tr><tr><td>Bikes</td><td>Mountain Bikes</td><td>38.62</td></tr><tr><td>Bikes</td><td>Touring Bikes</td><td>31.24</td></tr><tr><td>Bikes</td><td>Road Bikes</td><td>30.20</td></tr><tr><td>Clothing</td><td>Jerseys</td><td>14.67</td></tr><tr><td>Clothing</td><td>Caps</td><td>14.20</td></tr></tbody></table></div>"
      ]
     },
     "metadata": {
      "application/vnd.databricks.v1+output": {
       "addedWidgets": {},
       "aggData": [],
       "aggError": "",
       "aggOverflow": false,
       "aggSchema": [],
       "aggSeriesLimitReached": false,
       "aggType": "",
       "arguments": {},
       "columnCustomDisplayInfos": {},
       "data": [
        [
         "Clothing",
         "Socks",
         "63.31"
        ],
        [
         "Accessories",
         "Fenders",
         "60.12"
        ],
        [
         "Clothing",
         "Shorts",
         "59.42"
        ],
        [
         "Accessories",
         "Helmets",
         "58.88"
        ],
        [
         "Accessories",
         "Bike Racks",
         "58.80"
        ],
        [
         "Clothing",
         "Gloves",
         "58.72"
        ],
        [
         "Accessories",
         "Bike Stands",
         "58.69"
        ],
        [
         "Accessories",
         "Tires and Tubes",
         "58.40"
        ],
        [
         "Accessories",
         "Cleaners",
         "58.29"
        ],
        [
         "Accessories",
         "Hydration Packs",
         "57.82"
        ],
        [
         "Accessories",
         "Bottles and Cages",
         "57.52"
        ],
        [
         "Clothing",
         "Vests",
         "54.66"
        ],
        [
         "Bikes",
         "Mountain Bikes",
         "38.62"
        ],
        [
         "Bikes",
         "Touring Bikes",
         "31.24"
        ],
        [
         "Bikes",
         "Road Bikes",
         "30.20"
        ],
        [
         "Clothing",
         "Jerseys",
         "14.67"
        ],
        [
         "Clothing",
         "Caps",
         "14.20"
        ]
       ],
       "datasetInfos": [],
       "dbfsResultPath": null,
       "isJsonSchema": true,
       "metadata": {},
       "overflow": false,
       "plotOptions": {
        "customPlotOptions": {},
        "displayType": "table",
        "pivotAggregation": null,
        "pivotColumns": null,
        "xColumns": null,
        "yColumns": null
       },
       "removedWidgets": [],
       "schema": [
        {
         "metadata": "{}",
         "name": "Category_Product",
         "type": "\"string\""
        },
        {
         "metadata": "{}",
         "name": "SubCategory_Product",
         "type": "\"string\""
        },
        {
         "metadata": "{}",
         "name": "Margem_Percentual_Media",
         "type": "\"decimal(27,2)\""
        }
       ],
       "type": "table"
      }
     },
     "output_type": "display_data"
    }
   ],
   "source": [
    "%sql\n",
    "-- Margem de lucro por categoria\n",
    "SELECT \n",
    "    p.Category_Product,\n",
    "    p.SubCategory_Product,\n",
    "    ROUND(SUM(f.Profit) * 100.0 / SUM(f.Revenue), 2) AS Margem_Percentual_Media\n",
    "FROM gold.FactSales f\n",
    "JOIN gold.DimProducts p ON f.ID_Product = p.ID_Product\n",
    "GROUP BY p.Category_Product, p.SubCategory_Product\n",
    "ORDER BY Margem_Percentual_Media DESC;"
   ]
  },
  {
   "cell_type": "markdown",
   "metadata": {
    "application/vnd.databricks.v1+cell": {
     "cellMetadata": {
      "byteLimit": 2048000,
      "rowLimit": 10000
     },
     "inputWidgets": {},
     "nuid": "686ecf51-9d75-4771-a0dc-32557e4ae29b",
     "showTitle": false,
     "tableResultSettingsMap": {},
     "title": ""
    }
   },
   "source": [
    "- **Quais países representam os maiores mercados para a empresa?**\n",
    "  - **Resposta**: A *query* a seguir revela que os principais mercados da empresa atualmente estão fora da Europa, com Estados Unidos e Austrália concentrando a maior parte do faturamento.\n",
    "\n",
    "    Apesar desse bom desempenho internacional, é sabido que a Europa é, de longe, o maior mercado global para o ciclismo. Isso evidencia uma grande oportunidade de expansão para a empresa no continente europeu, onde sua presença ainda está abaixo do potencial de mercado.\n",
    "\n",
    "    Investir em estratégias regionais de marketing, logística e portfólio adaptado ao perfil do consumidor europeu pode permitir à empresa ganhar representatividade em um mercado altamente promissor e alinhado ao seu setor de atuação."
   ]
  },
  {
   "cell_type": "code",
   "execution_count": 0,
   "metadata": {
    "application/vnd.databricks.v1+cell": {
     "cellMetadata": {
      "byteLimit": 2048000,
      "implicitDf": true,
      "rowLimit": 10000
     },
     "inputWidgets": {},
     "nuid": "c5cf95f7-6474-461f-9817-953658e97b76",
     "showTitle": true,
     "tableResultSettingsMap": {},
     "title": "Ranking de Países com maior faturamento"
    }
   },
   "outputs": [
    {
     "output_type": "display_data",
     "data": {
      "text/html": [
       "<style scoped>\n",
       "  .table-result-container {\n",
       "    max-height: 300px;\n",
       "    overflow: auto;\n",
       "  }\n",
       "  table, th, td {\n",
       "    border: 1px solid black;\n",
       "    border-collapse: collapse;\n",
       "  }\n",
       "  th, td {\n",
       "    padding: 5px;\n",
       "  }\n",
       "  th {\n",
       "    text-align: left;\n",
       "  }\n",
       "</style><div class='table-result-container'><table class='table-result'><thead style='background-color: white'><tr><th>Country</th><th>Total_Revenue</th></tr></thead><tbody><tr><td>United States</td><td>27777098</td></tr><tr><td>Australia</td><td>21196395</td></tr><tr><td>United Kingdom</td><td>10575628</td></tr><tr><td>Germany</td><td>8956724</td></tr><tr><td>France</td><td>8414745</td></tr><tr><td>Canada</td><td>7906182</td></tr></tbody></table></div>"
      ]
     },
     "metadata": {
      "application/vnd.databricks.v1+output": {
       "addedWidgets": {},
       "aggData": [],
       "aggError": "",
       "aggOverflow": false,
       "aggSchema": [],
       "aggSeriesLimitReached": false,
       "aggType": "",
       "arguments": {},
       "columnCustomDisplayInfos": {},
       "data": [
        [
         "United States",
         27777098
        ],
        [
         "Australia",
         21196395
        ],
        [
         "United Kingdom",
         10575628
        ],
        [
         "Germany",
         8956724
        ],
        [
         "France",
         8414745
        ],
        [
         "Canada",
         7906182
        ]
       ],
       "datasetInfos": [],
       "dbfsResultPath": null,
       "isJsonSchema": true,
       "metadata": {},
       "overflow": false,
       "plotOptions": {
        "customPlotOptions": {},
        "displayType": "table",
        "pivotAggregation": null,
        "pivotColumns": null,
        "xColumns": null,
        "yColumns": null
       },
       "removedWidgets": [],
       "schema": [
        {
         "metadata": "{}",
         "name": "Country",
         "type": "\"string\""
        },
        {
         "metadata": "{}",
         "name": "Total_Revenue",
         "type": "\"long\""
        }
       ],
       "type": "table"
      }
     },
     "output_type": "display_data"
    }
   ],
   "source": [
    "%sql\n",
    "SELECT \n",
    "    r.Country,\n",
    "    SUM(f.Revenue) AS Total_Revenue\n",
    "FROM gold.FactSales f\n",
    "JOIN gold.DimRegion r\n",
    "  ON f.ID_Region = r.ID_Region\n",
    "GROUP BY r.Country\n",
    "ORDER BY Total_Revenue DESC;"
   ]
  }
 ],
 "metadata": {
  "application/vnd.databricks.v1+notebook": {
   "computePreferences": null,
   "dashboards": [],
   "environmentMetadata": {
    "base_environment": "",
    "environment_version": "1"
   },
   "inputWidgetPreferences": null,
   "language": "python",
   "notebookMetadata": {
    "mostRecentlyExecutedCommandWithImplicitDF": {
     "commandId": 4406908700183326,
     "dataframes": [
      "_sqldf"
     ]
    },
    "pythonIndentUnit": 4
   },
   "notebookName": "MVP Engenharia de Dados - PedroABull",
   "widgets": {}
  }
 },
 "nbformat": 4,
 "nbformat_minor": 0
}