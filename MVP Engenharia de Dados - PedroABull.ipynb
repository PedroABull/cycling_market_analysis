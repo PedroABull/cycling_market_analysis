{
 "cells": [
  {
   "cell_type": "markdown",
   "metadata": {
    "application/vnd.databricks.v1+cell": {
     "cellMetadata": {
      "byteLimit": 2048000,
      "rowLimit": 10000
     },
     "inputWidgets": {},
     "nuid": "3c95ba9d-0a5b-488d-8a41-acfedff0a9a9",
     "showTitle": false,
     "tableResultSettingsMap": {},
     "title": ""
    }
   },
   "source": [
    "# Projeto: Análise de Vendas de Bicicletas no mercado internacional"
   ]
  },
  {
   "cell_type": "markdown",
   "metadata": {
    "application/vnd.databricks.v1+cell": {
     "cellMetadata": {
      "byteLimit": 2048000,
      "rowLimit": 10000
     },
     "inputWidgets": {},
     "nuid": "5f8e2da9-cef4-4d03-aa2b-e0142ac6e18a",
     "showTitle": false,
     "tableResultSettingsMap": {},
     "title": ""
    }
   },
   "source": [
    "- **Objetivo inicial definido**: Avaliar o comportamento e a evolução do mercado de bicicletas ao ongo dos anos.\n",
    "\n",
    "  - Perguntas a serem respondidas:\n",
    "    - Quais tipos de produtos e/ou categoria movimentam mais o mercado?\n",
    "    - Como o comportamento de compra varia entre diferentes perfis de clientes?\n",
    "    - Em quais tipos de produtos a empresa deve investir?\n",
    "    - Quais países representam os maiores mercados para a empresa?"
   ]
  },
  {
   "cell_type": "markdown",
   "metadata": {
    "application/vnd.databricks.v1+cell": {
     "cellMetadata": {
      "byteLimit": 2048000,
      "rowLimit": 10000
     },
     "inputWidgets": {},
     "nuid": "9aa42a9c-0933-42c0-b4b2-c1c73b2757ee",
     "showTitle": false,
     "tableResultSettingsMap": {},
     "title": ""
    }
   },
   "source": [
    "# 1. Busca pelos Dados: \n",
    "- Este MPV tem como objetivo simular a situação de uma empresa do setor de comércio de bicicletas e acessórios esportivos que atua em diversas regiões do mundo, utilizando análise de dados para definição de estratégias para a expansão da empresa. Por fim, espera-se demonstrar o poder da engenharia e análise de dados aplicados ao suporte de decisões de negócio, em um contexto que simula os desafios reais enfrentados por empresas *data driven*.\n",
    "\n",
    "- **Link da fonte de dados original**: https://www.kaggle.com/datasets/sadiqshah/bike-sales-in-europe\n"
   ]
  },
  {
   "cell_type": "markdown",
   "metadata": {
    "application/vnd.databricks.v1+cell": {
     "cellMetadata": {
      "byteLimit": 2048000,
      "rowLimit": 10000
     },
     "inputWidgets": {},
     "nuid": "5d3e730a-a103-4e42-acdc-cd472455fe48",
     "showTitle": false,
     "tableResultSettingsMap": {},
     "title": ""
    }
   },
   "source": [
    "# 2. Coleta\n",
    "\n",
    "- A etapa de coleta deste MVP se deu unica e exclusivamente pelo armazenamento dos dados brutos no ambiente DBFS (Databricks File System) do databricks."
   ]
  },
  {
   "cell_type": "markdown",
   "metadata": {
    "application/vnd.databricks.v1+cell": {
     "cellMetadata": {
      "byteLimit": 2048000,
      "rowLimit": 10000
     },
     "inputWidgets": {},
     "nuid": "63097b7e-ff6a-42fc-acbd-f621c8420057",
     "showTitle": false,
     "tableResultSettingsMap": {},
     "title": ""
    }
   },
   "source": [
    "# 3. Modelagem\n",
    "\n",
    "- A descrição detalhada com diagramas de modelagem, catálogo de dados e demais informações está no arquivo **readme** do repositório do projeto no Github.\n",
    "\n",
    "- O modelo de dados definido para o problema foi o **SnowFlake**. Essa escolha se deu principalmente para evitar a repetição desnecessária de dados e manter a integridade, facilidade de manutenção e a escalabilidade, pensando que esses dados tendem a crescer com o tempo, tanto em dados históricos mas também em número de produtos e regiões.\n",
    "\n",
    "- O primeiro passo foi desenvolver a modelagem conceitual dos dados definindo a dinâmica de relacionamento das diferentes informações contidas na base de dados original. Para esse caso em específico, as informações de clientes que realizaram compra encontram-se agrupadas, ou seja, a granularidade máxima desses atributos é dada como grupos de clientes por idade e por sexo. Sendo assim, uma cidade pode conter 1 ou n grupos de clientes, assim como um grupo de clientes pode estar em uma ou n cidades. Por esse motivo, foi adotada uma abordagem alternativa ao modelo Snowflake tradicional, com a introdução da tabela intermediária DimRegion_Customers, que permite manter a consistência dos relacionamentos e garantir flexibilidade para análises futuras.\n",
    "\n",
    "- O segundo passo foi eliminar os relacionamentos **n:n** do modelo, incluindo a tabela fato de vendas e uma tabela de relacionamento entre as entidades de Região e Grupo_Cliente.\n",
    "\n",
    "- O terceiro e último passo foi a modelagem lógica das entidades e relacionamentos, onde foram definidas quais as colunas devem estar contidas em cada tabela e quais são as chaves primárias e extrangeiras para cruzar as informações.\n",
    "\n",
    "- Por fim, foram definidas as seguintas tabelas para a camada gold do Data Warehouse:\n",
    "  - **FactSales**: Tabela fato de vendas \n",
    "  - **DimProducts**: Tabela dimensão de produtos\n",
    "  - **DimCustomers**: Tabela dimensão de clientes\n",
    "  - **DimRegion**: Tabela dimensão de regiões de venda\n",
    "  - **DimRegion_Customer**: Tabela cootendo todas as combinações de ID_Region e ID_Customer, chaves primárias das tabelas **DimRegion** e **DimCustomers**, respectivamente.\n"
   ]
  },
  {
   "cell_type": "markdown",
   "metadata": {
    "application/vnd.databricks.v1+cell": {
     "cellMetadata": {
      "byteLimit": 2048000,
      "rowLimit": 10000
     },
     "inputWidgets": {},
     "nuid": "aeb3e092-4e67-4d55-b3c7-ad9d9b6a2b90",
     "showTitle": false,
     "tableResultSettingsMap": {},
     "title": ""
    }
   },
   "source": [
    "# 4. Carga"
   ]
  },
  {
   "cell_type": "markdown",
   "metadata": {
    "application/vnd.databricks.v1+cell": {
     "cellMetadata": {
      "byteLimit": 2048000,
      "rowLimit": 10000
     },
     "inputWidgets": {},
     "nuid": "0df0121d-59e6-420f-acb8-79e07c03fdef",
     "showTitle": false,
     "tableResultSettingsMap": {},
     "title": ""
    }
   },
   "source": [
    "- A etapa de Carga compõe a carga dos dados para o Data Warehouse e o processo de ETL (Extract, Transform, Load), sendo responsável por importar, tratar e organizar os dados da base bruta, estruturando-os de maneira adequada para análises. O processo foi dividido em três camadas principais, seguindo a arquitetura em camadas (bronze, silver e gold)\n",
    "\n",
    "- **Camada bronze**: o arquivo original da fonte de dados foi carregado diretamente para o ambiente do Databricks usando PySpark. O conteúdo foi lido como um DataFrame e salvo no formato **Delta Lake** para garantir confiabilidade nas transações e uma melhor performance das consultas.\n",
    "\n",
    "- **Camada silver**: tratamento, limpeza, padronização e validação da qualidade dos dados presentes na camada bronze. Abaixo estão as validações de *Data Quality* que foram aplicadas nessa camada.\n",
    "  - Compatibilidade dos tipos de dados por coluna\n",
    "  - Verificação de Duplicatas\n",
    "  - Verificação de Nulos\n",
    "  - Renomeação de colunas\n",
    "\n",
    "- **Camada gold**: nessa camada foram salvos os dados consolidados, agregados e modelados para consumo analítico, como já detalhado no item 3."
   ]
  },
  {
   "cell_type": "code",
   "execution_count": 0,
   "metadata": {
    "application/vnd.databricks.v1+cell": {
     "cellMetadata": {
      "byteLimit": 2048000,
      "rowLimit": 10000
     },
     "inputWidgets": {},
     "nuid": "9c38e008-9477-4c48-beb1-b6bd0f331364",
     "showTitle": true,
     "tableResultSettingsMap": {},
     "title": "Importando os dados de vendas"
    }
   },
   "outputs": [],
   "source": [
    "# Importando a base de dados\n",
    "url = 'dbfs:/FileStore/tables/Sales.csv'\n",
    "dataframe_raw = spark.read.csv(url, header = True, inferSchema = True)"
   ]
  },
  {
   "cell_type": "code",
   "execution_count": 0,
   "metadata": {
    "application/vnd.databricks.v1+cell": {
     "cellMetadata": {
      "byteLimit": 2048000,
      "implicitDf": true,
      "rowLimit": 10000
     },
     "inputWidgets": {},
     "nuid": "779c7643-1355-4cca-9c2c-c36ff3275934",
     "showTitle": true,
     "tableResultSettingsMap": {},
     "title": "Criando a camada bronze do Data Lake"
    }
   },
   "outputs": [
    {
     "output_type": "display_data",
     "data": {
      "text/html": [
       "<style scoped>\n",
       "  .table-result-container {\n",
       "    max-height: 300px;\n",
       "    overflow: auto;\n",
       "  }\n",
       "  table, th, td {\n",
       "    border: 1px solid black;\n",
       "    border-collapse: collapse;\n",
       "  }\n",
       "  th, td {\n",
       "    padding: 5px;\n",
       "  }\n",
       "  th {\n",
       "    text-align: left;\n",
       "  }\n",
       "</style><div class='table-result-container'><table class='table-result'><thead style='background-color: white'><tr></tr></thead><tbody></tbody></table></div>"
      ]
     },
     "metadata": {
      "application/vnd.databricks.v1+output": {
       "addedWidgets": {},
       "aggData": [],
       "aggError": "",
       "aggOverflow": false,
       "aggSchema": [],
       "aggSeriesLimitReached": false,
       "aggType": "",
       "arguments": {},
       "columnCustomDisplayInfos": {},
       "data": [],
       "datasetInfos": [],
       "dbfsResultPath": null,
       "isJsonSchema": true,
       "metadata": {},
       "overflow": false,
       "plotOptions": {
        "customPlotOptions": {},
        "displayType": "table",
        "pivotAggregation": null,
        "pivotColumns": null,
        "xColumns": null,
        "yColumns": null
       },
       "removedWidgets": [],
       "schema": [],
       "type": "table"
      }
     },
     "output_type": "display_data"
    }
   ],
   "source": [
    "%sql \n",
    "-- Criando a camada bronze do Data Lake\n",
    "DROP DATABASE IF EXISTS bronze CASCADE;\n",
    "CREATE DATABASE bronze;"
   ]
  },
  {
   "cell_type": "code",
   "execution_count": 0,
   "metadata": {
    "application/vnd.databricks.v1+cell": {
     "cellMetadata": {
      "byteLimit": 2048000,
      "rowLimit": 10000
     },
     "inputWidgets": {},
     "nuid": "1a4415d0-c61b-4dfa-993e-d5f52e0a6214",
     "showTitle": true,
     "tableResultSettingsMap": {},
     "title": "Salvando os dados brutos na camada bronze do Data Lake"
    }
   },
   "outputs": [],
   "source": [
    "# Salvando os dados brutos na camada bronze\n",
    "dataframe_raw.write.format(\"delta\").mode(\"overwrite\").saveAsTable(\"bronze.sales_data\")"
   ]
  },
  {
   "cell_type": "code",
   "execution_count": 0,
   "metadata": {
    "application/vnd.databricks.v1+cell": {
     "cellMetadata": {
      "byteLimit": 2048000,
      "implicitDf": true,
      "rowLimit": 10000
     },
     "inputWidgets": {},
     "nuid": "caf592fa-c7eb-4700-9e1e-113f1a0c2a90",
     "showTitle": true,
     "tableResultSettingsMap": {},
     "title": "Checando as 5 primeiras linhas da base armazenada na camada bronze"
    }
   },
   "outputs": [
    {
     "output_type": "display_data",
     "data": {
      "text/html": [
       "<style scoped>\n",
       "  .table-result-container {\n",
       "    max-height: 300px;\n",
       "    overflow: auto;\n",
       "  }\n",
       "  table, th, td {\n",
       "    border: 1px solid black;\n",
       "    border-collapse: collapse;\n",
       "  }\n",
       "  th, td {\n",
       "    padding: 5px;\n",
       "  }\n",
       "  th {\n",
       "    text-align: left;\n",
       "  }\n",
       "</style><div class='table-result-container'><table class='table-result'><thead style='background-color: white'><tr><th>Date</th><th>Day</th><th>Month</th><th>Year</th><th>Customer_Age</th><th>Age_Group</th><th>Customer_Gender</th><th>Country</th><th>State</th><th>Product_Category</th><th>Sub_Category</th><th>Product</th><th>Order_Quantity</th><th>Unit_Cost</th><th>Unit_Price</th><th>Profit</th><th>Cost</th><th>Revenue</th></tr></thead><tbody><tr><td>2013-11-26</td><td>26</td><td>November</td><td>2013</td><td>19</td><td>Youth (<25)</td><td>M</td><td>Canada</td><td>British Columbia</td><td>Accessories</td><td>Bike Racks</td><td>Hitch Rack - 4-Bike</td><td>8</td><td>45</td><td>120</td><td>590</td><td>360</td><td>950</td></tr><tr><td>2015-11-26</td><td>26</td><td>November</td><td>2015</td><td>19</td><td>Youth (<25)</td><td>M</td><td>Canada</td><td>British Columbia</td><td>Accessories</td><td>Bike Racks</td><td>Hitch Rack - 4-Bike</td><td>8</td><td>45</td><td>120</td><td>590</td><td>360</td><td>950</td></tr><tr><td>2014-03-23</td><td>23</td><td>March</td><td>2014</td><td>49</td><td>Adults (35-64)</td><td>M</td><td>Australia</td><td>New South Wales</td><td>Accessories</td><td>Bike Racks</td><td>Hitch Rack - 4-Bike</td><td>23</td><td>45</td><td>120</td><td>1366</td><td>1035</td><td>2401</td></tr><tr><td>2016-03-23</td><td>23</td><td>March</td><td>2016</td><td>49</td><td>Adults (35-64)</td><td>M</td><td>Australia</td><td>New South Wales</td><td>Accessories</td><td>Bike Racks</td><td>Hitch Rack - 4-Bike</td><td>20</td><td>45</td><td>120</td><td>1188</td><td>900</td><td>2088</td></tr><tr><td>2014-05-15</td><td>15</td><td>May</td><td>2014</td><td>47</td><td>Adults (35-64)</td><td>F</td><td>Australia</td><td>New South Wales</td><td>Accessories</td><td>Bike Racks</td><td>Hitch Rack - 4-Bike</td><td>4</td><td>45</td><td>120</td><td>238</td><td>180</td><td>418</td></tr></tbody></table></div>"
      ]
     },
     "metadata": {
      "application/vnd.databricks.v1+output": {
       "addedWidgets": {},
       "aggData": [],
       "aggError": "",
       "aggOverflow": false,
       "aggSchema": [],
       "aggSeriesLimitReached": false,
       "aggType": "",
       "arguments": {},
       "columnCustomDisplayInfos": {},
       "data": [
        [
         "2013-11-26",
         26,
         "November",
         2013,
         19,
         "Youth (<25)",
         "M",
         "Canada",
         "British Columbia",
         "Accessories",
         "Bike Racks",
         "Hitch Rack - 4-Bike",
         8,
         45,
         120,
         590,
         360,
         950
        ],
        [
         "2015-11-26",
         26,
         "November",
         2015,
         19,
         "Youth (<25)",
         "M",
         "Canada",
         "British Columbia",
         "Accessories",
         "Bike Racks",
         "Hitch Rack - 4-Bike",
         8,
         45,
         120,
         590,
         360,
         950
        ],
        [
         "2014-03-23",
         23,
         "March",
         2014,
         49,
         "Adults (35-64)",
         "M",
         "Australia",
         "New South Wales",
         "Accessories",
         "Bike Racks",
         "Hitch Rack - 4-Bike",
         23,
         45,
         120,
         1366,
         1035,
         2401
        ],
        [
         "2016-03-23",
         23,
         "March",
         2016,
         49,
         "Adults (35-64)",
         "M",
         "Australia",
         "New South Wales",
         "Accessories",
         "Bike Racks",
         "Hitch Rack - 4-Bike",
         20,
         45,
         120,
         1188,
         900,
         2088
        ],
        [
         "2014-05-15",
         15,
         "May",
         2014,
         47,
         "Adults (35-64)",
         "F",
         "Australia",
         "New South Wales",
         "Accessories",
         "Bike Racks",
         "Hitch Rack - 4-Bike",
         4,
         45,
         120,
         238,
         180,
         418
        ]
       ],
       "datasetInfos": [],
       "dbfsResultPath": null,
       "isJsonSchema": true,
       "metadata": {},
       "overflow": false,
       "plotOptions": {
        "customPlotOptions": {},
        "displayType": "table",
        "pivotAggregation": null,
        "pivotColumns": null,
        "xColumns": null,
        "yColumns": null
       },
       "removedWidgets": [],
       "schema": [
        {
         "metadata": "{\"__detected_date_formats\":\"yyyy-M-d\"}",
         "name": "Date",
         "type": "\"date\""
        },
        {
         "metadata": "{}",
         "name": "Day",
         "type": "\"integer\""
        },
        {
         "metadata": "{}",
         "name": "Month",
         "type": "\"string\""
        },
        {
         "metadata": "{}",
         "name": "Year",
         "type": "\"integer\""
        },
        {
         "metadata": "{}",
         "name": "Customer_Age",
         "type": "\"integer\""
        },
        {
         "metadata": "{}",
         "name": "Age_Group",
         "type": "\"string\""
        },
        {
         "metadata": "{}",
         "name": "Customer_Gender",
         "type": "\"string\""
        },
        {
         "metadata": "{}",
         "name": "Country",
         "type": "\"string\""
        },
        {
         "metadata": "{}",
         "name": "State",
         "type": "\"string\""
        },
        {
         "metadata": "{}",
         "name": "Product_Category",
         "type": "\"string\""
        },
        {
         "metadata": "{}",
         "name": "Sub_Category",
         "type": "\"string\""
        },
        {
         "metadata": "{}",
         "name": "Product",
         "type": "\"string\""
        },
        {
         "metadata": "{}",
         "name": "Order_Quantity",
         "type": "\"integer\""
        },
        {
         "metadata": "{}",
         "name": "Unit_Cost",
         "type": "\"integer\""
        },
        {
         "metadata": "{}",
         "name": "Unit_Price",
         "type": "\"integer\""
        },
        {
         "metadata": "{}",
         "name": "Profit",
         "type": "\"integer\""
        },
        {
         "metadata": "{}",
         "name": "Cost",
         "type": "\"integer\""
        },
        {
         "metadata": "{}",
         "name": "Revenue",
         "type": "\"integer\""
        }
       ],
       "type": "table"
      }
     },
     "output_type": "display_data"
    }
   ],
   "source": [
    "%sql \n",
    "-- Checando as 5 primeiras linhas da base bruta\n",
    "SELECT * FROM bronze.sales_data LIMIT 5"
   ]
  },
  {
   "cell_type": "code",
   "execution_count": 0,
   "metadata": {
    "application/vnd.databricks.v1+cell": {
     "cellMetadata": {
      "byteLimit": 2048000,
      "implicitDf": true,
      "rowLimit": 10000
     },
     "inputWidgets": {},
     "nuid": "9f13ca94-c349-4805-a5d9-bff015336385",
     "showTitle": true,
     "tableResultSettingsMap": {},
     "title": "Criando a camada silver do Data Lake"
    }
   },
   "outputs": [
    {
     "output_type": "display_data",
     "data": {
      "text/html": [
       "<style scoped>\n",
       "  .table-result-container {\n",
       "    max-height: 300px;\n",
       "    overflow: auto;\n",
       "  }\n",
       "  table, th, td {\n",
       "    border: 1px solid black;\n",
       "    border-collapse: collapse;\n",
       "  }\n",
       "  th, td {\n",
       "    padding: 5px;\n",
       "  }\n",
       "  th {\n",
       "    text-align: left;\n",
       "  }\n",
       "</style><div class='table-result-container'><table class='table-result'><thead style='background-color: white'><tr></tr></thead><tbody></tbody></table></div>"
      ]
     },
     "metadata": {
      "application/vnd.databricks.v1+output": {
       "addedWidgets": {},
       "aggData": [],
       "aggError": "",
       "aggOverflow": false,
       "aggSchema": [],
       "aggSeriesLimitReached": false,
       "aggType": "",
       "arguments": {},
       "columnCustomDisplayInfos": {},
       "data": [],
       "datasetInfos": [],
       "dbfsResultPath": null,
       "isJsonSchema": true,
       "metadata": {},
       "overflow": false,
       "plotOptions": {
        "customPlotOptions": {},
        "displayType": "table",
        "pivotAggregation": null,
        "pivotColumns": null,
        "xColumns": null,
        "yColumns": null
       },
       "removedWidgets": [],
       "schema": [],
       "type": "table"
      }
     },
     "output_type": "display_data"
    }
   ],
   "source": [
    "%sql \n",
    "-- Criando a camada silver do Data Lake\n",
    "DROP DATABASE IF EXISTS silver CASCADE;\n",
    "CREATE DATABASE silver;"
   ]
  },
  {
   "cell_type": "code",
   "execution_count": 0,
   "metadata": {
    "application/vnd.databricks.v1+cell": {
     "cellMetadata": {
      "byteLimit": 2048000,
      "rowLimit": 10000
     },
     "inputWidgets": {},
     "nuid": "894e5c72-0093-492e-bd37-c1e869f11983",
     "showTitle": true,
     "tableResultSettingsMap": {},
     "title": "Avaliando os tipos de dados para cada coluna"
    }
   },
   "outputs": [
    {
     "output_type": "stream",
     "name": "stdout",
     "output_type": "stream",
     "text": [
      "root\n |-- Date: date (nullable = true)\n |-- Day: integer (nullable = true)\n |-- Month: string (nullable = true)\n |-- Year: integer (nullable = true)\n |-- Customer_Age: integer (nullable = true)\n |-- Age_Group: string (nullable = true)\n |-- Customer_Gender: string (nullable = true)\n |-- Country: string (nullable = true)\n |-- State: string (nullable = true)\n |-- Product_Category: string (nullable = true)\n |-- Sub_Category: string (nullable = true)\n |-- Product: string (nullable = true)\n |-- Order_Quantity: integer (nullable = true)\n |-- Unit_Cost: integer (nullable = true)\n |-- Unit_Price: integer (nullable = true)\n |-- Profit: integer (nullable = true)\n |-- Cost: integer (nullable = true)\n |-- Revenue: integer (nullable = true)\n\n"
     ]
    }
   ],
   "source": [
    "# Importando módulos do Pyspark\n",
    "from pyspark.sql.functions import col, sum\n",
    "\n",
    "# Armazenando a tabela da camada bronze em um dataframe spark\n",
    "df = spark.read.table(\"bronze.sales_data\")\n",
    "\n",
    "# Avaliando os tipos de dados, nomes de colunas e se valores nulos são aceitos\n",
    "df.printSchema()"
   ]
  },
  {
   "cell_type": "code",
   "execution_count": 0,
   "metadata": {
    "application/vnd.databricks.v1+cell": {
     "cellMetadata": {
      "byteLimit": 2048000,
      "rowLimit": 10000
     },
     "inputWidgets": {},
     "nuid": "c641477f-be40-4d82-ac6b-dc4a25cb4eec",
     "showTitle": true,
     "tableResultSettingsMap": {},
     "title": "Verificando se há valores nulos na base de dados"
    }
   },
   "outputs": [
    {
     "output_type": "stream",
     "name": "stdout",
     "output_type": "stream",
     "text": [
      "+----+---+-----+----+------------+---------+---------------+-------+-----+----------------+------------+-------+--------------+---------+----------+------+----+-------+\n|Date|Day|Month|Year|Customer_Age|Age_Group|Customer_Gender|Country|State|Product_Category|Sub_Category|Product|Order_Quantity|Unit_Cost|Unit_Price|Profit|Cost|Revenue|\n+----+---+-----+----+------------+---------+---------------+-------+-----+----------------+------------+-------+--------------+---------+----------+------+----+-------+\n|   0|  0|    0|   0|           0|        0|              0|      0|    0|               0|           0|      0|             0|        0|         0|     0|   0|      0|\n+----+---+-----+----+------------+---------+---------------+-------+-----+----------------+------------+-------+--------------+---------+----------+------+----+-------+\n\n"
     ]
    }
   ],
   "source": [
    "# Verificando se existem valores nulos na base de dados\n",
    "null_counts = df.select([sum(col(c).isNull().cast(\"int\")).alias(c) for c in df.columns])\n",
    "null_counts.show()"
   ]
  },
  {
   "cell_type": "code",
   "execution_count": 0,
   "metadata": {
    "application/vnd.databricks.v1+cell": {
     "cellMetadata": {
      "byteLimit": 2048000,
      "implicitDf": true,
      "rowLimit": 10000
     },
     "inputWidgets": {},
     "nuid": "319a5f40-09c1-453f-a2c0-03407f3a5988",
     "showTitle": true,
     "tableResultSettingsMap": {},
     "title": "Avaliando duplicatas"
    }
   },
   "outputs": [
    {
     "output_type": "display_data",
     "data": {
      "text/html": [
       "<style scoped>\n",
       "  .table-result-container {\n",
       "    max-height: 300px;\n",
       "    overflow: auto;\n",
       "  }\n",
       "  table, th, td {\n",
       "    border: 1px solid black;\n",
       "    border-collapse: collapse;\n",
       "  }\n",
       "  th, td {\n",
       "    padding: 5px;\n",
       "  }\n",
       "  th {\n",
       "    text-align: left;\n",
       "  }\n",
       "</style><div class='table-result-container'><table class='table-result'><thead style='background-color: white'><tr><th>linhas_duplicadas</th></tr></thead><tbody><tr><td>1000</td></tr></tbody></table></div>"
      ]
     },
     "metadata": {
      "application/vnd.databricks.v1+output": {
       "addedWidgets": {},
       "aggData": [],
       "aggError": "",
       "aggOverflow": false,
       "aggSchema": [],
       "aggSeriesLimitReached": false,
       "aggType": "",
       "arguments": {},
       "columnCustomDisplayInfos": {},
       "data": [
        [
         1000
        ]
       ],
       "datasetInfos": [],
       "dbfsResultPath": null,
       "isJsonSchema": true,
       "metadata": {},
       "overflow": false,
       "plotOptions": {
        "customPlotOptions": {},
        "displayType": "table",
        "pivotAggregation": null,
        "pivotColumns": null,
        "xColumns": null,
        "yColumns": null
       },
       "removedWidgets": [],
       "schema": [
        {
         "metadata": "{}",
         "name": "linhas_duplicadas",
         "type": "\"long\""
        }
       ],
       "type": "table"
      }
     },
     "output_type": "display_data"
    }
   ],
   "source": [
    "%sql\n",
    "-- Consultando quantas duplicatas existem na base de dados\n",
    "SELECT \n",
    "  COUNT(*) - COUNT(DISTINCT *) AS linhas_duplicadas\n",
    "FROM bronze.sales_data;"
   ]
  },
  {
   "cell_type": "code",
   "execution_count": 0,
   "metadata": {
    "application/vnd.databricks.v1+cell": {
     "cellMetadata": {
      "byteLimit": 2048000,
      "implicitDf": true,
      "rowLimit": 10000
     },
     "inputWidgets": {},
     "nuid": "ebdce19b-1238-4342-b009-bf300c2adf75",
     "showTitle": true,
     "tableResultSettingsMap": {},
     "title": "Excluindo duplicatas"
    }
   },
   "outputs": [],
   "source": [
    "# Renomeando a coluna de nome do mês\n",
    "df = df.withColumnRenamed(\"Month\", \"Month_Name\")\n",
    "\n",
    "# Retirando as duplicatas e salvando a base na camada silver\n",
    "df_silver = df.dropDuplicates()\n",
    "df_silver.write.format(\"delta\").mode(\"overwrite\").saveAsTable(\"silver.sales_data_silver\")"
   ]
  },
  {
   "cell_type": "code",
   "execution_count": 0,
   "metadata": {
    "application/vnd.databricks.v1+cell": {
     "cellMetadata": {
      "byteLimit": 2048000,
      "implicitDf": true,
      "rowLimit": 10000
     },
     "inputWidgets": {},
     "nuid": "165e5576-b474-45c8-9425-2da04530bad0",
     "showTitle": true,
     "tableResultSettingsMap": {},
     "title": "Criando a camada gold"
    }
   },
   "outputs": [
    {
     "output_type": "display_data",
     "data": {
      "text/html": [
       "<style scoped>\n",
       "  .table-result-container {\n",
       "    max-height: 300px;\n",
       "    overflow: auto;\n",
       "  }\n",
       "  table, th, td {\n",
       "    border: 1px solid black;\n",
       "    border-collapse: collapse;\n",
       "  }\n",
       "  th, td {\n",
       "    padding: 5px;\n",
       "  }\n",
       "  th {\n",
       "    text-align: left;\n",
       "  }\n",
       "</style><div class='table-result-container'><table class='table-result'><thead style='background-color: white'><tr></tr></thead><tbody></tbody></table></div>"
      ]
     },
     "metadata": {
      "application/vnd.databricks.v1+output": {
       "addedWidgets": {},
       "aggData": [],
       "aggError": "",
       "aggOverflow": false,
       "aggSchema": [],
       "aggSeriesLimitReached": false,
       "aggType": "",
       "arguments": {},
       "columnCustomDisplayInfos": {},
       "data": [],
       "datasetInfos": [],
       "dbfsResultPath": null,
       "isJsonSchema": true,
       "metadata": {},
       "overflow": false,
       "plotOptions": {
        "customPlotOptions": {},
        "displayType": "table",
        "pivotAggregation": null,
        "pivotColumns": null,
        "xColumns": null,
        "yColumns": null
       },
       "removedWidgets": [],
       "schema": [],
       "type": "table"
      }
     },
     "output_type": "display_data"
    }
   ],
   "source": [
    "%sql \n",
    "-- Criando a camada gold do Data Lake\n",
    "DROP DATABASE IF EXISTS gold CASCADE;\n",
    "CREATE DATABASE gold;"
   ]
  },
  {
   "cell_type": "code",
   "execution_count": 0,
   "metadata": {
    "application/vnd.databricks.v1+cell": {
     "cellMetadata": {
      "byteLimit": 2048000,
      "implicitDf": true,
      "rowLimit": 10000
     },
     "inputWidgets": {},
     "nuid": "ba18d2a6-7191-4ead-8876-e073e78ad575",
     "showTitle": true,
     "tableResultSettingsMap": {},
     "title": "Criando a tabela e salvando dados - DimProducts"
    }
   },
   "outputs": [
    {
     "output_type": "display_data",
     "data": {
      "text/html": [
       "<style scoped>\n",
       "  .table-result-container {\n",
       "    max-height: 300px;\n",
       "    overflow: auto;\n",
       "  }\n",
       "  table, th, td {\n",
       "    border: 1px solid black;\n",
       "    border-collapse: collapse;\n",
       "  }\n",
       "  th, td {\n",
       "    padding: 5px;\n",
       "  }\n",
       "  th {\n",
       "    text-align: left;\n",
       "  }\n",
       "</style><div class='table-result-container'><table class='table-result'><thead style='background-color: white'><tr><th>num_affected_rows</th><th>num_inserted_rows</th></tr></thead><tbody><tr><td>138</td><td>138</td></tr></tbody></table></div>"
      ]
     },
     "metadata": {
      "application/vnd.databricks.v1+output": {
       "addedWidgets": {},
       "aggData": [],
       "aggError": "",
       "aggOverflow": false,
       "aggSchema": [],
       "aggSeriesLimitReached": false,
       "aggType": "",
       "arguments": {},
       "columnCustomDisplayInfos": {},
       "data": [
        [
         138,
         138
        ]
       ],
       "datasetInfos": [],
       "dbfsResultPath": null,
       "isJsonSchema": true,
       "metadata": {},
       "overflow": false,
       "plotOptions": {
        "customPlotOptions": {},
        "displayType": "table",
        "pivotAggregation": null,
        "pivotColumns": null,
        "xColumns": null,
        "yColumns": null
       },
       "removedWidgets": [],
       "schema": [
        {
         "metadata": "{}",
         "name": "num_affected_rows",
         "type": "\"long\""
        },
        {
         "metadata": "{}",
         "name": "num_inserted_rows",
         "type": "\"long\""
        }
       ],
       "type": "table"
      }
     },
     "output_type": "display_data"
    }
   ],
   "source": [
    "%sql\n",
    "DROP TABLE IF EXISTS gold.DimProducts;\n",
    "CREATE TABLE gold.DimProducts (\n",
    "    ID_Product BIGINT GENERATED ALWAYS AS IDENTITY,\n",
    "    Product STRING NOT NULL,\n",
    "    Category_Product STRING NOT NULL,\n",
    "    SubCategory_Product STRING NOT NULL\n",
    ") USING DELTA;\n",
    "\n",
    "-- Salvando os dados na tabela DimProducts\n",
    "INSERT INTO gold.DimProducts (Product, Category_Product, SubCategory_Product)\n",
    "SELECT DISTINCT Product, Product_Category, Sub_Category \n",
    "FROM silver.sales_data_silver"
   ]
  },
  {
   "cell_type": "code",
   "execution_count": 0,
   "metadata": {
    "application/vnd.databricks.v1+cell": {
     "cellMetadata": {
      "byteLimit": 2048000,
      "implicitDf": true,
      "rowLimit": 10000
     },
     "inputWidgets": {},
     "nuid": "dde916eb-a884-4cc3-b261-609685e44d7b",
     "showTitle": true,
     "tableResultSettingsMap": {},
     "title": "Criando a tabela e salvando dados - DimCustomers"
    }
   },
   "outputs": [
    {
     "output_type": "display_data",
     "data": {
      "text/html": [
       "<style scoped>\n",
       "  .table-result-container {\n",
       "    max-height: 300px;\n",
       "    overflow: auto;\n",
       "  }\n",
       "  table, th, td {\n",
       "    border: 1px solid black;\n",
       "    border-collapse: collapse;\n",
       "  }\n",
       "  th, td {\n",
       "    padding: 5px;\n",
       "  }\n",
       "  th {\n",
       "    text-align: left;\n",
       "  }\n",
       "</style><div class='table-result-container'><table class='table-result'><thead style='background-color: white'><tr><th>num_affected_rows</th><th>num_inserted_rows</th></tr></thead><tbody><tr><td>8</td><td>8</td></tr></tbody></table></div>"
      ]
     },
     "metadata": {
      "application/vnd.databricks.v1+output": {
       "addedWidgets": {},
       "aggData": [],
       "aggError": "",
       "aggOverflow": false,
       "aggSchema": [],
       "aggSeriesLimitReached": false,
       "aggType": "",
       "arguments": {},
       "columnCustomDisplayInfos": {},
       "data": [
        [
         8,
         8
        ]
       ],
       "datasetInfos": [],
       "dbfsResultPath": null,
       "isJsonSchema": true,
       "metadata": {},
       "overflow": false,
       "plotOptions": {
        "customPlotOptions": {},
        "displayType": "table",
        "pivotAggregation": null,
        "pivotColumns": null,
        "xColumns": null,
        "yColumns": null
       },
       "removedWidgets": [],
       "schema": [
        {
         "metadata": "{}",
         "name": "num_affected_rows",
         "type": "\"long\""
        },
        {
         "metadata": "{}",
         "name": "num_inserted_rows",
         "type": "\"long\""
        }
       ],
       "type": "table"
      }
     },
     "output_type": "display_data"
    }
   ],
   "source": [
    "%sql\n",
    "DROP TABLE IF EXISTS gold.DimCustomers;\n",
    "CREATE TABLE gold.DimCustomers (\n",
    "    ID_Customer BIGINT GENERATED ALWAYS AS IDENTITY,\n",
    "    Gender STRING NOT NULL,\n",
    "    Age_Group STRING NOT NULL\n",
    ") USING DELTA;\n",
    "\n",
    "-- Salvando os dados na tabela DimCustomers\n",
    "INSERT INTO gold.DimCustomers (Gender, Age_Group)\n",
    "SELECT DISTINCT Customer_Gender, Age_Group \n",
    "FROM silver.sales_data_silver"
   ]
  },
  {
   "cell_type": "code",
   "execution_count": 0,
   "metadata": {
    "application/vnd.databricks.v1+cell": {
     "cellMetadata": {
      "byteLimit": 2048000,
      "implicitDf": true,
      "rowLimit": 10000
     },
     "inputWidgets": {},
     "nuid": "b651c332-8686-4ee7-874e-155df91dbfce",
     "showTitle": true,
     "tableResultSettingsMap": {},
     "title": "Criando a tabela e salvando dados - DimRegion"
    }
   },
   "outputs": [
    {
     "output_type": "display_data",
     "data": {
      "text/html": [
       "<style scoped>\n",
       "  .table-result-container {\n",
       "    max-height: 300px;\n",
       "    overflow: auto;\n",
       "  }\n",
       "  table, th, td {\n",
       "    border: 1px solid black;\n",
       "    border-collapse: collapse;\n",
       "  }\n",
       "  th, td {\n",
       "    padding: 5px;\n",
       "  }\n",
       "  th {\n",
       "    text-align: left;\n",
       "  }\n",
       "</style><div class='table-result-container'><table class='table-result'><thead style='background-color: white'><tr><th>num_affected_rows</th><th>num_inserted_rows</th></tr></thead><tbody><tr><td>53</td><td>53</td></tr></tbody></table></div>"
      ]
     },
     "metadata": {
      "application/vnd.databricks.v1+output": {
       "addedWidgets": {},
       "aggData": [],
       "aggError": "",
       "aggOverflow": false,
       "aggSchema": [],
       "aggSeriesLimitReached": false,
       "aggType": "",
       "arguments": {},
       "columnCustomDisplayInfos": {},
       "data": [
        [
         53,
         53
        ]
       ],
       "datasetInfos": [],
       "dbfsResultPath": null,
       "isJsonSchema": true,
       "metadata": {},
       "overflow": false,
       "plotOptions": {
        "customPlotOptions": {},
        "displayType": "table",
        "pivotAggregation": null,
        "pivotColumns": null,
        "xColumns": null,
        "yColumns": null
       },
       "removedWidgets": [],
       "schema": [
        {
         "metadata": "{}",
         "name": "num_affected_rows",
         "type": "\"long\""
        },
        {
         "metadata": "{}",
         "name": "num_inserted_rows",
         "type": "\"long\""
        }
       ],
       "type": "table"
      }
     },
     "output_type": "display_data"
    }
   ],
   "source": [
    "%sql\n",
    "DROP TABLE IF EXISTS gold.DimRegion;\n",
    "CREATE TABLE gold.DimRegion (\n",
    "    ID_Region BIGINT GENERATED ALWAYS AS IDENTITY,\n",
    "    Country STRING NOT NULL,\n",
    "    State STRING NOT NULL\n",
    ") USING DELTA;\n",
    "\n",
    "-- Salvando os dados na tabela DimCustomers\n",
    "INSERT INTO gold.DimRegion (Country, State)\n",
    "SELECT DISTINCT Country, State \n",
    "FROM silver.sales_data_silver"
   ]
  },
  {
   "cell_type": "code",
   "execution_count": 0,
   "metadata": {
    "application/vnd.databricks.v1+cell": {
     "cellMetadata": {
      "byteLimit": 2048000,
      "implicitDf": true,
      "rowLimit": 10000
     },
     "inputWidgets": {},
     "nuid": "4ba11e3d-ce39-41ee-8fb0-d135da20cb20",
     "showTitle": true,
     "tableResultSettingsMap": {},
     "title": "Criando a tabela e salvando dados - FactSales"
    }
   },
   "outputs": [
    {
     "output_type": "display_data",
     "data": {
      "text/html": [
       "<style scoped>\n",
       "  .table-result-container {\n",
       "    max-height: 300px;\n",
       "    overflow: auto;\n",
       "  }\n",
       "  table, th, td {\n",
       "    border: 1px solid black;\n",
       "    border-collapse: collapse;\n",
       "  }\n",
       "  th, td {\n",
       "    padding: 5px;\n",
       "  }\n",
       "  th {\n",
       "    text-align: left;\n",
       "  }\n",
       "</style><div class='table-result-container'><table class='table-result'><thead style='background-color: white'><tr><th>Sale_Date</th><th>ID_Customer</th><th>ID_Product</th><th>ID_Region</th><th>Order_Quantity</th><th>Unit_Cost</th><th>Unit_Price</th><th>Profit</th><th>Cost</th><th>Revenue</th></tr></thead><tbody><tr><td>2013-07-07</td><td>6</td><td>44</td><td>42</td><td>26</td><td>13</td><td>35</td><td>508</td><td>338</td><td>846</td></tr><tr><td>2015-07-07</td><td>6</td><td>44</td><td>42</td><td>25</td><td>13</td><td>35</td><td>489</td><td>325</td><td>814</td></tr><tr><td>2013-11-18</td><td>1</td><td>62</td><td>30</td><td>17</td><td>13</td><td>35</td><td>368</td><td>221</td><td>589</td></tr></tbody></table></div>"
      ]
     },
     "metadata": {
      "application/vnd.databricks.v1+output": {
       "addedWidgets": {},
       "aggData": [],
       "aggError": "",
       "aggOverflow": false,
       "aggSchema": [],
       "aggSeriesLimitReached": false,
       "aggType": "",
       "arguments": {},
       "columnCustomDisplayInfos": {},
       "data": [
        [
         "2013-07-07",
         6,
         44,
         42,
         26,
         13,
         35,
         508,
         338,
         846
        ],
        [
         "2015-07-07",
         6,
         44,
         42,
         25,
         13,
         35,
         489,
         325,
         814
        ],
        [
         "2013-11-18",
         1,
         62,
         30,
         17,
         13,
         35,
         368,
         221,
         589
        ]
       ],
       "datasetInfos": [],
       "dbfsResultPath": null,
       "isJsonSchema": true,
       "metadata": {},
       "overflow": false,
       "plotOptions": {
        "customPlotOptions": {},
        "displayType": "table",
        "pivotAggregation": null,
        "pivotColumns": null,
        "xColumns": null,
        "yColumns": null
       },
       "removedWidgets": [],
       "schema": [
        {
         "metadata": "{}",
         "name": "Sale_Date",
         "type": "\"date\""
        },
        {
         "metadata": "{}",
         "name": "ID_Customer",
         "type": "\"long\""
        },
        {
         "metadata": "{}",
         "name": "ID_Product",
         "type": "\"long\""
        },
        {
         "metadata": "{}",
         "name": "ID_Region",
         "type": "\"long\""
        },
        {
         "metadata": "{}",
         "name": "Order_Quantity",
         "type": "\"integer\""
        },
        {
         "metadata": "{}",
         "name": "Unit_Cost",
         "type": "\"integer\""
        },
        {
         "metadata": "{}",
         "name": "Unit_Price",
         "type": "\"integer\""
        },
        {
         "metadata": "{}",
         "name": "Profit",
         "type": "\"integer\""
        },
        {
         "metadata": "{}",
         "name": "Cost",
         "type": "\"integer\""
        },
        {
         "metadata": "{}",
         "name": "Revenue",
         "type": "\"integer\""
        }
       ],
       "type": "table"
      }
     },
     "output_type": "display_data"
    }
   ],
   "source": [
    "%sql\n",
    "-- Etapa 1: Excluir a tabela se já existir\n",
    "DROP TABLE IF EXISTS gold.FactSales;\n",
    "\n",
    "-- Etapa 2: Criar a tabela com as necessárias para a camada gold\n",
    "CREATE TABLE gold.FactSales (\n",
    "    Sale_Date DATE NOT NULL,\n",
    "    ID_Customer BIGINT,\n",
    "    ID_Product BIGINT,\n",
    "    ID_Region BIGINT,\n",
    "    Order_Quantity INT NOT NULL,\n",
    "    Unit_Cost INT NOT NULL,\n",
    "    Unit_Price INT NOT NULL,\n",
    "    Profit INT NOT NULL,\n",
    "    Cost INT NOT NULL,\n",
    "    Revenue INT NOT NULL\n",
    ") USING DELTA;\n",
    "\n",
    "-- Etapa 3: Populando a tabela fato de vendas com os dados da tabela original armazenada na camada silver\n",
    "INSERT INTO gold.FactSales (\n",
    "    Sale_Date, ID_Customer, ID_Product, ID_Region,\n",
    "    Order_Quantity, Unit_Cost, Unit_Price,\n",
    "    Profit, Cost, Revenue\n",
    ")\n",
    "SELECT \n",
    "    s.Date,\n",
    "    c.ID_Customer,\n",
    "    p.ID_Product,\n",
    "    r.ID_Region,\n",
    "    s.Order_Quantity,\n",
    "    s.Unit_Cost,\n",
    "    s.Unit_Price,\n",
    "    s.Profit,\n",
    "    s.Cost,\n",
    "    s.Revenue\n",
    "FROM silver.sales_data_silver s\n",
    "JOIN gold.DimProducts p \n",
    "  ON s.Product = p.Product \n",
    "  AND s.Product_Category = p.Category_Product \n",
    "  AND s.Sub_Category = p.SubCategory_Product\n",
    "JOIN gold.DimCustomers c \n",
    "  ON s.Customer_Gender = c.Gender \n",
    "  AND s.Age_Group = c.Age_Group\n",
    "JOIN gold.DimRegion r \n",
    "  ON s.Country = r.Country \n",
    "  AND s.State = r.State;\n",
    "\n",
    "-- Visualizando as 3 primeiras linhas da base de dados\n",
    "SELECT * FROM gold.FactSales LIMIT 3;\n"
   ]
  },
  {
   "cell_type": "code",
   "execution_count": 0,
   "metadata": {
    "application/vnd.databricks.v1+cell": {
     "cellMetadata": {
      "byteLimit": 2048000,
      "implicitDf": true,
      "rowLimit": 10000
     },
     "inputWidgets": {},
     "nuid": "ea9ce56b-0428-45d1-8d63-31ed11b0fa0f",
     "showTitle": false,
     "tableResultSettingsMap": {},
     "title": ""
    }
   },
   "outputs": [
    {
     "output_type": "display_data",
     "data": {
      "text/html": [
       "<style scoped>\n",
       "  .table-result-container {\n",
       "    max-height: 300px;\n",
       "    overflow: auto;\n",
       "  }\n",
       "  table, th, td {\n",
       "    border: 1px solid black;\n",
       "    border-collapse: collapse;\n",
       "  }\n",
       "  th, td {\n",
       "    padding: 5px;\n",
       "  }\n",
       "  th {\n",
       "    text-align: left;\n",
       "  }\n",
       "</style><div class='table-result-container'><table class='table-result'><thead style='background-color: white'><tr><th>ID_Region</th><th>ID_Customer</th></tr></thead><tbody><tr><td>34</td><td>6</td></tr><tr><td>8</td><td>7</td></tr><tr><td>25</td><td>7</td></tr></tbody></table></div>"
      ]
     },
     "metadata": {
      "application/vnd.databricks.v1+output": {
       "addedWidgets": {},
       "aggData": [],
       "aggError": "",
       "aggOverflow": false,
       "aggSchema": [],
       "aggSeriesLimitReached": false,
       "aggType": "",
       "arguments": {},
       "columnCustomDisplayInfos": {},
       "data": [
        [
         34,
         6
        ],
        [
         8,
         7
        ],
        [
         25,
         7
        ]
       ],
       "datasetInfos": [],
       "dbfsResultPath": null,
       "isJsonSchema": true,
       "metadata": {},
       "overflow": false,
       "plotOptions": {
        "customPlotOptions": {},
        "displayType": "table",
        "pivotAggregation": null,
        "pivotColumns": null,
        "xColumns": null,
        "yColumns": null
       },
       "removedWidgets": [],
       "schema": [
        {
         "metadata": "{}",
         "name": "ID_Region",
         "type": "\"long\""
        },
        {
         "metadata": "{}",
         "name": "ID_Customer",
         "type": "\"long\""
        }
       ],
       "type": "table"
      }
     },
     "output_type": "display_data"
    }
   ],
   "source": [
    "%sql\n",
    "-- Etapa 1: Excluir a tabela se já existir\n",
    "DROP TABLE IF EXISTS gold.DimRegion_Customer;\n",
    "\n",
    "-- Etapa 2: Criar a nova tabela com combinações únicas de ID_Region e ID_Customer\n",
    "CREATE TABLE gold.DimRegion_Customer AS\n",
    "SELECT DISTINCT\n",
    "    ID_Region,\n",
    "    ID_Customer\n",
    "FROM gold.FactSales;\n",
    "\n",
    "-- Visualizando as 3 primeiras linhas da base de dados\n",
    "SELECT * FROM gold.DimRegion_Customer LIMIT 3;"
   ]
  },
  {
   "cell_type": "markdown",
   "metadata": {
    "application/vnd.databricks.v1+cell": {
     "cellMetadata": {
      "byteLimit": 2048000,
      "rowLimit": 10000
     },
     "inputWidgets": {},
     "nuid": "19349cfa-8c87-4a32-b004-f46bc80fe9fa",
     "showTitle": false,
     "tableResultSettingsMap": {},
     "title": ""
    }
   },
   "source": [
    "# 5. Análise\n",
    "- Perguntas a serem respondidas:\n",
    "  - Quais tipos de produtos e/ou categoria movimentam mais o mercado?\n",
    "  - Como o comportamento de compra varia entre diferentes perfis de clientes?\n",
    "  - Em quais tipos de produtos a empresa deve investir?\n",
    "  - Quais países representam os maiores mercados para a empresa?"
   ]
  },
  {
   "cell_type": "markdown",
   "metadata": {
    "application/vnd.databricks.v1+cell": {
     "cellMetadata": {
      "byteLimit": 2048000,
      "rowLimit": 10000
     },
     "inputWidgets": {},
     "nuid": "732ba000-b608-418d-837b-89150a480e45",
     "showTitle": false,
     "tableResultSettingsMap": {},
     "title": ""
    }
   },
   "source": [
    "- Quais tipos de produtos e/ou categoria movimentam mais o mercado?\n",
    "\n",
    "  - **Resposta**: A análise dos TOP 10 produtos em vendas, considerando tanto unidades quanto faturamento, revela dois comportamentos distintos no mercado. Em termos de volume, as categorias de Acessórios e Roupas lideram com folga, refletindo a alta rotatividade e o caráter mais consumível desses itens.\n",
    "\n",
    "    Por outro lado, quando o critério é faturamento, a categoria de Bicicletas se destaca — o que era esperado, já que esses produtos têm um ticket médio significativamente mais alto, apesar do menor volume de vendas.\n",
    "\n",
    "    Esse contraste entre volume e valor evidencia a importância de estratégias diferenciadas por categoria: enquanto acessórios e roupas impulsionam a frequência de compra e fidelização, as bicicletas são responsáveis por uma parcela expressiva da receita."
   ]
  },
  {
   "cell_type": "code",
   "execution_count": 0,
   "metadata": {
    "application/vnd.databricks.v1+cell": {
     "cellMetadata": {
      "byteLimit": 2048000,
      "implicitDf": true,
      "rowLimit": 10000
     },
     "inputWidgets": {},
     "nuid": "f02194ff-2cb2-4d28-bde8-5b9b06cbdf99",
     "showTitle": true,
     "tableResultSettingsMap": {},
     "title": "Top 10 produtos mais vendidos em unidades"
    }
   },
   "outputs": [
    {
     "output_type": "display_data",
     "data": {
      "text/html": [
       "<style scoped>\n",
       "  .table-result-container {\n",
       "    max-height: 300px;\n",
       "    overflow: auto;\n",
       "  }\n",
       "  table, th, td {\n",
       "    border: 1px solid black;\n",
       "    border-collapse: collapse;\n",
       "  }\n",
       "  th, td {\n",
       "    padding: 5px;\n",
       "  }\n",
       "  th {\n",
       "    text-align: left;\n",
       "  }\n",
       "</style><div class='table-result-container'><table class='table-result'><thead style='background-color: white'><tr><th>Category_Product</th><th>SubCategory_Product</th><th>total_quantity</th></tr></thead><tbody><tr><td>Accessories</td><td>Tires and Tubes</td><td>505889</td></tr><tr><td>Accessories</td><td>Bottles and Cages</td><td>238610</td></tr><tr><td>Accessories</td><td>Helmets</td><td>181522</td></tr><tr><td>Clothing</td><td>Jerseys</td><td>88095</td></tr><tr><td>Clothing</td><td>Caps</td><td>67268</td></tr><tr><td>Accessories</td><td>Fenders</td><td>62138</td></tr><tr><td>Clothing</td><td>Gloves</td><td>39978</td></tr><tr><td>Accessories</td><td>Cleaners</td><td>27574</td></tr><tr><td>Clothing</td><td>Shorts</td><td>27168</td></tr><tr><td>Accessories</td><td>Hydration Packs</td><td>19914</td></tr></tbody></table></div>"
      ]
     },
     "metadata": {
      "application/vnd.databricks.v1+output": {
       "addedWidgets": {},
       "aggData": [],
       "aggError": "",
       "aggOverflow": false,
       "aggSchema": [],
       "aggSeriesLimitReached": false,
       "aggType": "",
       "arguments": {},
       "columnCustomDisplayInfos": {},
       "data": [
        [
         "Accessories",
         "Tires and Tubes",
         505889
        ],
        [
         "Accessories",
         "Bottles and Cages",
         238610
        ],
        [
         "Accessories",
         "Helmets",
         181522
        ],
        [
         "Clothing",
         "Jerseys",
         88095
        ],
        [
         "Clothing",
         "Caps",
         67268
        ],
        [
         "Accessories",
         "Fenders",
         62138
        ],
        [
         "Clothing",
         "Gloves",
         39978
        ],
        [
         "Accessories",
         "Cleaners",
         27574
        ],
        [
         "Clothing",
         "Shorts",
         27168
        ],
        [
         "Accessories",
         "Hydration Packs",
         19914
        ]
       ],
       "datasetInfos": [],
       "dbfsResultPath": null,
       "isJsonSchema": true,
       "metadata": {},
       "overflow": false,
       "plotOptions": {
        "customPlotOptions": {},
        "displayType": "table",
        "pivotAggregation": null,
        "pivotColumns": null,
        "xColumns": null,
        "yColumns": null
       },
       "removedWidgets": [],
       "schema": [
        {
         "metadata": "{}",
         "name": "Category_Product",
         "type": "\"string\""
        },
        {
         "metadata": "{}",
         "name": "SubCategory_Product",
         "type": "\"string\""
        },
        {
         "metadata": "{}",
         "name": "total_quantity",
         "type": "\"long\""
        }
       ],
       "type": "table"
      }
     },
     "output_type": "display_data"
    }
   ],
   "source": [
    "%sql\n",
    "SELECT\n",
    "    dp.Category_Product,\n",
    "    dp.SubCategory_Product,\n",
    "    SUM(fs.Order_Quantity) AS total_quantity\n",
    "FROM gold.FactSales fs\n",
    "JOIN gold.DimProducts dp \n",
    "  ON fs.ID_Product = dp.ID_Product\n",
    "GROUP BY \n",
    "    dp.Category_Product,\n",
    "    dp.SubCategory_Product\n",
    "ORDER BY \n",
    "    total_quantity DESC\n",
    "LIMIT 10;"
   ]
  },
  {
   "cell_type": "code",
   "execution_count": 0,
   "metadata": {
    "application/vnd.databricks.v1+cell": {
     "cellMetadata": {
      "byteLimit": 2048000,
      "implicitDf": true,
      "rowLimit": 10000
     },
     "inputWidgets": {},
     "nuid": "4bfee2ae-d9e2-4395-9802-8ececbcd0a09",
     "showTitle": true,
     "tableResultSettingsMap": {},
     "title": "Top 10 produtos em faturamento"
    }
   },
   "outputs": [
    {
     "output_type": "display_data",
     "data": {
      "text/html": [
       "<style scoped>\n",
       "  .table-result-container {\n",
       "    max-height: 300px;\n",
       "    overflow: auto;\n",
       "  }\n",
       "  table, th, td {\n",
       "    border: 1px solid black;\n",
       "    border-collapse: collapse;\n",
       "  }\n",
       "  th, td {\n",
       "    padding: 5px;\n",
       "  }\n",
       "  th {\n",
       "    text-align: left;\n",
       "  }\n",
       "</style><div class='table-result-container'><table class='table-result'><thead style='background-color: white'><tr><th>Category_Product</th><th>SubCategory_Product</th><th>total_revenue</th></tr></thead><tbody><tr><td>Bikes</td><td>Road Bikes</td><td>33150708</td></tr><tr><td>Bikes</td><td>Mountain Bikes</td><td>21020794</td></tr><tr><td>Bikes</td><td>Touring Bikes</td><td>7262982</td></tr><tr><td>Accessories</td><td>Helmets</td><td>5738482</td></tr><tr><td>Accessories</td><td>Tires and Tubes</td><td>4598124</td></tr><tr><td>Clothing</td><td>Jerseys</td><td>4112382</td></tr><tr><td>Clothing</td><td>Shorts</td><td>1740710</td></tr><tr><td>Accessories</td><td>Bottles and Cages</td><td>1390570</td></tr><tr><td>Accessories</td><td>Fenders</td><td>1245733</td></tr><tr><td>Accessories</td><td>Hydration Packs</td><td>990406</td></tr></tbody></table></div>"
      ]
     },
     "metadata": {
      "application/vnd.databricks.v1+output": {
       "addedWidgets": {},
       "aggData": [],
       "aggError": "",
       "aggOverflow": false,
       "aggSchema": [],
       "aggSeriesLimitReached": false,
       "aggType": "",
       "arguments": {},
       "columnCustomDisplayInfos": {},
       "data": [
        [
         "Bikes",
         "Road Bikes",
         33150708
        ],
        [
         "Bikes",
         "Mountain Bikes",
         21020794
        ],
        [
         "Bikes",
         "Touring Bikes",
         7262982
        ],
        [
         "Accessories",
         "Helmets",
         5738482
        ],
        [
         "Accessories",
         "Tires and Tubes",
         4598124
        ],
        [
         "Clothing",
         "Jerseys",
         4112382
        ],
        [
         "Clothing",
         "Shorts",
         1740710
        ],
        [
         "Accessories",
         "Bottles and Cages",
         1390570
        ],
        [
         "Accessories",
         "Fenders",
         1245733
        ],
        [
         "Accessories",
         "Hydration Packs",
         990406
        ]
       ],
       "datasetInfos": [],
       "dbfsResultPath": null,
       "isJsonSchema": true,
       "metadata": {},
       "overflow": false,
       "plotOptions": {
        "customPlotOptions": {},
        "displayType": "table",
        "pivotAggregation": null,
        "pivotColumns": null,
        "xColumns": null,
        "yColumns": null
       },
       "removedWidgets": [],
       "schema": [
        {
         "metadata": "{}",
         "name": "Category_Product",
         "type": "\"string\""
        },
        {
         "metadata": "{}",
         "name": "SubCategory_Product",
         "type": "\"string\""
        },
        {
         "metadata": "{}",
         "name": "total_revenue",
         "type": "\"long\""
        }
       ],
       "type": "table"
      }
     },
     "output_type": "display_data"
    }
   ],
   "source": [
    "%sql\n",
    "SELECT\n",
    "    dp.Category_Product,\n",
    "    dp.SubCategory_Product,\n",
    "    SUM(fs.Revenue) AS total_revenue\n",
    "FROM gold.FactSales fs\n",
    "JOIN gold.DimProducts dp \n",
    "  ON fs.ID_Product = dp.ID_Product\n",
    "GROUP BY \n",
    "    dp.Category_Product,\n",
    "    dp.SubCategory_Product\n",
    "ORDER BY \n",
    "    total_revenue DESC\n",
    "LIMIT 10;"
   ]
  },
  {
   "cell_type": "markdown",
   "metadata": {
    "application/vnd.databricks.v1+cell": {
     "cellMetadata": {
      "byteLimit": 2048000,
      "rowLimit": 10000
     },
     "inputWidgets": {},
     "nuid": "87b9a834-793c-4f0b-8d65-92b04c133f3f",
     "showTitle": false,
     "tableResultSettingsMap": {},
     "title": ""
    }
   },
   "source": [
    "- Como o comportamento de compra varia entre diferentes perfis de clientes?\n",
    "  - **Resposta**: Tradicionalmente, o ciclismo é um esporte dominado pelo público masculino — tanto em número de praticantes quanto na variedade de produtos disponíveis. Isso muitas vezes leva as mulheres a utilizarem equipamentos desenvolvidos para homens.\n",
    "\n",
    "    Entretanto, as três queries abaixo revelam uma mudança nesse cenário: há uma tendência clara de equiparação no comportamento de compra entre os gêneros.\n",
    "\n",
    "    Primeiro, ao analisar as vendas anuais de bicicletas por gênero, observa-se um volume de unidades vendidas bastante semelhante entre homens e mulheres. Em seguida, os dados de faturamento por grupo de clientes e o perfil de consumo também indicam uma equivalência consistente.\n",
    "\n",
    "    Esse panorama destaca uma oportunidade estratégica: investir no desenvolvimento de um portfólio direcionado ao público feminino pode fortalecer a presença da marca nesse segmento e impulsionar o crescimento, atendendo a uma demanda cada vez mais expressiva."
   ]
  },
  {
   "cell_type": "code",
   "execution_count": 0,
   "metadata": {
    "application/vnd.databricks.v1+cell": {
     "cellMetadata": {
      "byteLimit": 2048000,
      "implicitDf": true,
      "rowLimit": 10000
     },
     "inputWidgets": {},
     "nuid": "783ba77c-be50-46a2-b416-0596188074fe",
     "showTitle": true,
     "tableResultSettingsMap": {},
     "title": "Unidades vendidas por gênero, ano a ano"
    }
   },
   "outputs": [
    {
     "output_type": "display_data",
     "data": {
      "text/html": [
       "<style scoped>\n",
       "  .table-result-container {\n",
       "    max-height: 300px;\n",
       "    overflow: auto;\n",
       "  }\n",
       "  table, th, td {\n",
       "    border: 1px solid black;\n",
       "    border-collapse: collapse;\n",
       "  }\n",
       "  th, td {\n",
       "    padding: 5px;\n",
       "  }\n",
       "  th {\n",
       "    text-align: left;\n",
       "  }\n",
       "</style><div class='table-result-container'><table class='table-result'><thead style='background-color: white'><tr><th>Ano</th><th>Genero</th><th>Units_Sold</th></tr></thead><tbody><tr><td>2011</td><td>F</td><td>2689</td></tr><tr><td>2011</td><td>M</td><td>2565</td></tr><tr><td>2012</td><td>F</td><td>2736</td></tr><tr><td>2012</td><td>M</td><td>2592</td></tr><tr><td>2013</td><td>F</td><td>2852</td></tr><tr><td>2013</td><td>M</td><td>2798</td></tr><tr><td>2014</td><td>F</td><td>2140</td></tr><tr><td>2014</td><td>M</td><td>2412</td></tr><tr><td>2015</td><td>F</td><td>4290</td></tr><tr><td>2015</td><td>M</td><td>4230</td></tr><tr><td>2016</td><td>F</td><td>3232</td></tr><tr><td>2016</td><td>M</td><td>3665</td></tr></tbody></table></div>"
      ]
     },
     "metadata": {
      "application/vnd.databricks.v1+output": {
       "addedWidgets": {},
       "aggData": [],
       "aggError": "",
       "aggOverflow": false,
       "aggSchema": [],
       "aggSeriesLimitReached": false,
       "aggType": "",
       "arguments": {},
       "columnCustomDisplayInfos": {},
       "data": [
        [
         2011,
         "F",
         2689
        ],
        [
         2011,
         "M",
         2565
        ],
        [
         2012,
         "F",
         2736
        ],
        [
         2012,
         "M",
         2592
        ],
        [
         2013,
         "F",
         2852
        ],
        [
         2013,
         "M",
         2798
        ],
        [
         2014,
         "F",
         2140
        ],
        [
         2014,
         "M",
         2412
        ],
        [
         2015,
         "F",
         4290
        ],
        [
         2015,
         "M",
         4230
        ],
        [
         2016,
         "F",
         3232
        ],
        [
         2016,
         "M",
         3665
        ]
       ],
       "datasetInfos": [],
       "dbfsResultPath": null,
       "isJsonSchema": true,
       "metadata": {},
       "overflow": false,
       "plotOptions": {
        "customPlotOptions": {},
        "displayType": "table",
        "pivotAggregation": null,
        "pivotColumns": null,
        "xColumns": null,
        "yColumns": null
       },
       "removedWidgets": [],
       "schema": [
        {
         "metadata": "{}",
         "name": "Ano",
         "type": "\"integer\""
        },
        {
         "metadata": "{}",
         "name": "Genero",
         "type": "\"string\""
        },
        {
         "metadata": "{}",
         "name": "Units_Sold",
         "type": "\"long\""
        }
       ],
       "type": "table"
      }
     },
     "output_type": "display_data"
    }
   ],
   "source": [
    "%sql\n",
    "SELECT \n",
    "    YEAR(f.Sale_Date) AS Ano,\n",
    "    c.Gender AS Genero,\n",
    "    ROUND(SUM(f.Order_Quantity), 2) AS Units_Sold\n",
    "FROM gold.FactSales f\n",
    "JOIN gold.DimCustomers c ON f.ID_Customer = c.ID_Customer\n",
    "JOIN gold.DimProducts p ON f.ID_Product = p.ID_Product\n",
    "WHERE p.Category_Product = 'Bikes'\n",
    "GROUP BY \n",
    "    YEAR(f.Sale_Date),\n",
    "    c.Gender\n",
    "ORDER BY Ano, Genero;"
   ]
  },
  {
   "cell_type": "code",
   "execution_count": 0,
   "metadata": {
    "application/vnd.databricks.v1+cell": {
     "cellMetadata": {
      "byteLimit": 2048000,
      "implicitDf": true,
      "rowLimit": 10000
     },
     "inputWidgets": {},
     "nuid": "3a04d17f-b832-4b34-be73-8525fce72e81",
     "showTitle": true,
     "tableResultSettingsMap": {},
     "title": "Qual grupo de clientes gera mais faturamento?"
    }
   },
   "outputs": [
    {
     "output_type": "display_data",
     "data": {
      "text/html": [
       "<style scoped>\n",
       "  .table-result-container {\n",
       "    max-height: 300px;\n",
       "    overflow: auto;\n",
       "  }\n",
       "  table, th, td {\n",
       "    border: 1px solid black;\n",
       "    border-collapse: collapse;\n",
       "  }\n",
       "  th, td {\n",
       "    padding: 5px;\n",
       "  }\n",
       "  th {\n",
       "    text-align: left;\n",
       "  }\n",
       "</style><div class='table-result-container'><table class='table-result'><thead style='background-color: white'><tr><th>Gender</th><th>Age_Group</th><th>total_revenue</th></tr></thead><tbody><tr><td>M</td><td>Adults (35-64)</td><td>21207395</td></tr><tr><td>F</td><td>Adults (35-64)</td><td>21159786</td></tr><tr><td>M</td><td>Young Adults (25-34)</td><td>15391679</td></tr><tr><td>F</td><td>Young Adults (25-34)</td><td>15075353</td></tr><tr><td>M</td><td>Youth (<25)</td><td>6355830</td></tr><tr><td>F</td><td>Youth (<25)</td><td>5329659</td></tr><tr><td>M</td><td>Seniors (64+)</td><td>177179</td></tr><tr><td>F</td><td>Seniors (64+)</td><td>129891</td></tr></tbody></table></div>"
      ]
     },
     "metadata": {
      "application/vnd.databricks.v1+output": {
       "addedWidgets": {},
       "aggData": [],
       "aggError": "",
       "aggOverflow": false,
       "aggSchema": [],
       "aggSeriesLimitReached": false,
       "aggType": "",
       "arguments": {},
       "columnCustomDisplayInfos": {},
       "data": [
        [
         "M",
         "Adults (35-64)",
         21207395
        ],
        [
         "F",
         "Adults (35-64)",
         21159786
        ],
        [
         "M",
         "Young Adults (25-34)",
         15391679
        ],
        [
         "F",
         "Young Adults (25-34)",
         15075353
        ],
        [
         "M",
         "Youth (<25)",
         6355830
        ],
        [
         "F",
         "Youth (<25)",
         5329659
        ],
        [
         "M",
         "Seniors (64+)",
         177179
        ],
        [
         "F",
         "Seniors (64+)",
         129891
        ]
       ],
       "datasetInfos": [],
       "dbfsResultPath": null,
       "isJsonSchema": true,
       "metadata": {},
       "overflow": false,
       "plotOptions": {
        "customPlotOptions": {},
        "displayType": "table",
        "pivotAggregation": null,
        "pivotColumns": null,
        "xColumns": null,
        "yColumns": null
       },
       "removedWidgets": [],
       "schema": [
        {
         "metadata": "{}",
         "name": "Gender",
         "type": "\"string\""
        },
        {
         "metadata": "{}",
         "name": "Age_Group",
         "type": "\"string\""
        },
        {
         "metadata": "{}",
         "name": "total_revenue",
         "type": "\"long\""
        }
       ],
       "type": "table"
      }
     },
     "output_type": "display_data"
    }
   ],
   "source": [
    "%sql\n",
    "SELECT \n",
    "    dc.Gender,\n",
    "    dc.Age_Group,\n",
    "    SUM(fs.Revenue) AS total_revenue\n",
    "FROM gold.FactSales fs\n",
    "JOIN gold.DimCustomers dc \n",
    "  ON fs.ID_Customer = dc.ID_Customer\n",
    "GROUP BY \n",
    "    dc.Gender,\n",
    "    dc.Age_Group\n",
    "ORDER BY \n",
    "    total_revenue DESC;"
   ]
  },
  {
   "cell_type": "code",
   "execution_count": 0,
   "metadata": {
    "application/vnd.databricks.v1+cell": {
     "cellMetadata": {
      "byteLimit": 2048000,
      "implicitDf": true,
      "rowLimit": 10000
     },
     "inputWidgets": {},
     "nuid": "488e181a-8b8d-4440-9d5e-6ea6845cded9",
     "showTitle": true,
     "tableResultSettingsMap": {},
     "title": "Perfil de compra por grupo de clientes"
    }
   },
   "outputs": [
    {
     "output_type": "display_data",
     "data": {
      "text/html": [
       "<style scoped>\n",
       "  .table-result-container {\n",
       "    max-height: 300px;\n",
       "    overflow: auto;\n",
       "  }\n",
       "  table, th, td {\n",
       "    border: 1px solid black;\n",
       "    border-collapse: collapse;\n",
       "  }\n",
       "  th, td {\n",
       "    padding: 5px;\n",
       "  }\n",
       "  th {\n",
       "    text-align: left;\n",
       "  }\n",
       "</style><div class='table-result-container'><table class='table-result'><thead style='background-color: white'><tr><th>Gender</th><th>Age_Group</th><th>SubCategory_Product</th><th>Total_Vendas</th><th>Receita_Total</th><th>Ticket_Medio</th></tr></thead><tbody><tr><td>F</td><td>Adults (35-64)</td><td>Road Bikes</td><td>4718</td><td>8101329</td><td>2534.83</td></tr><tr><td>M</td><td>Adults (35-64)</td><td>Road Bikes</td><td>4503</td><td>7520714</td><td>2441.0</td></tr><tr><td>M</td><td>Young Adults (25-34)</td><td>Road Bikes</td><td>3811</td><td>6366190</td><td>2419.68</td></tr><tr><td>F</td><td>Young Adults (25-34)</td><td>Road Bikes</td><td>3564</td><td>5980321</td><td>2461.04</td></tr><tr><td>F</td><td>Adults (35-64)</td><td>Mountain Bikes</td><td>2976</td><td>5251065</td><td>2335.88</td></tr><tr><td>M</td><td>Adults (35-64)</td><td>Mountain Bikes</td><td>2818</td><td>5229238</td><td>2453.89</td></tr><tr><td>F</td><td>Young Adults (25-34)</td><td>Mountain Bikes</td><td>2346</td><td>4172327</td><td>2451.43</td></tr><tr><td>M</td><td>Young Adults (25-34)</td><td>Mountain Bikes</td><td>2191</td><td>3643556</td><td>2288.67</td></tr><tr><td>M</td><td>Youth (<25)</td><td>Road Bikes</td><td>1697</td><td>2774659</td><td>2495.2</td></tr><tr><td>F</td><td>Youth (<25)</td><td>Road Bikes</td><td>1309</td><td>2348012</td><td>2798.58</td></tr><tr><td>F</td><td>Adults (35-64)</td><td>Touring Bikes</td><td>1239</td><td>2042246</td><td>2077.56</td></tr><tr><td>M</td><td>Adults (35-64)</td><td>Touring Bikes</td><td>1228</td><td>2021779</td><td>2073.62</td></tr><tr><td>M</td><td>Adults (35-64)</td><td>Helmets</td><td>47278</td><td>1497798</td><td>485.35</td></tr><tr><td>F</td><td>Adults (35-64)</td><td>Helmets</td><td>46736</td><td>1483439</td><td>480.39</td></tr><tr><td>M</td><td>Youth (<25)</td><td>Mountain Bikes</td><td>870</td><td>1403352</td><td>2285.59</td></tr><tr><td>F</td><td>Young Adults (25-34)</td><td>Touring Bikes</td><td>872</td><td>1327432</td><td>1890.93</td></tr><tr><td>M</td><td>Adults (35-64)</td><td>Tires and Tubes</td><td>126292</td><td>1272753</td><td>153.01</td></tr><tr><td>M</td><td>Young Adults (25-34)</td><td>Touring Bikes</td><td>858</td><td>1268269</td><td>1854.19</td></tr><tr><td>F</td><td>Youth (<25)</td><td>Mountain Bikes</td><td>699</td><td>1255006</td><td>2561.24</td></tr><tr><td>M</td><td>Adults (35-64)</td><td>Jerseys</td><td>24056</td><td>1126154</td><td>750.77</td></tr><tr><td>M</td><td>Young Adults (25-34)</td><td>Helmets</td><td>32801</td><td>1032272</td><td>475.7</td></tr><tr><td>F</td><td>Adults (35-64)</td><td>Tires and Tubes</td><td>118800</td><td>1024358</td><td>133.47</td></tr><tr><td>F</td><td>Adults (35-64)</td><td>Jerseys</td><td>20406</td><td>955307</td><td>676.08</td></tr><tr><td>F</td><td>Young Adults (25-34)</td><td>Helmets</td><td>28170</td><td>887484</td><td>460.07</td></tr><tr><td>M</td><td>Young Adults (25-34)</td><td>Tires and Tubes</td><td>83763</td><td>851036</td><td>154.31</td></tr><tr><td>M</td><td>Young Adults (25-34)</td><td>Jerseys</td><td>16266</td><td>757410</td><td>642.42</td></tr><tr><td>F</td><td>Young Adults (25-34)</td><td>Tires and Tubes</td><td>80243</td><td>729482</td><td>137.72</td></tr><tr><td>F</td><td>Young Adults (25-34)</td><td>Jerseys</td><td>14842</td><td>691622</td><td>682.75</td></tr><tr><td>M</td><td>Adults (35-64)</td><td>Shorts</td><td>8096</td><td>517367</td><td>1018.44</td></tr><tr><td>M</td><td>Youth (<25)</td><td>Helmets</td><td>15894</td><td>499332</td><td>468.42</td></tr><tr><td>F</td><td>Adults (35-64)</td><td>Shorts</td><td>7281</td><td>466899</td><td>972.71</td></tr><tr><td>M</td><td>Adults (35-64)</td><td>Bottles and Cages</td><td>59625</td><td>364434</td><td>92.05</td></tr><tr><td>F</td><td>Youth (<25)</td><td>Tires and Tubes</td><td>43560</td><td>349235</td><td>119.03</td></tr><tr><td>F</td><td>Adults (35-64)</td><td>Bottles and Cages</td><td>59373</td><td>348801</td><td>88.91</td></tr><tr><td>M</td><td>Adults (35-64)</td><td>Vests</td><td>4113</td><td>346623</td><td>1293.37</td></tr><tr><td>M</td><td>Adults (35-64)</td><td>Fenders</td><td>16962</td><td>339952</td><td>314.77</td></tr><tr><td>M</td><td>Youth (<25)</td><td>Touring Bikes</td><td>233</td><td>330496</td><td>1796.17</td></tr><tr><td>F</td><td>Adults (35-64)</td><td>Fenders</td><td>15874</td><td>321245</td><td>317.44</td></tr><tr><td>M</td><td>Youth (<25)</td><td>Tires and Tubes</td><td>48407</td><td>320409</td><td>99.04</td></tr><tr><td>F</td><td>Youth (<25)</td><td>Helmets</td><td>9373</td><td>297402</td><td>415.95</td></tr><tr><td>F</td><td>Adults (35-64)</td><td>Hydration Packs</td><td>5870</td><td>294286</td><td>782.68</td></tr><tr><td>M</td><td>Youth (<25)</td><td>Jerseys</td><td>6288</td><td>291822</td><td>615.66</td></tr><tr><td>F</td><td>Youth (<25)</td><td>Jerseys</td><td>5769</td><td>268626</td><td>676.64</td></tr><tr><td>F</td><td>Youth (<25)</td><td>Touring Bikes</td><td>189</td><td>263434</td><td>1829.4</td></tr><tr><td>M</td><td>Adults (35-64)</td><td>Hydration Packs</td><td>5232</td><td>261544</td><td>743.02</td></tr><tr><td>M</td><td>Young Adults (25-34)</td><td>Shorts</td><td>4023</td><td>258114</td><td>896.23</td></tr><tr><td>M</td><td>Young Adults (25-34)</td><td>Bottles and Cages</td><td>42286</td><td>235011</td><td>87.27</td></tr><tr><td>M</td><td>Adults (35-64)</td><td>Gloves</td><td>10780</td><td>234266</td><td>323.57</td></tr><tr><td>M</td><td>Young Adults (25-34)</td><td>Fenders</td><td>11391</td><td>230202</td><td>321.51</td></tr><tr><td>F</td><td>Young Adults (25-34)</td><td>Shorts</td><td>3543</td><td>227364</td><td>1006.04</td></tr><tr><td>F</td><td>Adults (35-64)</td><td>Gloves</td><td>9876</td><td>217629</td><td>336.89</td></tr><tr><td>F</td><td>Young Adults (25-34)</td><td>Bottles and Cages</td><td>38678</td><td>214553</td><td>84.87</td></tr><tr><td>F</td><td>Adults (35-64)</td><td>Vests</td><td>3428</td><td>198532</td><td>848.43</td></tr><tr><td>F</td><td>Young Adults (25-34)</td><td>Fenders</td><td>8591</td><td>168856</td><td>292.14</td></tr><tr><td>M</td><td>Adults (35-64)</td><td>Bike Racks</td><td>1510</td><td>164559</td><td>904.17</td></tr><tr><td>M</td><td>Young Adults (25-34)</td><td>Vests</td><td>2630</td><td>151119</td><td>932.83</td></tr><tr><td>M</td><td>Young Adults (25-34)</td><td>Hydration Packs</td><td>3049</td><td>149313</td><td>717.85</td></tr><tr><td>F</td><td>Adults (35-64)</td><td>Bike Racks</td><td>1340</td><td>148159</td><td>1014.79</td></tr><tr><td>M</td><td>Young Adults (25-34)</td><td>Gloves</td><td>6713</td><td>145825</td><td>307.65</td></tr><tr><td>F</td><td>Young Adults (25-34)</td><td>Hydration Packs</td><td>2842</td><td>141427</td><td>744.35</td></tr><tr><td>M</td><td>Youth (<25)</td><td>Shorts</td><td>2191</td><td>140000</td><td>875.0</td></tr><tr><td>F</td><td>Adults (35-64)</td><td>Caps</td><td>16611</td><td>137018</td><td>132.26</td></tr><tr><td>M</td><td>Adults (35-64)</td><td>Caps</td><td>16416</td><td>134734</td><td>127.35</td></tr><tr><td>F</td><td>Young Adults (25-34)</td><td>Vests</td><td>2280</td><td>131616</td><td>914.0</td></tr><tr><td>F</td><td>Young Adults (25-34)</td><td>Gloves</td><td>6015</td><td>130628</td><td>321.74</td></tr><tr><td>F</td><td>Youth (<25)</td><td>Shorts</td><td>1964</td><td>126802</td><td>1022.6</td></tr><tr><td>M</td><td>Youth (<25)</td><td>Bottles and Cages</td><td>19295</td><td>113797</td><td>90.53</td></tr><tr><td>M</td><td>Youth (<25)</td><td>Fenders</td><td>5540</td><td>110733</td><td>321.9</td></tr><tr><td>F</td><td>Youth (<25)</td><td>Bottles and Cages</td><td>18194</td><td>105638</td><td>86.87</td></tr><tr><td>M</td><td>Young Adults (25-34)</td><td>Bike Racks</td><td>910</td><td>99763</td><td>860.03</td></tr><tr><td>M</td><td>Young Adults (25-34)</td><td>Caps</td><td>12144</td><td>99557</td><td>127.31</td></tr><tr><td>M</td><td>Youth (<25)</td><td>Gloves</td><td>4515</td><td>98276</td><td>361.31</td></tr><tr><td>F</td><td>Young Adults (25-34)</td><td>Caps</td><td>11594</td><td>92381</td><td>124.5</td></tr><tr><td>F</td><td>Adults (35-64)</td><td>Bike Stands</td><td>600</td><td>87443</td><td>672.64</td></tr><tr><td>M</td><td>Adults (35-64)</td><td>Bike Stands</td><td>615</td><td>87139</td><td>871.39</td></tr><tr><td>M</td><td>Youth (<25)</td><td>Hydration Packs</td><td>1580</td><td>78543</td><td>677.09</td></tr><tr><td>F</td><td>Young Adults (25-34)</td><td>Bike Racks</td><td>610</td><td>66159</td><td>806.82</td></tr><tr><td>F</td><td>Youth (<25)</td><td>Fenders</td><td>3292</td><td>65378</td><td>242.14</td></tr><tr><td>M</td><td>Youth (<25)</td><td>Vests</td><td>1099</td><td>63650</td><td>816.03</td></tr><tr><td>F</td><td>Youth (<25)</td><td>Hydration Packs</td><td>1151</td><td>55708</td><td>696.35</td></tr><tr><td>M</td><td>Adults (35-64)</td><td>Cleaners</td><td>7547</td><td>54083</td><td>109.04</td></tr><tr><td>F</td><td>Young Adults (25-34)</td><td>Bike Stands</td><td>385</td><td>53717</td><td>688.68</td></tr><tr><td>F</td><td>Adults (35-64)</td><td>Cleaners</td><td>6853</td><td>49835</td><td>111.74</td></tr><tr><td>M</td><td>Young Adults (25-34)</td><td>Bike Stands</td><td>338</td><td>48164</td><td>752.56</td></tr><tr><td>M</td><td>Seniors (64+)</td><td>Road Bikes</td><td>23</td><td>44154</td><td>3153.86</td></tr><tr><td>F</td><td>Youth (<25)</td><td>Vests</td><td>733</td><td>43320</td><td>698.71</td></tr><tr><td>F</td><td>Youth (<25)</td><td>Caps</td><td>5330</td><td>43073</td><td>114.56</td></tr><tr><td>M</td><td>Seniors (64+)</td><td>Mountain Bikes</td><td>25</td><td>41447</td><td>2072.35</td></tr><tr><td>F</td><td>Youth (<25)</td><td>Gloves</td><td>1863</td><td>40172</td><td>267.81</td></tr><tr><td>M</td><td>Youth (<25)</td><td>Caps</td><td>4905</td><td>39851</td><td>116.52</td></tr><tr><td>M</td><td>Youth (<25)</td><td>Bike Stands</td><td>275</td><td>39673</td><td>967.63</td></tr><tr><td>M</td><td>Adults (35-64)</td><td>Socks</td><td>4136</td><td>34258</td><td>128.79</td></tr><tr><td>F</td><td>Young Adults (25-34)</td><td>Cleaners</td><td>4602</td><td>33297</td><td>114.82</td></tr><tr><td>F</td><td>Adults (35-64)</td><td>Socks</td><td>3910</td><td>32195</td><td>133.04</td></tr><tr><td>M</td><td>Young Adults (25-34)</td><td>Cleaners</td><td>3952</td><td>28118</td><td>101.14</td></tr><tr><td>F</td><td>Seniors (64+)</td><td>Helmets</td><td>854</td><td>27887</td><td>480.81</td></tr><tr><td>M</td><td>Young Adults (25-34)</td><td>Socks</td><td>3374</td><td>27760</td><td>130.94</td></tr><tr><td>M</td><td>Seniors (64+)</td><td>Tires and Tubes</td><td>2614</td><td>27438</td><td>161.4</td></tr><tr><td>F</td><td>Young Adults (25-34)</td><td>Socks</td><td>3300</td><td>26687</td><td>134.78</td></tr><tr><td>F</td><td>Seniors (64+)</td><td>Mountain Bikes</td><td>10</td><td>24803</td><td>4133.83</td></tr><tr><td>F</td><td>Youth (<25)</td><td>Bike Stands</td><td>172</td><td>24061</td><td>633.18</td></tr><tr><td>F</td><td>Seniors (64+)</td><td>Tires and Tubes</td><td>2210</td><td>23413</td><td>152.03</td></tr><tr><td>M</td><td>Youth (<25)</td><td>Bike Racks</td><td>190</td><td>19781</td><td>760.81</td></tr><tr><td>F</td><td>Youth (<25)</td><td>Bike Racks</td><td>173</td><td>18534</td><td>514.83</td></tr><tr><td>M</td><td>Seniors (64+)</td><td>Jerseys</td><td>395</td><td>18096</td><td>822.55</td></tr><tr><td>M</td><td>Youth (<25)</td><td>Cleaners</td><td>2284</td><td>16548</td><td>107.45</td></tr><tr><td>F</td><td>Youth (<25)</td><td>Cleaners</td><td>2136</td><td>15530</td><td>127.3</td></tr><tr><td>F</td><td>Seniors (64+)</td><td>Road Bikes</td><td>13</td><td>15329</td><td>1532.9</td></tr><tr><td>M</td><td>Youth (<25)</td><td>Socks</td><td>1531</td><td>14908</td><td>146.16</td></tr><tr><td>M</td><td>Seniors (64+)</td><td>Helmets</td><td>416</td><td>12868</td><td>338.63</td></tr><tr><td>F</td><td>Seniors (64+)</td><td>Vests</td><td>174</td><td>10479</td><td>873.25</td></tr><tr><td>F</td><td>Youth (<25)</td><td>Socks</td><td>1222</td><td>9728</td><td>108.09</td></tr><tr><td>M</td><td>Seniors (64+)</td><td>Hydration Packs</td><td>135</td><td>6590</td><td>659.0</td></tr><tr><td>M</td><td>Seniors (64+)</td><td>Bottles and Cages</td><td>778</td><td>5805</td><td>120.94</td></tr><tr><td>F</td><td>Seniors (64+)</td><td>Fenders</td><td>263</td><td>5112</td><td>284.0</td></tr><tr><td>F</td><td>Seniors (64+)</td><td>Touring Bikes</td><td>4</td><td>4763</td><td>2381.5</td></tr><tr><td>M</td><td>Seniors (64+)</td><td>Touring Bikes</td><td>5</td><td>4563</td><td>1140.75</td></tr><tr><td>M</td><td>Seniors (64+)</td><td>Fenders</td><td>225</td><td>4255</td><td>303.93</td></tr><tr><td>M</td><td>Seniors (64+)</td><td>Vests</td><td>69</td><td>3724</td><td>931.0</td></tr><tr><td>F</td><td>Seniors (64+)</td><td>Jerseys</td><td>73</td><td>3345</td><td>418.13</td></tr><tr><td>F</td><td>Seniors (64+)</td><td>Hydration Packs</td><td>55</td><td>2995</td><td>1497.5</td></tr><tr><td>F</td><td>Seniors (64+)</td><td>Bottles and Cages</td><td>381</td><td>2531</td><td>101.24</td></tr><tr><td>F</td><td>Seniors (64+)</td><td>Shorts</td><td>40</td><td>2508</td><td>627.0</td></tr><tr><td>F</td><td>Seniors (64+)</td><td>Gloves</td><td>121</td><td>2384</td><td>298.0</td></tr><tr><td>M</td><td>Seniors (64+)</td><td>Gloves</td><td>95</td><td>2239</td><td>373.17</td></tr><tr><td>M</td><td>Seniors (64+)</td><td>Shorts</td><td>30</td><td>1656</td><td>414.0</td></tr><tr><td>F</td><td>Seniors (64+)</td><td>Bike Stands</td><td>10</td><td>1526</td><td>763.0</td></tr><tr><td>M</td><td>Seniors (64+)</td><td>Caps</td><td>160</td><td>1278</td><td>91.29</td></tr><tr><td>M</td><td>Seniors (64+)</td><td>Cleaners</td><td>168</td><td>1185</td><td>98.75</td></tr><tr><td>M</td><td>Seniors (64+)</td><td>Bike Stands</td><td>8</td><td>1107</td><td>553.5</td></tr><tr><td>F</td><td>Seniors (64+)</td><td>Caps</td><td>108</td><td>885</td><td>110.63</td></tr><tr><td>F</td><td>Seniors (64+)</td><td>Socks</td><td>105</td><td>861</td><td>143.5</td></tr><tr><td>F</td><td>Seniors (64+)</td><td>Bike Racks</td><td>8</td><td>845</td><td>211.25</td></tr><tr><td>M</td><td>Seniors (64+)</td><td>Socks</td><td>100</td><td>774</td><td>129.0</td></tr><tr><td>F</td><td>Seniors (64+)</td><td>Cleaners</td><td>32</td><td>225</td><td>56.25</td></tr></tbody></table></div>"
      ]
     },
     "metadata": {
      "application/vnd.databricks.v1+output": {
       "addedWidgets": {},
       "aggData": [],
       "aggError": "",
       "aggOverflow": false,
       "aggSchema": [],
       "aggSeriesLimitReached": false,
       "aggType": "",
       "arguments": {},
       "columnCustomDisplayInfos": {},
       "data": [
        [
         "F",
         "Adults (35-64)",
         "Road Bikes",
         4718,
         8101329,
         2534.83
        ],
        [
         "M",
         "Adults (35-64)",
         "Road Bikes",
         4503,
         7520714,
         2441.0
        ],
        [
         "M",
         "Young Adults (25-34)",
         "Road Bikes",
         3811,
         6366190,
         2419.68
        ],
        [
         "F",
         "Young Adults (25-34)",
         "Road Bikes",
         3564,
         5980321,
         2461.04
        ],
        [
         "F",
         "Adults (35-64)",
         "Mountain Bikes",
         2976,
         5251065,
         2335.88
        ],
        [
         "M",
         "Adults (35-64)",
         "Mountain Bikes",
         2818,
         5229238,
         2453.89
        ],
        [
         "F",
         "Young Adults (25-34)",
         "Mountain Bikes",
         2346,
         4172327,
         2451.43
        ],
        [
         "M",
         "Young Adults (25-34)",
         "Mountain Bikes",
         2191,
         3643556,
         2288.67
        ],
        [
         "M",
         "Youth (<25)",
         "Road Bikes",
         1697,
         2774659,
         2495.2
        ],
        [
         "F",
         "Youth (<25)",
         "Road Bikes",
         1309,
         2348012,
         2798.58
        ],
        [
         "F",
         "Adults (35-64)",
         "Touring Bikes",
         1239,
         2042246,
         2077.56
        ],
        [
         "M",
         "Adults (35-64)",
         "Touring Bikes",
         1228,
         2021779,
         2073.62
        ],
        [
         "M",
         "Adults (35-64)",
         "Helmets",
         47278,
         1497798,
         485.35
        ],
        [
         "F",
         "Adults (35-64)",
         "Helmets",
         46736,
         1483439,
         480.39
        ],
        [
         "M",
         "Youth (<25)",
         "Mountain Bikes",
         870,
         1403352,
         2285.59
        ],
        [
         "F",
         "Young Adults (25-34)",
         "Touring Bikes",
         872,
         1327432,
         1890.93
        ],
        [
         "M",
         "Adults (35-64)",
         "Tires and Tubes",
         126292,
         1272753,
         153.01
        ],
        [
         "M",
         "Young Adults (25-34)",
         "Touring Bikes",
         858,
         1268269,
         1854.19
        ],
        [
         "F",
         "Youth (<25)",
         "Mountain Bikes",
         699,
         1255006,
         2561.24
        ],
        [
         "M",
         "Adults (35-64)",
         "Jerseys",
         24056,
         1126154,
         750.77
        ],
        [
         "M",
         "Young Adults (25-34)",
         "Helmets",
         32801,
         1032272,
         475.7
        ],
        [
         "F",
         "Adults (35-64)",
         "Tires and Tubes",
         118800,
         1024358,
         133.47
        ],
        [
         "F",
         "Adults (35-64)",
         "Jerseys",
         20406,
         955307,
         676.08
        ],
        [
         "F",
         "Young Adults (25-34)",
         "Helmets",
         28170,
         887484,
         460.07
        ],
        [
         "M",
         "Young Adults (25-34)",
         "Tires and Tubes",
         83763,
         851036,
         154.31
        ],
        [
         "M",
         "Young Adults (25-34)",
         "Jerseys",
         16266,
         757410,
         642.42
        ],
        [
         "F",
         "Young Adults (25-34)",
         "Tires and Tubes",
         80243,
         729482,
         137.72
        ],
        [
         "F",
         "Young Adults (25-34)",
         "Jerseys",
         14842,
         691622,
         682.75
        ],
        [
         "M",
         "Adults (35-64)",
         "Shorts",
         8096,
         517367,
         1018.44
        ],
        [
         "M",
         "Youth (<25)",
         "Helmets",
         15894,
         499332,
         468.42
        ],
        [
         "F",
         "Adults (35-64)",
         "Shorts",
         7281,
         466899,
         972.71
        ],
        [
         "M",
         "Adults (35-64)",
         "Bottles and Cages",
         59625,
         364434,
         92.05
        ],
        [
         "F",
         "Youth (<25)",
         "Tires and Tubes",
         43560,
         349235,
         119.03
        ],
        [
         "F",
         "Adults (35-64)",
         "Bottles and Cages",
         59373,
         348801,
         88.91
        ],
        [
         "M",
         "Adults (35-64)",
         "Vests",
         4113,
         346623,
         1293.37
        ],
        [
         "M",
         "Adults (35-64)",
         "Fenders",
         16962,
         339952,
         314.77
        ],
        [
         "M",
         "Youth (<25)",
         "Touring Bikes",
         233,
         330496,
         1796.17
        ],
        [
         "F",
         "Adults (35-64)",
         "Fenders",
         15874,
         321245,
         317.44
        ],
        [
         "M",
         "Youth (<25)",
         "Tires and Tubes",
         48407,
         320409,
         99.04
        ],
        [
         "F",
         "Youth (<25)",
         "Helmets",
         9373,
         297402,
         415.95
        ],
        [
         "F",
         "Adults (35-64)",
         "Hydration Packs",
         5870,
         294286,
         782.68
        ],
        [
         "M",
         "Youth (<25)",
         "Jerseys",
         6288,
         291822,
         615.66
        ],
        [
         "F",
         "Youth (<25)",
         "Jerseys",
         5769,
         268626,
         676.64
        ],
        [
         "F",
         "Youth (<25)",
         "Touring Bikes",
         189,
         263434,
         1829.4
        ],
        [
         "M",
         "Adults (35-64)",
         "Hydration Packs",
         5232,
         261544,
         743.02
        ],
        [
         "M",
         "Young Adults (25-34)",
         "Shorts",
         4023,
         258114,
         896.23
        ],
        [
         "M",
         "Young Adults (25-34)",
         "Bottles and Cages",
         42286,
         235011,
         87.27
        ],
        [
         "M",
         "Adults (35-64)",
         "Gloves",
         10780,
         234266,
         323.57
        ],
        [
         "M",
         "Young Adults (25-34)",
         "Fenders",
         11391,
         230202,
         321.51
        ],
        [
         "F",
         "Young Adults (25-34)",
         "Shorts",
         3543,
         227364,
         1006.04
        ],
        [
         "F",
         "Adults (35-64)",
         "Gloves",
         9876,
         217629,
         336.89
        ],
        [
         "F",
         "Young Adults (25-34)",
         "Bottles and Cages",
         38678,
         214553,
         84.87
        ],
        [
         "F",
         "Adults (35-64)",
         "Vests",
         3428,
         198532,
         848.43
        ],
        [
         "F",
         "Young Adults (25-34)",
         "Fenders",
         8591,
         168856,
         292.14
        ],
        [
         "M",
         "Adults (35-64)",
         "Bike Racks",
         1510,
         164559,
         904.17
        ],
        [
         "M",
         "Young Adults (25-34)",
         "Vests",
         2630,
         151119,
         932.83
        ],
        [
         "M",
         "Young Adults (25-34)",
         "Hydration Packs",
         3049,
         149313,
         717.85
        ],
        [
         "F",
         "Adults (35-64)",
         "Bike Racks",
         1340,
         148159,
         1014.79
        ],
        [
         "M",
         "Young Adults (25-34)",
         "Gloves",
         6713,
         145825,
         307.65
        ],
        [
         "F",
         "Young Adults (25-34)",
         "Hydration Packs",
         2842,
         141427,
         744.35
        ],
        [
         "M",
         "Youth (<25)",
         "Shorts",
         2191,
         140000,
         875.0
        ],
        [
         "F",
         "Adults (35-64)",
         "Caps",
         16611,
         137018,
         132.26
        ],
        [
         "M",
         "Adults (35-64)",
         "Caps",
         16416,
         134734,
         127.35
        ],
        [
         "F",
         "Young Adults (25-34)",
         "Vests",
         2280,
         131616,
         914.0
        ],
        [
         "F",
         "Young Adults (25-34)",
         "Gloves",
         6015,
         130628,
         321.74
        ],
        [
         "F",
         "Youth (<25)",
         "Shorts",
         1964,
         126802,
         1022.6
        ],
        [
         "M",
         "Youth (<25)",
         "Bottles and Cages",
         19295,
         113797,
         90.53
        ],
        [
         "M",
         "Youth (<25)",
         "Fenders",
         5540,
         110733,
         321.9
        ],
        [
         "F",
         "Youth (<25)",
         "Bottles and Cages",
         18194,
         105638,
         86.87
        ],
        [
         "M",
         "Young Adults (25-34)",
         "Bike Racks",
         910,
         99763,
         860.03
        ],
        [
         "M",
         "Young Adults (25-34)",
         "Caps",
         12144,
         99557,
         127.31
        ],
        [
         "M",
         "Youth (<25)",
         "Gloves",
         4515,
         98276,
         361.31
        ],
        [
         "F",
         "Young Adults (25-34)",
         "Caps",
         11594,
         92381,
         124.5
        ],
        [
         "F",
         "Adults (35-64)",
         "Bike Stands",
         600,
         87443,
         672.64
        ],
        [
         "M",
         "Adults (35-64)",
         "Bike Stands",
         615,
         87139,
         871.39
        ],
        [
         "M",
         "Youth (<25)",
         "Hydration Packs",
         1580,
         78543,
         677.09
        ],
        [
         "F",
         "Young Adults (25-34)",
         "Bike Racks",
         610,
         66159,
         806.82
        ],
        [
         "F",
         "Youth (<25)",
         "Fenders",
         3292,
         65378,
         242.14
        ],
        [
         "M",
         "Youth (<25)",
         "Vests",
         1099,
         63650,
         816.03
        ],
        [
         "F",
         "Youth (<25)",
         "Hydration Packs",
         1151,
         55708,
         696.35
        ],
        [
         "M",
         "Adults (35-64)",
         "Cleaners",
         7547,
         54083,
         109.04
        ],
        [
         "F",
         "Young Adults (25-34)",
         "Bike Stands",
         385,
         53717,
         688.68
        ],
        [
         "F",
         "Adults (35-64)",
         "Cleaners",
         6853,
         49835,
         111.74
        ],
        [
         "M",
         "Young Adults (25-34)",
         "Bike Stands",
         338,
         48164,
         752.56
        ],
        [
         "M",
         "Seniors (64+)",
         "Road Bikes",
         23,
         44154,
         3153.86
        ],
        [
         "F",
         "Youth (<25)",
         "Vests",
         733,
         43320,
         698.71
        ],
        [
         "F",
         "Youth (<25)",
         "Caps",
         5330,
         43073,
         114.56
        ],
        [
         "M",
         "Seniors (64+)",
         "Mountain Bikes",
         25,
         41447,
         2072.35
        ],
        [
         "F",
         "Youth (<25)",
         "Gloves",
         1863,
         40172,
         267.81
        ],
        [
         "M",
         "Youth (<25)",
         "Caps",
         4905,
         39851,
         116.52
        ],
        [
         "M",
         "Youth (<25)",
         "Bike Stands",
         275,
         39673,
         967.63
        ],
        [
         "M",
         "Adults (35-64)",
         "Socks",
         4136,
         34258,
         128.79
        ],
        [
         "F",
         "Young Adults (25-34)",
         "Cleaners",
         4602,
         33297,
         114.82
        ],
        [
         "F",
         "Adults (35-64)",
         "Socks",
         3910,
         32195,
         133.04
        ],
        [
         "M",
         "Young Adults (25-34)",
         "Cleaners",
         3952,
         28118,
         101.14
        ],
        [
         "F",
         "Seniors (64+)",
         "Helmets",
         854,
         27887,
         480.81
        ],
        [
         "M",
         "Young Adults (25-34)",
         "Socks",
         3374,
         27760,
         130.94
        ],
        [
         "M",
         "Seniors (64+)",
         "Tires and Tubes",
         2614,
         27438,
         161.4
        ],
        [
         "F",
         "Young Adults (25-34)",
         "Socks",
         3300,
         26687,
         134.78
        ],
        [
         "F",
         "Seniors (64+)",
         "Mountain Bikes",
         10,
         24803,
         4133.83
        ],
        [
         "F",
         "Youth (<25)",
         "Bike Stands",
         172,
         24061,
         633.18
        ],
        [
         "F",
         "Seniors (64+)",
         "Tires and Tubes",
         2210,
         23413,
         152.03
        ],
        [
         "M",
         "Youth (<25)",
         "Bike Racks",
         190,
         19781,
         760.81
        ],
        [
         "F",
         "Youth (<25)",
         "Bike Racks",
         173,
         18534,
         514.83
        ],
        [
         "M",
         "Seniors (64+)",
         "Jerseys",
         395,
         18096,
         822.55
        ],
        [
         "M",
         "Youth (<25)",
         "Cleaners",
         2284,
         16548,
         107.45
        ],
        [
         "F",
         "Youth (<25)",
         "Cleaners",
         2136,
         15530,
         127.3
        ],
        [
         "F",
         "Seniors (64+)",
         "Road Bikes",
         13,
         15329,
         1532.9
        ],
        [
         "M",
         "Youth (<25)",
         "Socks",
         1531,
         14908,
         146.16
        ],
        [
         "M",
         "Seniors (64+)",
         "Helmets",
         416,
         12868,
         338.63
        ],
        [
         "F",
         "Seniors (64+)",
         "Vests",
         174,
         10479,
         873.25
        ],
        [
         "F",
         "Youth (<25)",
         "Socks",
         1222,
         9728,
         108.09
        ],
        [
         "M",
         "Seniors (64+)",
         "Hydration Packs",
         135,
         6590,
         659.0
        ],
        [
         "M",
         "Seniors (64+)",
         "Bottles and Cages",
         778,
         5805,
         120.94
        ],
        [
         "F",
         "Seniors (64+)",
         "Fenders",
         263,
         5112,
         284.0
        ],
        [
         "F",
         "Seniors (64+)",
         "Touring Bikes",
         4,
         4763,
         2381.5
        ],
        [
         "M",
         "Seniors (64+)",
         "Touring Bikes",
         5,
         4563,
         1140.75
        ],
        [
         "M",
         "Seniors (64+)",
         "Fenders",
         225,
         4255,
         303.93
        ],
        [
         "M",
         "Seniors (64+)",
         "Vests",
         69,
         3724,
         931.0
        ],
        [
         "F",
         "Seniors (64+)",
         "Jerseys",
         73,
         3345,
         418.13
        ],
        [
         "F",
         "Seniors (64+)",
         "Hydration Packs",
         55,
         2995,
         1497.5
        ],
        [
         "F",
         "Seniors (64+)",
         "Bottles and Cages",
         381,
         2531,
         101.24
        ],
        [
         "F",
         "Seniors (64+)",
         "Shorts",
         40,
         2508,
         627.0
        ],
        [
         "F",
         "Seniors (64+)",
         "Gloves",
         121,
         2384,
         298.0
        ],
        [
         "M",
         "Seniors (64+)",
         "Gloves",
         95,
         2239,
         373.17
        ],
        [
         "M",
         "Seniors (64+)",
         "Shorts",
         30,
         1656,
         414.0
        ],
        [
         "F",
         "Seniors (64+)",
         "Bike Stands",
         10,
         1526,
         763.0
        ],
        [
         "M",
         "Seniors (64+)",
         "Caps",
         160,
         1278,
         91.29
        ],
        [
         "M",
         "Seniors (64+)",
         "Cleaners",
         168,
         1185,
         98.75
        ],
        [
         "M",
         "Seniors (64+)",
         "Bike Stands",
         8,
         1107,
         553.5
        ],
        [
         "F",
         "Seniors (64+)",
         "Caps",
         108,
         885,
         110.63
        ],
        [
         "F",
         "Seniors (64+)",
         "Socks",
         105,
         861,
         143.5
        ],
        [
         "F",
         "Seniors (64+)",
         "Bike Racks",
         8,
         845,
         211.25
        ],
        [
         "M",
         "Seniors (64+)",
         "Socks",
         100,
         774,
         129.0
        ],
        [
         "F",
         "Seniors (64+)",
         "Cleaners",
         32,
         225,
         56.25
        ]
       ],
       "datasetInfos": [],
       "dbfsResultPath": null,
       "isJsonSchema": true,
       "metadata": {},
       "overflow": false,
       "plotOptions": {
        "customPlotOptions": {},
        "displayType": "table",
        "pivotAggregation": null,
        "pivotColumns": null,
        "xColumns": null,
        "yColumns": null
       },
       "removedWidgets": [],
       "schema": [
        {
         "metadata": "{}",
         "name": "Gender",
         "type": "\"string\""
        },
        {
         "metadata": "{}",
         "name": "Age_Group",
         "type": "\"string\""
        },
        {
         "metadata": "{}",
         "name": "SubCategory_Product",
         "type": "\"string\""
        },
        {
         "metadata": "{}",
         "name": "Total_Vendas",
         "type": "\"long\""
        },
        {
         "metadata": "{}",
         "name": "Receita_Total",
         "type": "\"long\""
        },
        {
         "metadata": "{}",
         "name": "Ticket_Medio",
         "type": "\"double\""
        }
       ],
       "type": "table"
      }
     },
     "output_type": "display_data"
    }
   ],
   "source": [
    "%sql\n",
    "SELECT \n",
    "    c.Gender,\n",
    "    c.Age_Group,\n",
    "    p.SubCategory_Product,\n",
    "    SUM(f.Order_Quantity) AS Total_Vendas,\n",
    "    SUM(f.Revenue) AS Receita_Total,\n",
    "    ROUND(AVG(f.Revenue), 2) AS Ticket_Medio\n",
    "FROM gold.FactSales f\n",
    "JOIN gold.DimCustomers c ON f.ID_Customer = c.ID_Customer\n",
    "JOIN gold.DimProducts p ON f.ID_Product = p.ID_Product\n",
    "GROUP BY c.Gender, c.Age_Group, p.SubCategory_Product\n",
    "ORDER BY Receita_Total DESC;"
   ]
  },
  {
   "cell_type": "markdown",
   "metadata": {
    "application/vnd.databricks.v1+cell": {
     "cellMetadata": {
      "byteLimit": 2048000,
      "rowLimit": 10000
     },
     "inputWidgets": {},
     "nuid": "610c7425-ad0a-46a2-9397-c560bc2b5679",
     "showTitle": false,
     "tableResultSettingsMap": {},
     "title": ""
    }
   },
   "source": [
    "- Em quais tipos de produtos a empresa deve investir?\n",
    "  - **Resposta**: As *queries* abaixo demonstram que, embora a venda de bicicletas gere o maior lucro líquido total — devido ao alto ticket médio —, a margem de lucro percentual dessa categoria é uma das mais baixas. Isso indica que o retorno sobre o investimento não é tão vantajoso quanto parece à primeira vista.\n",
    "\n",
    "    Por outro lado, categorias como vestuário e acessórios (ex: meias, para-lamas, bermudas) apresentam margens de lucro mais altas. Além disso, esses produtos são comprados com mais frequência e têm ciclo de reposição mais curto, o que favorece maior rotatividade e fidelização dos clientes.\n",
    "\n",
    "    Dessa forma, a empresa deve considerar direcionar seus investimentos para essas categorias, priorizando itens de maior margem e maior frequência de compra."
   ]
  },
  {
   "cell_type": "code",
   "execution_count": 0,
   "metadata": {
    "application/vnd.databricks.v1+cell": {
     "cellMetadata": {
      "byteLimit": 2048000,
      "implicitDf": true,
      "rowLimit": 10000
     },
     "inputWidgets": {},
     "nuid": "6d26fe36-8c62-4ffb-8564-e7b87ef138c6",
     "showTitle": true,
     "tableResultSettingsMap": {},
     "title": "Lucro por classe de produto"
    }
   },
   "outputs": [
    {
     "output_type": "display_data",
     "data": {
      "text/html": [
       "<style scoped>\n",
       "  .table-result-container {\n",
       "    max-height: 300px;\n",
       "    overflow: auto;\n",
       "  }\n",
       "  table, th, td {\n",
       "    border: 1px solid black;\n",
       "    border-collapse: collapse;\n",
       "  }\n",
       "  th, td {\n",
       "    padding: 5px;\n",
       "  }\n",
       "  th {\n",
       "    text-align: left;\n",
       "  }\n",
       "</style><div class='table-result-container'><table class='table-result'><thead style='background-color: white'><tr><th>Category_Product</th><th>SubCategory_Product</th><th>total_profit</th></tr></thead><tbody><tr><td>Bikes</td><td>Road Bikes</td><td>10012631</td></tr><tr><td>Bikes</td><td>Mountain Bikes</td><td>8117801</td></tr><tr><td>Accessories</td><td>Helmets</td><td>3378696</td></tr><tr><td>Accessories</td><td>Tires and Tubes</td><td>2685467</td></tr><tr><td>Bikes</td><td>Touring Bikes</td><td>2269294</td></tr><tr><td>Clothing</td><td>Shorts</td><td>1034342</td></tr><tr><td>Accessories</td><td>Bottles and Cages</td><td>799882</td></tr><tr><td>Accessories</td><td>Fenders</td><td>748914</td></tr><tr><td>Clothing</td><td>Jerseys</td><td>603440</td></tr><tr><td>Accessories</td><td>Hydration Packs</td><td>572668</td></tr></tbody></table></div>"
      ]
     },
     "metadata": {
      "application/vnd.databricks.v1+output": {
       "addedWidgets": {},
       "aggData": [],
       "aggError": "",
       "aggOverflow": false,
       "aggSchema": [],
       "aggSeriesLimitReached": false,
       "aggType": "",
       "arguments": {},
       "columnCustomDisplayInfos": {},
       "data": [
        [
         "Bikes",
         "Road Bikes",
         10012631
        ],
        [
         "Bikes",
         "Mountain Bikes",
         8117801
        ],
        [
         "Accessories",
         "Helmets",
         3378696
        ],
        [
         "Accessories",
         "Tires and Tubes",
         2685467
        ],
        [
         "Bikes",
         "Touring Bikes",
         2269294
        ],
        [
         "Clothing",
         "Shorts",
         1034342
        ],
        [
         "Accessories",
         "Bottles and Cages",
         799882
        ],
        [
         "Accessories",
         "Fenders",
         748914
        ],
        [
         "Clothing",
         "Jerseys",
         603440
        ],
        [
         "Accessories",
         "Hydration Packs",
         572668
        ]
       ],
       "datasetInfos": [],
       "dbfsResultPath": null,
       "isJsonSchema": true,
       "metadata": {},
       "overflow": false,
       "plotOptions": {
        "customPlotOptions": {},
        "displayType": "table",
        "pivotAggregation": null,
        "pivotColumns": null,
        "xColumns": null,
        "yColumns": null
       },
       "removedWidgets": [],
       "schema": [
        {
         "metadata": "{}",
         "name": "Category_Product",
         "type": "\"string\""
        },
        {
         "metadata": "{}",
         "name": "SubCategory_Product",
         "type": "\"string\""
        },
        {
         "metadata": "{}",
         "name": "total_profit",
         "type": "\"long\""
        }
       ],
       "type": "table"
      }
     },
     "output_type": "display_data"
    }
   ],
   "source": [
    "%sql\n",
    "SELECT\n",
    "    dp.Category_Product,\n",
    "    dp.SubCategory_Product,\n",
    "    SUM(fs.Profit) AS total_profit\n",
    "FROM gold.FactSales fs\n",
    "JOIN gold.DimProducts dp \n",
    "  ON fs.ID_Product = dp.ID_Product\n",
    "GROUP BY \n",
    "    dp.Category_Product,\n",
    "    dp.SubCategory_Product\n",
    "ORDER BY \n",
    "    total_profit DESC\n",
    "LIMIT 10;"
   ]
  },
  {
   "cell_type": "code",
   "execution_count": 0,
   "metadata": {
    "application/vnd.databricks.v1+cell": {
     "cellMetadata": {
      "byteLimit": 2048000,
      "implicitDf": true,
      "rowLimit": 10000
     },
     "inputWidgets": {},
     "nuid": "243b627a-4ac1-4ceb-a52f-2d700a32282e",
     "showTitle": true,
     "tableResultSettingsMap": {},
     "title": "Margem percentual média por categoria"
    }
   },
   "outputs": [
    {
     "output_type": "display_data",
     "data": {
      "text/html": [
       "<style scoped>\n",
       "  .table-result-container {\n",
       "    max-height: 300px;\n",
       "    overflow: auto;\n",
       "  }\n",
       "  table, th, td {\n",
       "    border: 1px solid black;\n",
       "    border-collapse: collapse;\n",
       "  }\n",
       "  th, td {\n",
       "    padding: 5px;\n",
       "  }\n",
       "  th {\n",
       "    text-align: left;\n",
       "  }\n",
       "</style><div class='table-result-container'><table class='table-result'><thead style='background-color: white'><tr><th>Category_Product</th><th>SubCategory_Product</th><th>Margem_Percentual_Media</th></tr></thead><tbody><tr><td>Clothing</td><td>Socks</td><td>63.31</td></tr><tr><td>Accessories</td><td>Fenders</td><td>60.12</td></tr><tr><td>Clothing</td><td>Shorts</td><td>59.42</td></tr><tr><td>Accessories</td><td>Helmets</td><td>58.88</td></tr><tr><td>Accessories</td><td>Bike Racks</td><td>58.80</td></tr><tr><td>Clothing</td><td>Gloves</td><td>58.72</td></tr><tr><td>Accessories</td><td>Bike Stands</td><td>58.69</td></tr><tr><td>Accessories</td><td>Tires and Tubes</td><td>58.40</td></tr><tr><td>Accessories</td><td>Cleaners</td><td>58.29</td></tr><tr><td>Accessories</td><td>Hydration Packs</td><td>57.82</td></tr><tr><td>Accessories</td><td>Bottles and Cages</td><td>57.52</td></tr><tr><td>Clothing</td><td>Vests</td><td>54.66</td></tr><tr><td>Bikes</td><td>Mountain Bikes</td><td>38.62</td></tr><tr><td>Bikes</td><td>Touring Bikes</td><td>31.24</td></tr><tr><td>Bikes</td><td>Road Bikes</td><td>30.20</td></tr><tr><td>Clothing</td><td>Jerseys</td><td>14.67</td></tr><tr><td>Clothing</td><td>Caps</td><td>14.20</td></tr></tbody></table></div>"
      ]
     },
     "metadata": {
      "application/vnd.databricks.v1+output": {
       "addedWidgets": {},
       "aggData": [],
       "aggError": "",
       "aggOverflow": false,
       "aggSchema": [],
       "aggSeriesLimitReached": false,
       "aggType": "",
       "arguments": {},
       "columnCustomDisplayInfos": {},
       "data": [
        [
         "Clothing",
         "Socks",
         "63.31"
        ],
        [
         "Accessories",
         "Fenders",
         "60.12"
        ],
        [
         "Clothing",
         "Shorts",
         "59.42"
        ],
        [
         "Accessories",
         "Helmets",
         "58.88"
        ],
        [
         "Accessories",
         "Bike Racks",
         "58.80"
        ],
        [
         "Clothing",
         "Gloves",
         "58.72"
        ],
        [
         "Accessories",
         "Bike Stands",
         "58.69"
        ],
        [
         "Accessories",
         "Tires and Tubes",
         "58.40"
        ],
        [
         "Accessories",
         "Cleaners",
         "58.29"
        ],
        [
         "Accessories",
         "Hydration Packs",
         "57.82"
        ],
        [
         "Accessories",
         "Bottles and Cages",
         "57.52"
        ],
        [
         "Clothing",
         "Vests",
         "54.66"
        ],
        [
         "Bikes",
         "Mountain Bikes",
         "38.62"
        ],
        [
         "Bikes",
         "Touring Bikes",
         "31.24"
        ],
        [
         "Bikes",
         "Road Bikes",
         "30.20"
        ],
        [
         "Clothing",
         "Jerseys",
         "14.67"
        ],
        [
         "Clothing",
         "Caps",
         "14.20"
        ]
       ],
       "datasetInfos": [],
       "dbfsResultPath": null,
       "isJsonSchema": true,
       "metadata": {},
       "overflow": false,
       "plotOptions": {
        "customPlotOptions": {},
        "displayType": "table",
        "pivotAggregation": null,
        "pivotColumns": null,
        "xColumns": null,
        "yColumns": null
       },
       "removedWidgets": [],
       "schema": [
        {
         "metadata": "{}",
         "name": "Category_Product",
         "type": "\"string\""
        },
        {
         "metadata": "{}",
         "name": "SubCategory_Product",
         "type": "\"string\""
        },
        {
         "metadata": "{}",
         "name": "Margem_Percentual_Media",
         "type": "\"decimal(27,2)\""
        }
       ],
       "type": "table"
      }
     },
     "output_type": "display_data"
    }
   ],
   "source": [
    "%sql\n",
    "SELECT \n",
    "    p.Category_Product,\n",
    "    p.SubCategory_Product,\n",
    "    ROUND(SUM(f.Profit) * 100.0 / SUM(f.Revenue), 2) AS Margem_Percentual_Media\n",
    "FROM gold.FactSales f\n",
    "JOIN gold.DimProducts p ON f.ID_Product = p.ID_Product\n",
    "GROUP BY p.Category_Product, p.SubCategory_Product\n",
    "ORDER BY Margem_Percentual_Media DESC;"
   ]
  },
  {
   "cell_type": "markdown",
   "metadata": {
    "application/vnd.databricks.v1+cell": {
     "cellMetadata": {
      "byteLimit": 2048000,
      "rowLimit": 10000
     },
     "inputWidgets": {},
     "nuid": "686ecf51-9d75-4771-a0dc-32557e4ae29b",
     "showTitle": false,
     "tableResultSettingsMap": {},
     "title": ""
    }
   },
   "source": [
    "- Quais países representam os maiores mercados para a empresa?\n",
    "  - **Resposta**: A *query* a seguir revela que os principais mercados da empresa atualmente estão fora da Europa, com Estados Unidos e Austrália concentrando a maior parte do faturamento.\n",
    "\n",
    "    Apesar desse bom desempenho internacional, é importante destacar que a Europa é, de longe, o maior mercado global para o ciclismo. Isso evidencia uma grande oportunidade de expansão para a empresa no continente europeu, onde sua presença ainda está abaixo do potencial de mercado.\n",
    "\n",
    "    Investir em estratégias regionais de marketing, logística e portfólio adaptado ao perfil do consumidor europeu pode permitir à empresa ganhar representatividade em um mercado altamente promissor e alinhado ao seu setor de atuação."
   ]
  },
  {
   "cell_type": "code",
   "execution_count": 0,
   "metadata": {
    "application/vnd.databricks.v1+cell": {
     "cellMetadata": {
      "byteLimit": 2048000,
      "implicitDf": true,
      "rowLimit": 10000
     },
     "inputWidgets": {},
     "nuid": "c5cf95f7-6474-461f-9817-953658e97b76",
     "showTitle": true,
     "tableResultSettingsMap": {},
     "title": "Ranking de Países com maior faturamento"
    }
   },
   "outputs": [
    {
     "output_type": "display_data",
     "data": {
      "text/html": [
       "<style scoped>\n",
       "  .table-result-container {\n",
       "    max-height: 300px;\n",
       "    overflow: auto;\n",
       "  }\n",
       "  table, th, td {\n",
       "    border: 1px solid black;\n",
       "    border-collapse: collapse;\n",
       "  }\n",
       "  th, td {\n",
       "    padding: 5px;\n",
       "  }\n",
       "  th {\n",
       "    text-align: left;\n",
       "  }\n",
       "</style><div class='table-result-container'><table class='table-result'><thead style='background-color: white'><tr><th>Country</th><th>total_revenue</th></tr></thead><tbody><tr><td>United States</td><td>27777098</td></tr><tr><td>Australia</td><td>21196395</td></tr><tr><td>United Kingdom</td><td>10575628</td></tr><tr><td>Germany</td><td>8956724</td></tr><tr><td>France</td><td>8414745</td></tr><tr><td>Canada</td><td>7906182</td></tr></tbody></table></div>"
      ]
     },
     "metadata": {
      "application/vnd.databricks.v1+output": {
       "addedWidgets": {},
       "aggData": [],
       "aggError": "",
       "aggOverflow": false,
       "aggSchema": [],
       "aggSeriesLimitReached": false,
       "aggType": "",
       "arguments": {},
       "columnCustomDisplayInfos": {},
       "data": [
        [
         "United States",
         27777098
        ],
        [
         "Australia",
         21196395
        ],
        [
         "United Kingdom",
         10575628
        ],
        [
         "Germany",
         8956724
        ],
        [
         "France",
         8414745
        ],
        [
         "Canada",
         7906182
        ]
       ],
       "datasetInfos": [],
       "dbfsResultPath": null,
       "isJsonSchema": true,
       "metadata": {},
       "overflow": false,
       "plotOptions": {
        "customPlotOptions": {},
        "displayType": "table",
        "pivotAggregation": null,
        "pivotColumns": null,
        "xColumns": null,
        "yColumns": null
       },
       "removedWidgets": [],
       "schema": [
        {
         "metadata": "{}",
         "name": "Country",
         "type": "\"string\""
        },
        {
         "metadata": "{}",
         "name": "total_revenue",
         "type": "\"long\""
        }
       ],
       "type": "table"
      }
     },
     "output_type": "display_data"
    }
   ],
   "source": [
    "%sql\n",
    "SELECT \n",
    "    dr.Country,\n",
    "    SUM(fs.Revenue) AS total_revenue\n",
    "FROM gold.FactSales fs\n",
    "JOIN gold.DimRegion dr \n",
    "  ON fs.ID_Region = dr.ID_Region\n",
    "GROUP BY \n",
    "    dr.Country\n",
    "ORDER BY \n",
    "    total_revenue DESC;"
   ]
  },
  {
   "cell_type": "markdown",
   "metadata": {
    "application/vnd.databricks.v1+cell": {
     "cellMetadata": {
      "byteLimit": 2048000,
      "rowLimit": 10000
     },
     "inputWidgets": {},
     "nuid": "db839b9a-ee10-41b7-bb43-314be6516bbb",
     "showTitle": false,
     "tableResultSettingsMap": {},
     "title": ""
    }
   },
   "source": [
    "# 5. Conclusão"
   ]
  },
  {
   "cell_type": "markdown",
   "metadata": {
    "application/vnd.databricks.v1+cell": {
     "cellMetadata": {
      "byteLimit": 2048000,
      "rowLimit": 10000
     },
     "inputWidgets": {},
     "nuid": "e76efe6a-cbf5-4a7f-ac21-fce3b94c9294",
     "showTitle": false,
     "tableResultSettingsMap": {},
     "title": ""
    }
   },
   "source": [
    "A partir da definição inicial dos objetivos, este projeto teve como foco analisar o desempenho de vendas de uma empresa do setor de ciclismo e entender o comportamento de compra dos clientes, com o objetivo de identificar oportunidades de crescimento e melhorias estratégicas no portfólio.\n",
    "\n",
    "Com base nos dados históricos de vendas, estruturados em um modelo de dados Snowflake, foram feitas análises que permitiram responder às perguntas previamente estabelecidas. A seguir, discutem-se os principais achados:\n",
    "\n",
    "#### 1. Tipos de produtos que mais movimentam o mercado  \n",
    "A análise revelou que, embora produtos das categorias **Acessórios** e **Roupas** liderem em volume de vendas, são as **Bicicletas** que concentram o maior faturamento. Essa distinção entre volume e receita mostra que diferentes categorias cumprem papéis distintos na estratégia comercial: enquanto roupas e acessórios promovem recorrência de compra e fidelização, as bicicletas são peças-chave no resultado financeiro geral.\n",
    "\n",
    "#### 2. Variação no comportamento de compra por perfil de cliente  \n",
    "Os dados demonstram uma **tendência de equilíbrio** entre os gêneros no que diz respeito à compra de bicicletas, com volumes e faturamento similares entre homens e mulheres. Esse comportamento quebra paradigmas do setor e indica uma **oportunidade estratégica** de expansão no portfólio feminino, o qual ainda é pouco explorado no mercado como um todo.\n",
    "\n",
    "#### 3. Produtos com maior potencial de investimento  \n",
    "Apesar de as bicicletas representarem a maior fatia do faturamento total, sua **margem percentual de lucro é relativamente baixa**. Em contraste, categorias como vestuário e acessórios apresentam margens maiores e ciclo de recompra mais curto. Assim, a análise mostra que o ideal seria que a empresa equilibre seus investimentos no desenvolvimento de novos projetos, valorizando produtos de alta margem e frequência de compra, não apenas os de alto ticket.\n",
    "\n",
    "#### 4. Mercados com maior potencial de crescimento  \n",
    "Embora os maiores volumes de faturamento estejam atualmente concentrados em países como **Estados Unidos** e **Austrália**, há uma **sub-representação na Europa**, que é o principal mercado global do ciclismo. Isso aponta para uma **grande oportunidade de expansão** no continente europeu, desde que acompanhada de estratégias específicas de marketing e logística."
   ]
  },
  {
   "cell_type": "markdown",
   "metadata": {
    "application/vnd.databricks.v1+cell": {
     "cellMetadata": {},
     "inputWidgets": {},
     "nuid": "f5a1f442-3b1e-4b2a-b4ea-ffb8e26bf0f2",
     "showTitle": false,
     "tableResultSettingsMap": {},
     "title": ""
    }
   },
   "source": [
    "As análises realizadas permitiram responder de forma sólida às perguntas norteadoras do projeto. Mais do que apenas levantar números, os dados forneceram uma base concreta para **decisões estratégicas**, como a diversificação de portfólio, segmentação por perfil de cliente e definição de mercados-alvo.\n",
    "\n",
    "A estruturação dos dados em camadas (Bronze, Silver e Gold) e a adoção de boas práticas de modelagem (modelo Snowflake) facilitaram a construção de análises confiáveis e escaláveis. A empresa, com base nesses insights, está mais preparada para otimizar seus investimentos, ampliar sua base de clientes e crescer de forma sustentável em mercados estratégicos.\n"
   ]
  },
  {
   "cell_type": "markdown",
   "metadata": {
    "application/vnd.databricks.v1+cell": {
     "cellMetadata": {
      "byteLimit": 2048000,
      "rowLimit": 10000
     },
     "inputWidgets": {},
     "nuid": "0eb6a34b-485f-4993-9ffd-ec38a0400c8f",
     "showTitle": false,
     "tableResultSettingsMap": {},
     "title": ""
    }
   },
   "source": [
    "O que falta?\n",
    "1. Validar a parte de data quality\n",
    "2. Revisar a conclusão\n",
    "3. Jogar no github\n",
    "4. Montar o ReadMe\n"
   ]
  },
  {
   "cell_type": "code",
   "execution_count": 0,
   "metadata": {
    "application/vnd.databricks.v1+cell": {
     "cellMetadata": {
      "byteLimit": 2048000,
      "rowLimit": 10000
     },
     "inputWidgets": {},
     "nuid": "e849687b-f679-4aed-ab36-2062b529e9ee",
     "showTitle": false,
     "tableResultSettingsMap": {},
     "title": ""
    }
   },
   "outputs": [],
   "source": []
  }
 ],
 "metadata": {
  "application/vnd.databricks.v1+notebook": {
   "computePreferences": null,
   "dashboards": [],
   "environmentMetadata": {
    "base_environment": "",
    "environment_version": "1"
   },
   "inputWidgetPreferences": null,
   "language": "python",
   "notebookMetadata": {
    "mostRecentlyExecutedCommandWithImplicitDF": {
     "commandId": 4406908700183326,
     "dataframes": [
      "_sqldf"
     ]
    },
    "pythonIndentUnit": 4
   },
   "notebookName": "MVP Engenharia de Dados - PedroABull",
   "widgets": {}
  }
 },
 "nbformat": 4,
 "nbformat_minor": 0
}